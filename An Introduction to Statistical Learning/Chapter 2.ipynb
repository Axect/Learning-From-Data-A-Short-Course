{
 "cells": [
  {
   "cell_type": "markdown",
   "metadata": {},
   "source": [
    "## Problem 1\n",
    "\n",
    "### (a)\n",
    "\n",
    "We expect a flexible method to be better than an inflexible method. Large sample size can reduce overfitting from a flexible metod while having a better general performan than a less flexible method.\n",
    "\n",
    "### (b)\n",
    "\n",
    "We expect an inflexible method to be better than a flexible method. With small observations and large predictors, flexible methods tend to overfit.\n",
    "\n",
    "### (c)\n",
    "\n",
    "We expect a flexible method to be better than an inflexible method. Flexible method can approximate non-linear relationship better than less flexible method.\n",
    "\n",
    "### (d)\n",
    "We expect an inflexible method to be better than a flexible method. Flexible methods tend to overfit to errors when the error terms have high variance.\n",
    "\n",
    "## Problem 2\n",
    "\n",
    "### (a)\n",
    "\n",
    "An inference regression. $n=500$, $p=3$.\n",
    "\n",
    "### (b)\n",
    "\n"
   ]
  },
  {
   "cell_type": "code",
   "execution_count": null,
   "metadata": {},
   "outputs": [],
   "source": []
  }
 ],
 "metadata": {
  "kernelspec": {
   "display_name": "Python 3",
   "language": "python",
   "name": "python3"
  },
  "language_info": {
   "codemirror_mode": {
    "name": "ipython",
    "version": 3
   },
   "file_extension": ".py",
   "mimetype": "text/x-python",
   "name": "python",
   "nbconvert_exporter": "python",
   "pygments_lexer": "ipython3",
   "version": "3.7.3"
  }
 },
 "nbformat": 4,
 "nbformat_minor": 2
}
