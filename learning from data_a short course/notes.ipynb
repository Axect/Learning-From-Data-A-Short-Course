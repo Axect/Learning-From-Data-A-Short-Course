{
 "cells": [
  {
   "cell_type": "markdown",
   "metadata": {},
   "source": [
    "# Chapter 1 The Learning Problem\n",
    "\n",
    "Learning from data is used in situations where we don't have an analytic solution, but we do have data that we can use to construct an empirical solution.\n",
    "\n",
    "## 1.1 Problem Setup\n",
    "Consider the problem of predicting how a movie viewer would rate the various movies out there. The power of learning from data is that we don't need to analyze movie content or viewer taste. The learning algorithm 'reverse-engineers' the factors (which can impact rating) based solely on previous ratings.\n",
    "\n",
    "### 1.1.2 A Simple Learning Model\n",
    "\n",
    "#### The Perceptron Classifier\n",
    "* The output space: $\\mathcal{Y}=\\{+1,-1\\}$\n",
    "* The Hypothesis space $\\mathcal{H}$ is called the perceptron if the functions are of the form $h(x) = sign\\left(\\left(\\sum^{d}_{i=1}w_ix_i\\right)+b\\right)$ or $sign(w^Tx)$ if we merge $b$ into $w$\n",
    "* The perceptron learning algorithm (PLA)\n",
    "  * Update rule: at each iteration $t$, for each misclassified point $\\left(x(t),y(t)\\right)$, update $w(t+1) = w(t) + y(t)x(t)$\n",
    "  * The update rule moves in the direction of classifying $x(t)$ correctly.\n",
    "* If the data set if **linearly separable**, it is guaranteed that **PLA** will find some parameters $w,b$ that classifies all the training examples correctly.  "
   ]
  },
  {
   "cell_type": "code",
   "execution_count": null,
   "metadata": {},
   "outputs": [],
   "source": []
  }
 ],
 "metadata": {
  "kernelspec": {
   "display_name": "Python 3",
   "language": "python",
   "name": "python3"
  },
  "language_info": {
   "codemirror_mode": {
    "name": "ipython",
    "version": 3
   },
   "file_extension": ".py",
   "mimetype": "text/x-python",
   "name": "python",
   "nbconvert_exporter": "python",
   "pygments_lexer": "ipython3",
   "version": "3.7.3"
  }
 },
 "nbformat": 4,
 "nbformat_minor": 2
}
