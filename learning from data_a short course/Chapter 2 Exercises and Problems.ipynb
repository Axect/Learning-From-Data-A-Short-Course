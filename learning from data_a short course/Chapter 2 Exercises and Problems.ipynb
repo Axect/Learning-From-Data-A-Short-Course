{
 "cells": [
  {
   "cell_type": "markdown",
   "metadata": {},
   "source": [
    "# Chapter 2 Training and Testing\n",
    "## Exercises\n",
    "\n",
    "#### Exercise 2.1\n",
    "1. Positive rays: break point $k = 2$ and $m_{\\mathcal{H}}(k) = k+1 = 3 \\lt 2^k = 4$.\n",
    "1. Positive intervals: break point $k = 3$ and $m_{\\mathcal{H}}(k) = {k+1 \\choose 2} +1 = 7 \\lt 2^k = 8$.\n",
    "1. Convex sets: no break point exists. For any $k$, we can find a set of $k$ points on a circle that can be shattered. \n",
    "\n",
    "#### Exercise 2.2\n",
    "1. (a) \n",
    "  * (i) $k=2$, $RHS = \\sum^{1}_{i=0}{N \\choose i} = N+1$, while $m_{\\mathcal{H}}(N) = N+1$, so $m_{\\mathcal{H}}(N) \\le \\sum^{k}_{i=0}{N \\choose i}$\n",
    "  * (ii) $k=3$, $RHS = \\sum^{2}_{i=0}{N \\choose i} = \\frac{N(N-1)}{2} + N+1 = \\frac{N(N+1)}{2} + 1$, while $m_{\\mathcal{H}}(N) = {N+1 \\choose 2}+1 = \\frac{N(N+1)}{2} + 1$, so $m_{\\mathcal{H}}(N) \\le \\sum^{k}_{i=0}{N \\choose i}$\n",
    "  * (iii) There's no such $k$ exists. Maximum $k = N+1$, since $\\sum^{N}_{i=0}{N \\choose i} = 2^N$, we still have $m_{\\mathcal{H}}(N) \\le \\sum^{k}_{i=0}{N \\choose i}$\n",
    "  \n",
    "1. (b) If $m_{\\mathcal{H}}(N) = N+2^{\\frac{N}{2}}$, then the break point $k=3$. According to bound theorem 2.4, we have for all $N$, $m_{\\mathcal{H}}(N) = N+2^{\\frac{N}{2}} \\le \\sum^{2}_{i=0}{N \\choose i} = \\frac{N(N+1)}{2} + 1$. But this won't hold for all $N$ since left hand side is exponentially increasing while the RHS is polynomical increasing. For example, when $N=20$, the inequality breaks. So such hypothesis set doesn't exist. \n",
    "\n",
    "#### Exercise 2.3\n",
    "1. (i) $d_{VC} = 1$\n",
    "1. (ii) $d_{VC} = 2$\n",
    "1. (iii) $d_{VC} = \\infty$"
   ]
  },
  {
   "cell_type": "markdown",
   "metadata": {},
   "source": [
    "#### Exercise 2.4\n",
    "1. (a) "
   ]
  }
 ],
 "metadata": {
  "kernelspec": {
   "display_name": "Python 3",
   "language": "python",
   "name": "python3"
  },
  "language_info": {
   "codemirror_mode": {
    "name": "ipython",
    "version": 3
   },
   "file_extension": ".py",
   "mimetype": "text/x-python",
   "name": "python",
   "nbconvert_exporter": "python",
   "pygments_lexer": "ipython3",
   "version": "3.7.3"
  }
 },
 "nbformat": 4,
 "nbformat_minor": 2
}
