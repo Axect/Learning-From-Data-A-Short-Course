{
 "cells": [
  {
   "cell_type": "markdown",
   "metadata": {},
   "source": [
    "# Chapter 2 Training and Testing\n",
    "## Exercises\n",
    "\n",
    "#### Exercise 2.1\n",
    "1. Positive rays: break point $k = 2$ and $m_{\\mathcal{H}}(k) = k+1 = 3 \\lt 2^k = 4$.\n",
    "1. Positive intervals: break point $k = 3$ and $m_{\\mathcal{H}}(k) = {k+1 \\choose 2} +1 = 7 \\lt 2^k = 8$.\n",
    "1. Convex sets: no break point exists. For any $k$, we can find a set of $k$ points on a circle that can be shattered. \n",
    "\n",
    "#### Exercise 2.2\n",
    "1. (a) \n",
    "  * (i) $k=2$, $RHS = \\sum^{1}_{i=0}{N \\choose i} = N+1$, while $m_{\\mathcal{H}}(N) = N+1$, so $m_{\\mathcal{H}}(N) \\le \\sum^{k}_{i=0}{N \\choose i}$\n",
    "  * (ii) $k=3$, $RHS = \\sum^{2}_{i=0}{N \\choose i} = \\frac{N(N-1)}{2} + N+1 = \\frac{N(N+1)}{2} + 1$, while $m_{\\mathcal{H}}(N) = {N+1 \\choose 2}+1 = \\frac{N(N+1)}{2} + 1$, so $m_{\\mathcal{H}}(N) \\le \\sum^{k}_{i=0}{N \\choose i}$\n",
    "  * (iii) There's no such $k$ exists. Maximum $k = N+1$, since $\\sum^{N}_{i=0}{N \\choose i} = 2^N$, we still have $m_{\\mathcal{H}}(N) \\le \\sum^{k}_{i=0}{N \\choose i}$\n",
    "  \n",
    "1. (b) If $m_{\\mathcal{H}}(N) = N+2^{\\frac{N}{2}}$, then the break point $k=3$. According to bound theorem 2.4, we have for all $N$, $m_{\\mathcal{H}}(N) = N+2^{\\frac{N}{2}} \\le \\sum^{2}_{i=0}{N \\choose i} = \\frac{N(N+1)}{2} + 1$. But this won't hold for all $N$ since left hand side is exponentially increasing while the RHS is polynomical increasing. For example, when $N=20$, the inequality breaks. So such hypothesis set doesn't exist. \n",
    "\n",
    "#### Exercise 2.3\n",
    "1. (i) $d_{VC} = 1$\n",
    "1. (ii) $d_{VC} = 2$\n",
    "1. (iii) $d_{VC} = \\infty$"
   ]
  },
  {
   "cell_type": "markdown",
   "metadata": {},
   "source": [
    "#### Exercise 2.4 TODO\n",
    "1. (a) \n",
    "\n",
    "#### Exercise 2.5\n",
    "Through equation (2.12), we find that $\\delta = 709.527509678$, so the probability is just greater or equal to zero. \n",
    "\n",
    "#### Exercise 2.6 TODO\n",
    "\n",
    "#### Exercise 2.7 \n",
    "1. (a) \n",
    "\\begin{align}\n",
    "P[h(x)\\ne f(x)] &= P[h(x)\\ne f(x)]\\cdot 1 + P[h(x) = f(x)]\\cdot0 \\\\\n",
    "&= P[h(x)\\ne f(x)] (h(x)-f(x))^2 + P[h(x) = f(x)](h(x)-f(x))^2 \\\\\n",
    "&= E[(h(x)-f(x))^2]\n",
    "\\end{align}\n",
    "\n",
    "1. (b) \n",
    "\\begin{align}\n",
    "P[h(x)\\ne f(x)] &= \\frac{1}{4}P[h(x)\\ne f(x)]\\cdot 4 + \\frac{1}{4}P[h(x) = f(x)]\\cdot0 \\\\\n",
    "&= \\frac{1}{4}P[h(x)\\ne f(x)] (h(x)-f(x))^2 + \\frac{1}{4}P[h(x) = f(x)](h(x)-f(x))^2 \\\\\n",
    "&= \\frac{1}{4}E[(h(x)-f(x))^2]\n",
    "\\end{align}"
   ]
  },
  {
   "cell_type": "code",
   "execution_count": 2,
   "metadata": {},
   "outputs": [
    {
     "data": {
      "text/plain": [
       "(709.5275096780147, 1.1331484530668263)"
      ]
     },
     "execution_count": 2,
     "metadata": {},
     "output_type": "execute_result"
    }
   ],
   "source": [
    "import numpy as np\n",
    "N = 100\n",
    "d = 0.1\n",
    "mh = 2*N + 1\n",
    "delta = 4*mh / np.exp(N * d**2 /8)\n",
    "delta, np.exp(N * d**2 /8)"
   ]
  },
  {
   "cell_type": "code",
   "execution_count": 6,
   "metadata": {},
   "outputs": [
    {
     "name": "stdout",
     "output_type": "stream",
     "text": [
      "test bound:  0.09603227913199208\n"
     ]
    },
    {
     "data": {
      "text/plain": [
       "0.11509037065006825"
      ]
     },
     "execution_count": 6,
     "metadata": {},
     "output_type": "execute_result"
    }
   ],
   "source": [
    "import numpy as np\n",
    "N = 200\n",
    "epsilon = 0.05\n",
    "# test bound\n",
    "print('test bound: ', np.sqrt(np.log(2/epsilon)/2/N))\n",
    "\n",
    "# train bound\n",
    "M = 1000\n",
    "N = 400\n",
    "np.sqrt(np.log(2*M/epsilon)/2/N)"
   ]
  },
  {
   "cell_type": "markdown",
   "metadata": {},
   "source": [
    "#### Problem 2.1\n",
    "\n",
    "For $\\epsilon \\le k$, we have $N \\ge \\frac{1}{2k^2}ln\\frac{2M}{\\delta}$"
   ]
  },
  {
   "cell_type": "code",
   "execution_count": 10,
   "metadata": {},
   "outputs": [
    {
     "name": "stdout",
     "output_type": "stream",
     "text": [
      "Samples needed for M = 1:\tN = 839.9410155759854\n",
      "Samples needed for M = 100:\tN = 1760.9750527736032\n",
      "Samples needed for M = 10000:\tN = 2682.0090899712213\n"
     ]
    }
   ],
   "source": [
    "def calc_N(M, delta, k):\n",
    "    return np.log(2*M/delta)/2/k/k\n",
    "delta = 0.03\n",
    "k = 0.05\n",
    "for M in [1,100, 10000]:\n",
    "    N = calc_N(M, delta, k)\n",
    "    print(\"Samples needed for M = {}:\\tN = {}\".format(M, N))\n"
   ]
  },
  {
   "cell_type": "markdown",
   "metadata": {},
   "source": [
    "#### Problem 2.5\n",
    "\n",
    "For $N=1$, "
   ]
  }
 ],
 "metadata": {
  "kernelspec": {
   "display_name": "Python 3",
   "language": "python",
   "name": "python3"
  },
  "language_info": {
   "codemirror_mode": {
    "name": "ipython",
    "version": 3
   },
   "file_extension": ".py",
   "mimetype": "text/x-python",
   "name": "python",
   "nbconvert_exporter": "python",
   "pygments_lexer": "ipython3",
   "version": "3.7.3"
  }
 },
 "nbformat": 4,
 "nbformat_minor": 2
}
