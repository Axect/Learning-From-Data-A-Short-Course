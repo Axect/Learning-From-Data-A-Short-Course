{
 "cells": [
  {
   "cell_type": "markdown",
   "metadata": {},
   "source": [
    "# Chapter 2 Training and Testing\n",
    "## Exercises\n",
    "\n",
    "#### Exercise 2.1\n",
    "1. Positive rays: break point $k = 2$ and $m_{\\mathcal{H}}(k) = k+1 = 3 \\lt 2^k = 4$.\n",
    "1. Positive intervals: break point $k = 3$ and $m_{\\mathcal{H}}(k) = {k+1 \\choose 2} +1 = 7 \\lt 2^k = 8$.\n",
    "1. Convex sets: no break point exists. For any $k$, we can find a set of $k$ points on a circle that can be shattered. \n",
    "\n",
    "#### Exercise 2.2\n",
    "1. (a) \n",
    "  * (i) $k=2$, $RHS = \\sum^{1}_{i=0}{N \\choose i} = N+1$, while $m_{\\mathcal{H}}(N) = N+1$, so $m_{\\mathcal{H}}(N) \\le \\sum^{k}_{i=0}{N \\choose i}$\n",
    "  * (ii) $k=3$, $RHS = \\sum^{2}_{i=0}{N \\choose i} = \\frac{N(N-1)}{2} + N+1 = \\frac{N(N+1)}{2} + 1$, while $m_{\\mathcal{H}}(N) = {N+1 \\choose 2}+1 = \\frac{N(N+1)}{2} + 1$, so $m_{\\mathcal{H}}(N) \\le \\sum^{k}_{i=0}{N \\choose i}$\n",
    "  * (iii) There's no such $k$ exists. Maximum $k = N+1$, since $\\sum^{N}_{i=0}{N \\choose i} = 2^N$, we still have $m_{\\mathcal{H}}(N) \\le \\sum^{k}_{i=0}{N \\choose i}$\n",
    "  \n",
    "1. (b) If $m_{\\mathcal{H}}(N) = N+2^{\\frac{N}{2}}$, then the break point $k=3$. According to bound theorem 2.4, we have for all $N$, $m_{\\mathcal{H}}(N) = N+2^{\\frac{N}{2}} \\le \\sum^{2}_{i=0}{N \\choose i} = \\frac{N(N+1)}{2} + 1$. But this won't hold for all $N$ since left hand side is exponentially increasing while the RHS is polynomical increasing. For example, when $N=20$, the inequality breaks. So such hypothesis set doesn't exist. \n",
    "\n",
    "#### Exercise 2.3\n",
    "1. (i) $d_{VC} = 1$\n",
    "1. (ii) $d_{VC} = 2$\n",
    "1. (iii) $d_{VC} = \\infty$\n",
    "\n",
    "#### Exercise 2.4 TODO\n",
    "1. (a) \n",
    "\n",
    "#### Exercise 2.5\n",
    "Through equation (2.12), we find that $\\delta = 709.527509678$, so the probability is just greater or equal to zero. "
   ]
  },
  {
   "cell_type": "code",
   "execution_count": 13,
   "metadata": {},
   "outputs": [
    {
     "data": {
      "text/plain": [
       "(709.5275096780147, 1.1331484530668263)"
      ]
     },
     "execution_count": 13,
     "metadata": {},
     "output_type": "execute_result"
    }
   ],
   "source": [
    "# Exercise 2.5\n",
    "import numpy as np\n",
    "N = 100\n",
    "d = 0.1\n",
    "mh = 2*N + 1\n",
    "delta = 4*mh / np.exp(N * d**2 /8)\n",
    "delta, np.exp(N * d**2 /8)"
   ]
  },
  {
   "cell_type": "markdown",
   "metadata": {},
   "source": [
    "#### Exercise 2.6\n",
    "* (a) Apply the error bar in $(2.1)$, i.e. $E_{out}(g) \\le E_{in}(g) + \\sqrt{\\frac{1}{2N}\\ln{\\frac{2M}{\\delta}}}$. \n",
    "\n",
    "The following calculation shows that error on $E_{in}(g) = 0.1151$ and error on $E_{test}(g) = 0.096$. So the error bar on in-sample error is higher than the error bar from test error. \n",
    "\n",
    "* (b) If we reserve more examples for testing, then we'll have less samples for training. We may end up with a hypothesis that is not as good as we could have arrived if using more training samples. So $E_{test}(g)$ might be way too off even the error bar on it is small."
   ]
  },
  {
   "cell_type": "code",
   "execution_count": 11,
   "metadata": {},
   "outputs": [
    {
     "name": "stdout",
     "output_type": "stream",
     "text": [
      "test bound:  0.09603227913199208\n",
      "train bound:  0.11509037065006825\n"
     ]
    }
   ],
   "source": [
    "# Exercise 2.6\n",
    "import numpy as np\n",
    "epsilon = 0.05\n",
    "\n",
    "N = 200\n",
    "# test bound\n",
    "print('test bound: ', np.sqrt(np.log(2/epsilon)/2/N))\n",
    "\n",
    "# train bound\n",
    "M = 1000\n",
    "N = 400\n",
    "print('train bound: ', np.sqrt(np.log(2*M/epsilon)/2/N))"
   ]
  },
  {
   "cell_type": "markdown",
   "metadata": {},
   "source": [
    "#### Exercise 2.7 \n",
    "1. (a) \n",
    "\\begin{align}\n",
    "P[h(x)\\ne f(x)] &= P[h(x)\\ne f(x)]\\cdot 1 + P[h(x) = f(x)]\\cdot0 \\\\\n",
    "&= P[h(x)\\ne f(x)] (h(x)-f(x))^2 + P[h(x) = f(x)](h(x)-f(x))^2 \\\\\n",
    "&= E[(h(x)-f(x))^2]\n",
    "\\end{align}\n",
    "\n",
    "1. (b) \n",
    "\\begin{align}\n",
    "P[h(x)\\ne f(x)] &= \\frac{1}{4}P[h(x)\\ne f(x)]\\cdot 4 + \\frac{1}{4}P[h(x) = f(x)]\\cdot0 \\\\\n",
    "&= \\frac{1}{4}P[h(x)\\ne f(x)] (h(x)-f(x))^2 + \\frac{1}{4}P[h(x) = f(x)](h(x)-f(x))^2 \\\\\n",
    "&= \\frac{1}{4}E[(h(x)-f(x))^2]\n",
    "\\end{align}\n",
    "\n",
    "#### Exercise 2.8\n",
    "\n",
    "1. (a) If $\\mathcal{H}$ is closed under linear combination, for any $x$, $\\bar{g}(x)$ is weighted (by probability of data) average of hypotheses in $\\mathcal{H}$, so $\\bar{g}(x) \\in \\mathcal{H}$.\n",
    "\n",
    "1. (b) If $\\mathcal{H}$ is a set of functions defined on intervals, e.g. $f(x) = c$ when $x \\in [a,b]$, otherwise $f(x) = 0$. Then $\\bar{g}(x)$ probably won't have constant value in an interval and not in the original hypothesis set.\n",
    "\n",
    "1. (c) For binary classification, each $g(x)$ will have value $+1$ or $-1$, when weighted by probabilities, the average is not binary any more. "
   ]
  },
  {
   "cell_type": "markdown",
   "metadata": {},
   "source": [
    "#### Problem 2.1\n",
    "\n",
    "For $\\epsilon \\le k$, we have $N \\ge \\frac{1}{2k^2}ln\\frac{2M}{\\delta}$"
   ]
  },
  {
   "cell_type": "code",
   "execution_count": 10,
   "metadata": {},
   "outputs": [
    {
     "name": "stdout",
     "output_type": "stream",
     "text": [
      "Samples needed for M = 1:\tN = 839.9410155759854\n",
      "Samples needed for M = 100:\tN = 1760.9750527736032\n",
      "Samples needed for M = 10000:\tN = 2682.0090899712213\n"
     ]
    }
   ],
   "source": [
    "def calc_N(M, delta, k):\n",
    "    return np.log(2*M/delta)/2/k/k\n",
    "delta = 0.03\n",
    "k = 0.05\n",
    "for M in [1,100, 10000]:\n",
    "    N = calc_N(M, delta, k)\n",
    "    print(\"Samples needed for M = {}:\\tN = {}\".format(M, N))\n"
   ]
  },
  {
   "cell_type": "markdown",
   "metadata": {},
   "source": [
    "#### Problem 2.2\n",
    "For $N=4$, we can pick points: $(1,3),(2,4),(3,1),(4,2)$. It's easy to see that these points are shattered by positive rectangles. So $m_{\\mathcal{H}}(4) = 2^4$.\n",
    "\n",
    "The idea is that for any two points, if we draw a rectangle using them as diagnoal points, the rectangle should NOT contain any other point. Otherwise, whenever the two diagnoal points have values 1, the middle point will have value 1 as well, which excludes the possibility of having -1. \n",
    "\n",
    "For $N=5$, if we draw horizontal and vertical lines through each of the four points above, the plane is divided into grids. The four points enclusing a 9-grid area. It's clear that the fifth point can't lie within the 9-grid area. Otherwise, there'll always a rectangle (constructed by two points) contains the fifth point. \n",
    "\n",
    "In the same way, if we place the fifth point outside the 9-grid area, it's easy to see that the point will always lie below or above at least two points (in either x or y direction). These three points construct a rectangle which contains a point in it. \n",
    "This shows that $m_{\\mathcal{H}}(5) \\lt 2^5$.\n",
    "\n",
    "We have the VC dimension $d_{VC}(\\mathcal{H}) = 4$, and $m_{\\mathcal{H}}(N) \\le \\sum^{4}_{i=0} {N \\choose i}$.\n",
    "\n",
    "#### Problem 2.3\n",
    "1. (a) $d_{VC}(\\mathcal{H}) = 2$, $m_{\\mathcal{H}}(N) = {N+1 \\choose 1} + {N-1 \\choose 1} = 2N$\n",
    "\n",
    "1. (b) $d_{VC}(\\mathcal{H}) = 3$, $m_{\\mathcal{H}}(N) = {N+1 \\choose 2}+1 +{N-1 \\choose 2} = N^2 - N + 2$\n",
    "\n",
    "1. (c) $d_{VC}(\\mathcal{H}) = 2$, $m_{\\mathcal{H}}(N) = {N+1 \\choose 2}+1 = \\frac{(N+1)N}{2} + 1$"
   ]
  },
  {
   "cell_type": "markdown",
   "metadata": {},
   "source": [
    "#### Problem 2.4 TODO\n",
    "\n",
    "#### Problem 2.5\n",
    "\n",
    "* For $N=1$, \n",
    "  * if $D=0$, $\\sum^{D}_{i=0}{N \\choose i} = {1 \\choose 0 }\\le N^D + 1 = 2$.\n",
    "  * if $D=1$, $\\sum^{D}_{i=0}{N \\choose i} = {1 \\choose 0 } + {1 \\choose 1} \\le N^D + 1 = 2$.\n",
    "* Suppose the inequality is valid at $N$ or less. let's see what happens at $N+1$.\n",
    "\n",
    "\\begin{align}\n",
    "\\sum^{D}_{i=0}{N+1 \\choose i} &= \\sum^{D}_{i=0}{N \\choose i} + {N \\choose i-1}\\\\\n",
    "&= \\sum^{D}_{i=0}{N \\choose i} + \\sum^{D-1}_{k=0}{N \\choose k}\\\\\n",
    "&\\le N^D + 1 + N^{D-1} + 1\\\\\n",
    "&= (N^D + N^{D-1} + 1) + 1\\\\\n",
    "&\\le (N+1)^D + 1\n",
    "\\end{align}\n",
    "\n",
    "The last inequality is obvious when $D \\gt 1$ and we expand $(N+1)^D$ into terms of $N$, i.e. $(N+1)^D = \\sum_{k=0}^{D} {D \\choose k}N^k$\n",
    "\n",
    "* When $D=0$, we have $\\sum^{D}_{i=0}{N \\choose i} = {N \\choose 0 }\\le N^0 + 1 = 1$.\n",
    "* When $D=1$, we have $\\sum^{D}_{i=0}{N \\choose i} = {N \\choose 0 } + {N \\choose 1 } = 1 + N \\le N^1 + 1$.\n",
    "\n",
    "So we proved $\\sum^{D}_{i=0}{N \\choose i} \\le N^D + 1$. Hence $m_{\\mathcal{H}}(N) \\le  \\sum^{d_{VC}}_{i=0}{N \\choose i} \\le N^{d_{VC}}+1$.\n",
    "\n",
    "#### Problem 2.6\n",
    "1. (a) $\\sum^{d}_{i=0}{N \\choose i} \\le \\sum^{d}_{i=0}{N \\choose i} (\\frac{N}{d})^{d-i} = (\\frac{N}{d})^d \\sum^{d}_{i=0}{N \\choose i} (\\frac{d}{N})^{i} \\le (\\frac{N}{d})^d \\sum^{N}_{i=0}{N \\choose i} (\\frac{d}{N})^{i}$\n",
    "\n",
    "The first inequality is valid because $\\frac{N}{d} \\ge 1$ for $N\\ge d$, and $d-i\\ge 0$, so $(\\frac{N}{d})^{d-i} \\ge 1$.\n",
    "\n",
    "1. (b) $\\sum^{N}_{i=0}{N \\choose i} (\\frac{d}{N})^{i} = (\\frac{d}{N} + 1)^N = (1 + \\frac{1}{N/d})^{(N/d)d} \\le e^d$ from Binomial theorem $(1+\\frac{1}{x})^x \\le e$ for $x\\gt 0$.\n",
    "We thus have $\\sum^{d}_{i=0}{N \\choose i} \\le (\\frac{N}{d})^d \\sum^{N}_{i=0}{N \\choose i} (\\frac{d}{N})^{i} \\le (\\frac{N}{d})^d e^d \\le (\\frac{eN}{d})^d$.\n",
    "\n",
    "By theorem 2.4, we have $m_{\\mathcal{H}}(N) \\le \\sum^{d_{VC}}_{i=0}{N \\choose i} \\le (\\frac{eN}{d_{VC}})^{d_{VC}}$."
   ]
  },
  {
   "cell_type": "markdown",
   "metadata": {},
   "source": [
    "#### Problem 2.7\n",
    "When $d_{VC}$ is small, I would like to use bound in problem 2.5, and when $d_{VC}$ is large, I would like to use bound in problem 2.6. The point is to choose a smaller bound so we get a tigher bound on error estimate."
   ]
  },
  {
   "cell_type": "code",
   "execution_count": 62,
   "metadata": {
    "scrolled": true
   },
   "outputs": [
    {
     "data": {
      "text/plain": [
       "Text(0.5, 1.0, 'dvc = 5')"
      ]
     },
     "execution_count": 62,
     "metadata": {},
     "output_type": "execute_result"
    },
    {
     "data": {
      "image/png": "[encoded data removed]",
      "text/plain": [
       "<Figure size 432x288 with 2 Axes>"
      ]
     },
     "metadata": {
      "needs_background": "light"
     },
     "output_type": "display_data"
    }
   ],
   "source": [
    "#### Problem 2.7\n",
    "import matplotlib.pyplot as plt\n",
    "\n",
    "def bound1(N, d):\n",
    "    return N**d + 1\n",
    "def bound2(N, d):\n",
    "    return np.power((np.exp(1)*N/d),d)\n",
    "\n",
    "fig, axs = plt.subplots(1,2)\n",
    "dvc = 2\n",
    "x = np.arange(1,1000)*1.0 #need to float the avoid overflow\n",
    "y1 = bound1(x, dvc)\n",
    "y2 = bound2(x, dvc)\n",
    "axs[0].plot(x, y1, color='red', label='Problem 2.5: Bound N^d + 1')\n",
    "axs[0].plot(x, y2, color='blue', label='Problem 2.6: Bound (eN/d)^d')\n",
    "axs[0].legend()\n",
    "axs[0].set_yscale('log')\n",
    "axs[0].set_title(\"dvc = 2\")\n",
    "\n",
    "dvc = 5\n",
    "y21 = bound1(x, dvc)\n",
    "y22 = bound2(x, dvc)\n",
    "axs[1].plot(x, y21, color='red', label='Problem 2.5: Bound N^d + 1')\n",
    "axs[1].plot(x, y22, color='blue', label='Problem 2.6: Bound (eN/d)^d')\n",
    "axs[1].set_yscale('log')\n",
    "axs[1].legend()\n",
    "axs[1].set_title(\"dvc = 5\")"
   ]
  },
  {
   "cell_type": "markdown",
   "metadata": {},
   "source": [
    "#### Problem 2.8\n",
    "\n",
    "They are all possible since they $\\le 2^N$."
   ]
  },
  {
   "cell_type": "markdown",
   "metadata": {},
   "source": [
    "#### Problem 2.9 TODO\n",
    "\n",
    "#### Problem 2.10 TODO\n",
    "\n",
    "Suppose the VC dimension is $d_{VC}$\n",
    "* When $2N \\le d_{VC}$, $m_{\\mathcal{H}}(2N) = 2^{2N} = (2^{N})^2 = m_{\\mathcal{H}}(N)^2 $.\n",
    "* When $N \\le d_{VC}$ and $2N \\gt d_{VC}$, we have $m_{\\mathcal{H}}(N) = 2^N$ and $m_{\\mathcal{H}}(2N) < 2^{2N}$, so $m_{\\mathcal{H}}(2N) \\le m_{\\mathcal{H}}(N)^2$.\n",
    "* When $N \\gt d_{VC}$, we look at the upper bounds here. $ m_{\\mathcal{H}}(N) \\le N^{d_{VC}} + 1$ and $ m_{\\mathcal{H}}(2N) \\le (2N)^{d_{VC}} + 1$. So we have $m_{\\mathcal{H}}(N)^2 \\le \\left(N^{d_{VC}} + 1\\right)^2$, clearly $ (2N)^{d_{VC}} + 1 \\le \\left(N^{d_{VC}} + 1\\right)^2$, so $m_{\\mathcal{H}}(2N) \\le m_{\\mathcal{H}}(N)^2$.\n",
    "\n",
    "#### Problem 2.11\n",
    "\n",
    "The larger number of training samples, the smaller generalization bound."
   ]
  },
  {
   "cell_type": "code",
   "execution_count": 63,
   "metadata": {},
   "outputs": [
    {
     "name": "stdout",
     "output_type": "stream",
     "text": [
      "N=100: VC bound = 0.8481596247015304\n",
      "N=10000: VC bound = 0.10427815497178729\n"
     ]
    }
   ],
   "source": [
    "#### Problem 2.11\n",
    "\n",
    "import numpy as np\n",
    "def vc_bound(N, growth, delta):\n",
    "    return np.sqrt(8*np.log(4*growth(2*N)/delta)/N)\n",
    "\n",
    "def growth(N):\n",
    "    return N+1\n",
    "\n",
    "delta = 0.1\n",
    "for N in [100, 10000]:\n",
    "    print('N={}: VC bound = {}'.format(N, vc_bound(N, growth, delta)))"
   ]
  },
  {
   "cell_type": "markdown",
   "metadata": {},
   "source": [
    "#### Problem 2.12\n",
    "\n",
    "For an $\\mathcal{H}$ with $d_{VC}=10$, we need a sample size of about 452950."
   ]
  },
  {
   "cell_type": "code",
   "execution_count": 72,
   "metadata": {},
   "outputs": [
    {
     "name": "stdout",
     "output_type": "stream",
     "text": [
      "Sample size: 452950\n"
     ]
    }
   ],
   "source": [
    "#### Problem 2.12\n",
    "\n",
    "dvc = 10\n",
    "delta = 0.05\n",
    "epsilon = 0.05\n",
    "\n",
    "def sample_size(N0, d, delta, epsilon, maxit=1000, tol = 10):\n",
    "    N = N0\n",
    "    for it in range(maxit):\n",
    "        rhs = 8 * np.log(4*((2*N)**d+1)/delta)/epsilon/epsilon\n",
    "        res = N - rhs\n",
    "        #print('rhs: ', rhs, 'N: ', N)\n",
    "        if np.abs(res) <= tol:\n",
    "            break\n",
    "        N = int(rhs)\n",
    "    return N\n",
    "\n",
    "N0 = 1000\n",
    "print('Sample size: {}'.format(sample_size(N0, dvc, delta, epsilon)))"
   ]
  },
  {
   "cell_type": "markdown",
   "metadata": {},
   "source": [
    "#### Problem 2.13\n",
    "\n",
    "1. (a) if $d_{VC}(\\mathcal{H}) \\gt log_2M$, we know that the growth function for $d_{VC}$ points is $m_{\\mathcal{H}}(d_{VC}) = 2^{d_{VC}} \\gt M$, meaning the number of hypotheses that shatters $d_{VC}$ points are larger than $M$. This contradicts with the fact that $\\mathcal{H}$ only has finite $M$ hypotheses. \n",
    "\n",
    "1. (b) $d_{VC}\\left(\\cap^{K}_{k=1}\\mathcal{H}_k\\right) \\le min_{k} d_{VC}(\\mathcal{H}_k)$ and $d_{VC}\\left(\\cap^{K}_{k=1}\\mathcal{H}_k\\right) \\ge 0$\n",
    "\n",
    "The lower bound of the intersection set can be zero because the intersection of the hypothesis sets can be empty. \n",
    "If $d_{VC}\\left(\\cap^{K}_{k=1}\\mathcal{H}_k\\right) \\gt min_{k} d_{VC}(\\mathcal{H}_k)$, it means that there exists $\\hat{d} = d_{VC}\\left(\\cap^{K}_{k=1}\\mathcal{H}_k\\right)$ points such that the intersection hypothesis set can shatter.  Since it comes from the intersection, it means the hypotheses belong to one of the hypothesis sets as well, including the set with minimum VC dimension. That says this set is capable of shatter points more than its VC dimension. This contradicts. \n",
    "\n",
    "1. (c)  $d_{VC}\\left(\\cup^{K}_{k=1}\\mathcal{H}_k\\right) \\le \\sum_{k=1}^{K} d_{VC}(\\mathcal{H}_k)$, otherwise, if the union set's VC dimension is larger than the sum, it requires at least one of the sets to shatter more than its VC dimension, this contradicts.\n",
    "\n",
    "$d_{VC}\\left(\\cup^{K}_{k=1}\\mathcal{H}_k\\right) \\ge max_{k} d_{VC}(\\mathcal{H}_k)$ because we can always pick the set with the largest VC dimension from the union set, and it'll always be able so shatter the number of VC dimension points.\n",
    "\n",
    "#### Problem 2.14 TODO\n",
    "1. (a) \n",
    "1. (b) Take the log on both sides of $2^l \\gt 2Kl^{d_{VC}}$, we have $l \\gt 1 + logK + d_{VC} log l$, i.e. $d_{VC} log l\\lt l - 1 - logK $"
   ]
  },
  {
   "cell_type": "markdown",
   "metadata": {},
   "source": [
    "#### Problem 2.15 TODO\n",
    "#### Problem 2.16 \n",
    "\n",
    "1. (a) The polynomial $\\sum_{i=0}^D c_ix^i$ has $D$ roots, for a set of $D+1$ points, assume we can find a solution for the $c_i$s given these point and the coefficients $c_i$ are such that the $D$ roots will fall on the $D$ intervals (between the minimum and maximum of the $D+1$ points) of the $D+1$ points. Then we know that the polynomial will change sign when we move from the left of a root to its right. So for any dichotomy of the $D+1$ points, one can choose a polynomial that matches the signs on each point. Thus there are $D+1$ points that can be shattered by $\\mathcal{H}$.\n",
    "\n",
    "1. (b) For any given $D+2$ points, since there are only $D$ roots, there are at least two points that are either on the left most or right most side of all roots, or are between two neighboring roots. Either case, these two points have the same sign, thus the $D+2$ points can't be shattered by $\\mathcal{H}$. \n",
    "\n",
    "From above two, we see that the VC dimension of $\\mathcal{H}$ is exactly $D+1$. \n",
    "\n",
    "\n",
    "#### Problem 2.17\n",
    "\n",
    "* Proof\n",
    "\n",
    "If the VC dimension $d_1$ of $\\mathcal{H}$ w.r.t. $\\mathcal{X}_1$ is larger than the VC dimension $d_2$ of $\\mathcal{H}$ w.r.t. $\\mathcal{X}_2$, i.e. $d_1 \\gt d_2$.  Then it means for any given $d_1$ points in $\\mathcal{X}_1$, they can be shattered by $\\mathcal{H}$, since $\\mathcal{X}_1 \\subseteq \\mathcal{X}_2$, it means these $d_1$ points also belong to $\\mathcal{X}_2$, so $\\mathcal{H}$ can shatter $d_1$ points in  $\\mathcal{X}_2$ as well. However, this contraditcs with the fact that the VC dimension of $\\mathcal{H}$ w.r.t. $\\mathcal{X}_2$ is $d_2 \\lt d1$.\n",
    "\n",
    "* Apply this to the 2.16 (b) problem: \n",
    "\n",
    "From above proof, we can apply this to problem 2.16 (b). For any given $D+2$ points, consider its subsets of $D+1$ points. As proved in 2.16 (a) the maximum VC dimension of any $D+1$ points is $D+1$. From proof in 2.17, we see the maximum VC dimension the $D+1$ points can have is the VC dimension of the $D+2$ points. $D+1$ is the maximum VC dimension of the $D+1$ points, so this is also the VC dimension of $D+2$ points. This shows that $D+2$ points can't be shattered by $\\mathcal{H}$.\n",
    "\n",
    "* Relationship of problem 2.16 with a perceptron in $D$ dimensions\n",
    "\n",
    "If we treat each $x^i$ as a coordinate in the $i$th dimension, then the hypothesis $\\mathcal{H}$ in problem 2.16 is just the perceptron hypothesis with a special input space $\\mathcal{X}$, where the coordinates are in ratio. Thus problem 2.16 proves that the VC dimension for such perceptron in $D$ dimension is just $D+1$. \n",
    "\n",
    "#### Problem 2.18\n",
    "\n",
    "Consider $N$ points of $x_1, \\dots, x_N$, where $x_n = 10^n$. For an arbitrary dichotomy $y_1, \\dots, y_N$, for example, $(-1,1,1,\\dots,-1,1)$, lets replace $-1$ with $1$ and $1$ with $0$ so we actually get a number like $K=100\\dots10$ for the $N$ points. \n",
    "\n",
    "Now if we pick $\\alpha$ to be $\\frac{K}{10^N}$, e.g. $\\alpha=0.100\\dots10$ such that the $\\alpha x_n$ is odd if $x_n=-1$, and $\\alpha x_n$ is even if $x_n = 1$. So $h_{\\alpha}(x) = 1$ if $x_n=1$, else $h_{\\alpha}(x) = -1$ if $x_n = -1$.\n",
    "\n",
    "Thus there always exists $\\alpha$, and $h_{\\alpha}(x)$ that can shatter the $N$ points. \n",
    "The VC dimension is infinite for such hypothesis set and input space $x\\in \\mathcal{R}$.\n",
    "\n",
    "#### Problem 2.19 TODO\n",
    "\n",
    "#### Problem 2.20\n",
    "\n",
    "For (c) and (d) we need solve for the $\\epsilon$. Square both sides of the inequations, and move terms related to $\\epsilon$ to left side, make a square of $\\epsilon$, we can obtain following bounds:\n",
    "\n",
    "* (c) Parrondo and Van den Broek\n",
    "\n",
    "\\begin{align}\n",
    "\\epsilon &\\le \\frac{1}{N} + \\sqrt{\\frac{1}{N^2} + \\frac{1}{N}\\ln\\frac{6m_{\\mathcal{H}}(2N)}{\\delta}}\\\\\n",
    "\\end{align}\n",
    "\n",
    "If we solve for $\\epsilon$ using this formula and compare with the solution when solving with iterative methods using the original formula, we get the same bounds. \n",
    "\n",
    "* (d) Devroye bound:\n",
    "\n",
    "\\begin{align}\n",
    "\\epsilon &\\le \\frac{1}{N-2} + \\sqrt{\\frac{1}{(N-2)^2} + \\frac{1}{2(N-2)}\\ln\\frac{4m_{\\mathcal{H}}(N^2)}{\\delta}}\\\\\n",
    "\\end{align}\n",
    "\n",
    "Solve Devroye bound iteratively using the original formula doesn't work, the soltuion won't converge, so we use this one instead.\n",
    "\n",
    "Compare the plots of bounds versus $N$, we see that Parrondo and Van den Broek bound decreases fastest and lowest among the bounds. It looks like the best bound we can have here. "
   ]
  },
  {
   "cell_type": "code",
   "execution_count": 64,
   "metadata": {},
   "outputs": [
    {
     "data": {
      "text/plain": [
       "<matplotlib.legend.Legend at 0x118de0490>"
      ]
     },
     "execution_count": 64,
     "metadata": {},
     "output_type": "execute_result"
    },
    {
     "data": {
      "image/png": "[encoded data removed]",
      "text/plain": [
       "<Figure size 432x288 with 1 Axes>"
      ]
     },
     "metadata": {
      "needs_background": "light"
     },
     "output_type": "display_data"
    }
   ],
   "source": [
    "#### Problem 2.20\n",
    "import numpy as np\n",
    "from functools import partial\n",
    "import matplotlib.pyplot as plt\n",
    "\n",
    "def vc_bound(N, growth, delta):\n",
    "    return np.sqrt(8*np.log(4*growth(2*N)/delta)/N)\n",
    "\n",
    "def rade_penalty_bound(N, growth, delta):\n",
    "    a = np.sqrt(2*np.log(2*N*growth(N))/N)\n",
    "    b = np.sqrt(-2*np.log(delta)/N)\n",
    "    return a + b + 1.0/N\n",
    "\n",
    "# solve Parrondo and Van den Broek bound using iterative methods\n",
    "def pv_bound_iterative(N, growth, delta, epsilon0 = 0, maxit=1000, tol = 1.0e-6):\n",
    "    epsilon = epsilon0\n",
    "    for it in range(maxit):\n",
    "        rhs = np.sqrt((2*epsilon + np.log(6*growth(2*N)/delta))/N)\n",
    "        if np.abs(rhs - epsilon) <= tol:\n",
    "            break\n",
    "        epsilon = rhs\n",
    "    return epsilon\n",
    "\n",
    "# solve Parrondo and Van den Broek bound using direct method\n",
    "def pv_bound(N, growth, delta):\n",
    "    return 1.0/N + np.sqrt(1/N/N + np.log(6*growth(2*N)/delta)/N)\n",
    "\n",
    "# This doesn't converge\n",
    "def devroye_bound_iterative(N, growth, delta, d, epsilon0 = 0, maxit=1000, tol = 1.0e-6):\n",
    "    epsilon = epsilon0\n",
    "    for it in range(maxit):\n",
    "        #If we use m = N^d + 1, when d is larger, the calculation will overflow\n",
    "        #rhs = np.sqrt((4*epsilon*(1+epsilon) + np.log(4*growth(N**2)/delta))/2.0/N)\n",
    "        a = 4*epsilon*(1.0+epsilon)\n",
    "        b = np.log(4/delta)+2*d*np.log(N)\n",
    "        rhs = np.sqrt((a + b)/2.0/N)\n",
    "        print('rhs: ', rhs, 'epsilon: ', epsilon, \"a: \", a, \"b: \", b, \"N: \", N)\n",
    "        if rhs - epsilon <= tol:\n",
    "            break\n",
    "        epsilon = rhs\n",
    "    return epsilon\n",
    "\n",
    "def devroye_bound(N, growth, delta, d):\n",
    "    a = 1/(N-2)\n",
    "    b = a**2\n",
    "    #c = a*np.log(4*growth(N**2)/delta)/2 #this overflows easily with N^d\n",
    "    c = a*(np.log(4/delta)+2*d*np.log(N))\n",
    "    return a + np.sqrt(b + c)\n",
    "\n",
    "dvc = 50.0\n",
    "delta = 0.05\n",
    "def growth(N, d):\n",
    "    return N**d + 1\n",
    "\n",
    "g = partial(growth, d = dvc)\n",
    "\n",
    "x = np.arange(3, 5000)*1.0\n",
    "y1,y2,y3,y4, y31 = [],[],[],[], []\n",
    "for N in x:\n",
    "    y1.append(vc_bound(N, g, delta))\n",
    "    y2.append(rade_penalty_bound(N, g, delta))\n",
    "    y31.append(pv_bound1(N, g, delta))\n",
    "    y3.append(pv_bound(N, g, delta))\n",
    "    y4.append(devroye_bound(N, g, delta, dvc))\n",
    "\n",
    "plt.plot(x, y1, color='red', label='Problem 2.20: VC Bound')\n",
    "plt.plot(x, y2, color='green', label='Problem 2.20: Rademacher Penalty Bound')\n",
    "plt.plot(x, y31, color='red', label='Problem 2.20: Parrondo and Van den Broek Bound (Iterative)')\n",
    "plt.plot(x, y3, color='blue', label='Problem 2.20: Parrondo and Van den Broek Bound')\n",
    "plt.plot(x, y4, color='black', label='Problem 2.20: Devroye Bound')\n",
    "plt.yscale('log')\n",
    "plt.legend()"
   ]
  },
  {
   "cell_type": "markdown",
   "metadata": {},
   "source": [
    "#### Problem 2.21\n",
    "\n",
    "Consider\n",
    "\n",
    "\\begin{align}\n",
    "\\frac{E_{out}(g) - E_{in}(g)}{\\sqrt{E_{out}(g)}} &\\le \\epsilon\\\\\n",
    "E_{out}(g) - E_{in}(g) &\\le \\epsilon\\sqrt{E_{out}(g)} \\\\\n",
    "(\\sqrt{E_{out}(g)} - \\frac{\\epsilon}{2})^2 - \\frac{\\epsilon^2}{4} - E_{in}(g) \\le 0\\\\\n",
    "(\\sqrt{E_{out}(g)} - \\frac{\\epsilon}{2})^2 &\\le \\frac{\\epsilon^2}{4} + E_{in}(g)\\\\\n",
    "\\sqrt{E_{out}(g)} - \\frac{\\epsilon}{2} &\\le \\sqrt{\\frac{\\epsilon^2}{4} + E_{in}(g)}\\\\\n",
    "\\sqrt{E_{out}(g)} &\\le \\frac{\\epsilon}{2} + \\sqrt{\\frac{\\epsilon^2}{4} + E_{in}(g)}\\\\\n",
    "E_{out}(g) &\\le \\left(\\frac{\\epsilon}{2} + \\sqrt{\\frac{\\epsilon^2}{4} + E_{in}(g)}\\right)^2\\\\\n",
    "E_{out}(g) &\\le \\frac{\\epsilon^2}{4} + \\frac{\\epsilon^2}{4} + E_{in}(g) + \\epsilon \\sqrt{\\frac{\\epsilon^2}{4} + E_{in}(g)}\\\\\n",
    "E_{out}(g) &\\le E_{in}(g) + \\frac{\\epsilon^2}{2} + \\epsilon \\sqrt{\\frac{\\epsilon^2}{4} + E_{in}(g)}\\\\\n",
    "\\end{align}\n",
    "\n",
    "Now let $\\delta = cm_{\\mathcal{H}}(2N)\\exp(-\\frac{\\epsilon^2N}{4})$, we have $\\epsilon^2 = \\frac{4}{N}\\log\\frac{cm_{\\mathcal{H}}(2N)}{\\delta} = \\xi$, replace this into above inequation, we have\n",
    "\n",
    "\\begin{align}\n",
    "E_{out}(g) &\\le E_{in}(g) + \\frac{\\epsilon^2}{2} + \\epsilon \\sqrt{\\frac{\\epsilon^2}{4} + E_{in}(g)}\\\\\n",
    "E_{out}(g) &\\le E_{in}(g) + \\frac{\\xi}{2} + \\sqrt{\\xi}\\sqrt{\\frac{\\xi}{4} + E_{in}(g)}\\\\\n",
    "E_{out}(g) &\\le E_{in}(g) + \\frac{\\xi}{2}\\left[1 + \\sqrt{1 + \\frac{4E_{in}(g)}{\\xi}}\\right]\\\\\n",
    "\\end{align}\n",
    "\n",
    "Now use the probability inequation given in the theorem, \n",
    "\n",
    "\\begin{align}\n",
    "P\\left[E_{out}(g) \\le E_{in}(g) + \\frac{\\xi}{2}\\left[1 + \\sqrt{1 + \\frac{4E_{in}(g)}{\\xi}}\\right]\\right] &= P\\left[\\frac{E_{out}(g) - E_{in}(g)}{\\sqrt{E_{out}(g)}} \\le \\epsilon\\right] \\\\\n",
    "&= 1 - P\\left[\\frac{E_{out}(g) - E_{in}(g)}{\\sqrt{E_{out}(g)}} \\gt \\epsilon\\right]\\\\\n",
    "&\\ge 1 - cm_{\\mathcal{H}}(2N)\\exp(-\\frac{\\epsilon^2N}{4})\\\\\n",
    "&\\ge 1-\\delta\\\\\n",
    "\\end{align}"
   ]
  },
  {
   "cell_type": "markdown",
   "metadata": {},
   "source": [
    "#### Problem 2.22 \n",
    "\n",
    "\\begin{align}\n",
    "E_\\mathcal{D}\\left[E_{out}(g^\\mathcal{D})\\right] &= E_\\mathcal{D}\\left[E_{x,y}\\left[\\left(g^\\mathcal{D}(x) - y(x)\\right)^2\\right]\\right]\\\\\n",
    "&= E_\\mathcal{D}\\left[E_{x,y}\\left[\\left(g^\\mathcal{D}(x) - (f(x) + \\epsilon)\\right)^2\\right]\\right]\\\\\n",
    "&= E_{x,y}\\left[E_\\mathcal{D}\\left[\\left(g^\\mathcal{D}(x) - (f(x) + \\epsilon)\\right)^2\\right]\\right]\\\\\n",
    "&= E_{x,y}\\left[E_\\mathcal{D}\\left[g^\\mathcal{D}(x)^2 - 2g^\\mathcal{D}(x)(f(x) + \\epsilon) + (f(x) + \\epsilon)^2\\right]\\right]\\\\\n",
    "&= E_{x,y}\\left[E_\\mathcal{D}[g^\\mathcal{D}(x)^2] - 2E_\\mathcal{D}[g^\\mathcal{D}(x)](f(x) + \\epsilon) + (f(x) + \\epsilon)^2\\right]\\\\\n",
    "&= E_{x,y}\\left[E_\\mathcal{D}[g^\\mathcal{D}(x)^2] - \\bar{g}(x)^2 + \\bar{g}(x)^2 - 2\\bar{g}(x)(f(x) + \\epsilon) + (f(x) + \\epsilon)^2\\right]\\\\\n",
    "&= E_{x,y}\\left[E_\\mathcal{D}\\left[\\left(g^\\mathcal{D}(x)-\\bar{g}(x)\\right)^2\\right] + \\left(\\bar{g}(x) -f(x)\\right)^2 - 2\\bar{g}(x)\\epsilon + 2f(x)\\epsilon + \\epsilon^2\\right]\\\\\n",
    "&= E_{x,y}\\left[E_\\mathcal{D}\\left[\\left(g^\\mathcal{D}(x)-\\bar{g}(x)\\right)^2\\right]\\right] + E_{x,y}\\left[\\left(\\bar{g}(x) -f(x)\\right)^2\\right]  + E_{x,y}\\left[\\epsilon^2\\right]\\\\\n",
    "&= variance + bias + \\sigma^2\\\\\n",
    "\\end{align}\n",
    "\n",
    "Where the 'average function' $\\bar{g}(x) = E_\\mathcal{D}[g^\\mathcal{D}(x)]$."
   ]
  },
  {
   "cell_type": "markdown",
   "metadata": {},
   "source": [
    "#### Problem 2.23\n",
    "\n",
    "* (i) Find the best hypothesis that appriximates $f$ in the mean-squared-error sense\n",
    "\n",
    "To find the best hypothesis that approximates $f$ in the mean-squared-error sense, we find the hypothesis that minimizes the mean-squared-error, assume we have $h(x)=ax+b$, then\n",
    "\n",
    "\\begin{align}\n",
    "E_x\\left[\\left(f(x)-h(x)\\right)^2\\right] &= E_x\\left[\\left(\\sin(\\pi x)-(ax+b)\\right)^2\\right]\\\\\n",
    "&= \\int^1_{-1}\\left[\\sin(\\pi x)-(ax+b)\\right]^2p(x)dx\\\\\n",
    "&= \\int^1_{-1}\\frac{1}{2}\\left[\\sin(\\pi x)-(ax+b)\\right]^2dx\\\\\n",
    "\\end{align}\n",
    "\n",
    "Take derivative w.r.t. $a$ and $b$ respectively, and let them equal to $0$, we have\n",
    "\n",
    "\\begin{align}\n",
    "\\frac{\\partial E}{\\partial a} &= -\\int^1_{-1} x\\left[\\sin(\\pi x) - (ax+b)\\right]dx = 0\\\\\n",
    "\\frac{\\partial E}{\\partial b} &= -\\int^1_{-1} \\left[\\sin(\\pi x) - (ax+b)\\right]dx = 0\\\\\n",
    "\\end{align}\n",
    "\n",
    "Solve them we have\n",
    "\\begin{align}\n",
    "\\frac{2}{\\pi}-\\frac{2}{3}a&=0 \\\\\n",
    "b &= 0\\\\\n",
    "\\end{align}\n",
    "We have $a=\\frac{3}{\\pi}$\n",
    "\n",
    " \n",
    "So the best hypothesis that approximates $f$ in the mean-squared-error sense are:\n",
    "* (a) $h(x) = \\frac{3}{\\pi} x$.\n",
    "* (b) $h(x) = \\frac{3}{\\pi} x$.\n",
    "* (c) $h(x) = 0$.\n",
    "\n",
    "\n",
    "* (ii) Find the expected value w.r.t. $\\mathcal{D}$ of the hypothesis that the learning algorithm produces\n",
    "\n",
    "Given two points $x_1$ and $x_2$, we have \n",
    "\n",
    "\\begin{align}\n",
    "E_{in}(g) &= \\sum^{N}_{i=1} (f(x_i) - h(x_i))^2\\\\\n",
    "&= \\sum^{N}_{i=1} (\\sin(\\pi x_i) - (ax_i+b))^2\\\\\n",
    "\\end{align}\n",
    "\n",
    "Take derivative w.r.t. $a$ and $b$ respectively and set to zero, we have\n",
    "\n",
    "\\begin{align}\n",
    "\\frac{\\partial E_{in}(g)}{\\partial a} &= -2\\sum^{N}_{i=1} x_i(\\sin(\\pi x_i) - (ax_i+b)) = 0\\\\\n",
    "\\frac{\\partial E_{in}(g)}{\\partial b} &= -2\\sum^{N}_{i=1} (\\sin(\\pi x_i) - (ax_i+b)) = 0\\\\\n",
    "\\end{align}\n",
    "\n",
    "To sovle for $a$ and $b$ we multiple second equation by $x_1$ and $x_2$ respectively, and subtract from the first equation, we obtain two equations\n",
    "\n",
    "\\begin{align}\n",
    "(x_2 - x_1)(\\sin\\pi x_2 - ax_2 -b) &= 0\\\\\n",
    "(x_1 - x_2)(\\sin\\pi x_1 - ax_1 -b) &= 0\\\\\n",
    "\\end{align}\n",
    "\n",
    "If we assume $x_1 \\ne x_2$, we can solve for $a$ and $b$ and get\n",
    "\n",
    "\\begin{align}\n",
    "a &= \\frac{\\sin\\pi x_2 - \\sin\\pi x_1}{x_2-x_1}\\\\\n",
    "b &= \\frac{x_2\\sin\\pi x_1 - x_1\\sin\\pi x_2}{x_2-x_1}\\\\\n",
    "\\end{align}\n",
    "\n",
    "If $x_1 = x_2$, let $x_2 = x_1 + h$, take this into above equations and let $h \\to \\infty$, we can obtain a hypothesis tangential to $f$.\n",
    "\n",
    "So the final hypothesis generated by learning algorithm is: \n",
    "\n",
    "$g^{\\mathcal{D}}(x) = \\frac{\\sin\\pi x_2 - \\sin\\pi x_1}{x_2-x_1} x + \\frac{x_2\\sin\\pi x_1 - x_1\\sin\\pi x_2}{x_2-x_1}$\n",
    "\n",
    "Similarly for hypothesis set $h(x) = ax$, we can obtain\n",
    "\n",
    "$g^{\\mathcal{D}}(x) =\\frac{x_1\\sin\\pi x_1 + x_2\\sin\\pi x_2}{x_1^2+x_2^2} x$\n",
    "\n",
    "for hypothesis set $h(x) = b$, we can obtain\n",
    "\n",
    "$g^{\\mathcal{D}}(x) =\\frac{1}{2}(\\sin\\pi x_1 + \\sin\\pi x_2)$"
   ]
  },
  {
   "cell_type": "markdown",
   "metadata": {},
   "source": [
    "#### Problem 2.24\n",
    "\n",
    "* To find the average function $\\bar{g}(x)$, let's find the final hypothesis that learing algorithm will arrive. We have our target function $E_{in}(g) = \\sum^2_{i=1} \\left[f(x_i) - h(x_i)\\right]^2 = \\sum^2_{i=1} \\left[x_i^2 - (ax_i+b)\\right]^2$. Take derivative w.r.t. $a$ and $b$ and set the derivatives to zero. We have\n",
    "\n",
    "\\begin{align}\n",
    "\\frac{\\partial E_{in}(g)}{\\partial a} &= -2\\sum^{2}_{i=1} x_i(x_i^2 - ax_i-b) = 0\\\\\n",
    "\\frac{\\partial E_{in}(g)}{\\partial b} &= -2\\sum^{2}_{i=1} (x_i^2 - ax_i-b) = 0\\\\\n",
    "\\end{align}\n",
    "\n",
    "Multiply the second equation by $x_1$ and $x_2$ respectively, and subtract from the first equation, we have:\n",
    "\n",
    "\\begin{align}\n",
    "x^2_1 - ax_1 - b &= 0\\\\\n",
    "x^2_2 - ax_2 - b &= 0\\\\\n",
    "\\end{align}\n",
    "\n",
    "Solve the equations we have:\n",
    "\n",
    "\\begin{align}\n",
    "a &= x_1 + x_2\\\\\n",
    "b &= -x_1x_2\\\\\n",
    "\\end{align}\n",
    "\n",
    "So the final hypothesis learning algorithm find is: $g^{\\mathcal{D}}(x) = (x_1 + x_2)x -x_1x_2$.\n",
    "\n",
    "* Now let's compute the average function $\\bar{g}(x)$.\n",
    "\n",
    "\\begin{align}\n",
    "\\bar{g}(x) &= E_{\\mathcal{D}}\\left[g^{\\mathcal{D}}(x)\\right]\\\\\n",
    "&= E_{\\mathcal{D}}\\left[(x_1 + x_2)x -x_1x_2\\right]\\\\\n",
    "&= E_{\\mathcal{D}}[x_1x] + E_{\\mathcal{D}}[x_2x] -E_{\\mathcal{D}}[x_1x_2]\\\\\n",
    "&= E_{\\mathcal{D}}[x_1]x + E_{\\mathcal{D}}[x_2]x -E_{\\mathcal{D}}[x_1]E_{\\mathcal{D}}[x_2]\\\\\n",
    "\\end{align}\n",
    "\n",
    "The last step is due to the independence of points $x_1$ and $x_2$. \n",
    "\n",
    "Since the data follows a uniform distribution in the interval $[-1,1]$, we have following moments for $x_1$ and $x_2$: \n",
    "\n",
    "\\begin{align}\n",
    "E_{\\mathcal{D}}[x] &= 0\\\\\n",
    "E_{\\mathcal{D}}[x^2] &= \\frac{1}{3}\\\\\n",
    "E_{\\mathcal{D}}[x^3] &= 0\\\\\n",
    "E_{\\mathcal{D}}[x^4] &= \\frac{1}{5}\\\\\n",
    "\\end{align}\n",
    "\n",
    "Take this results into the above equation, we have\n",
    "\n",
    "\\begin{align}\n",
    "\\bar{g}(x) &= 0\\\\\n",
    "\\end{align}\n",
    "\n",
    "\n",
    "* Let's compute the variance component\n",
    "\n",
    "\\begin{align}\n",
    "\\text{variance} &= E_x\\left[E_{\\mathcal{D}}\\left[(g^{\\mathcal{D}}(x) - \\bar{g}(x))^2\\right]\\right]\\\\\n",
    "&= E_x\\left[E_{\\mathcal{D}}\\left((x_1 + x_2)x -x_1x_2 -0\\right)^2\\right]\\\\\n",
    "&= E_x\\left[E_{\\mathcal{D}}\\left((x_1 + x_2)x -x_1x_2 \\right)^2\\right]\\\\\n",
    "&= E_x\\left[E_{\\mathcal{D}}\\left((x_1 + x_2)^2x^2 + x_1^2x_2^2 -2x_1x_2(x_1+x_2)x\\right)\\right]\\\\\n",
    "&= E_x\\left[x^2E_{\\mathcal{D}}(x_1^2 + x_2^2+2x_1x_2) + E_{\\mathcal{D}}(x_1^2x_2^2) - 2xE_{\\mathcal{D}}(x_1^2x_2+x_1x_2^2)\\right]\\\\\n",
    "\\end{align}\n",
    "\n",
    "We know $x_1$, $x_2$ are independent, take their moments into above equation, we get\n",
    "\n",
    "\\begin{align}\n",
    "\\text{variance} &= E_x\\left[x^2(\\frac{1}{3} + \\frac{1}{3}) + (\\frac{1}{3}\\frac{1}{3})\\right]\\\\\n",
    "&=E_x\\left[\\frac{2}{3}x^2 + \\frac{1}{9}\\right]\\\\\n",
    "&= \\frac{2}{3}\\frac{1}{3} + \\frac{1}{9}\\\\\n",
    "&=\\frac{1}{3}\\\\\n",
    "\\end{align}\n",
    "\n",
    "* Let's compute the bias component\n",
    "\n",
    "\\begin{align}\n",
    "\\text{bias} &= E_x\\left[(\\bar{g}(x) - f(x))^2\\right]\\\\\n",
    "&= E_x\\left[(0 - x^2)^2\\right]\\\\\n",
    "&= E_x\\left[x^4\\right]\\\\\n",
    "&= \\frac{1}{5}\\\\\n",
    "\\end{align}\n",
    "\n",
    "* Let's compute the out-of-sample error\n",
    "\n",
    "\\begin{align}\n",
    "E_{\\mathcal{D}}\\left[E_{out}(g^{\\mathcal{D}})\\right] &= \\text{variance}+\\text{bias}\\\\\n",
    "&= \\frac{1}{3} + \\frac{1}{5}\\\\\n",
    "&= \\frac{8}{15}\\\\\n",
    "\\end{align}\n",
    "\n",
    "* Procedure to run the experiment\n",
    "\n",
    "1. To calculate $\\bar{g}(x)$\n",
    "  * Fix a $x$\n",
    "  * Do following for a number of times, e.g. 1000\n",
    "    * Sample two data points from a uniform distribution on $[-1,1]$.\n",
    "    * Compute the value of $g^{\\mathcal{D}}(x)$ at $x$ using the coefficients $a$ and $b$ derived above (or you can find the best fit through some linear regression library, and then compute the value of the best fit at point $x$)\n",
    "   * Take the average value of function $g^{\\mathcal{D}}(x)$. This is the value of $\\bar{g}(x)$ at $x$. \n",
    "   \n",
    "1. To compute bias, variance and out-of-sample error\n",
    "  * Do following for a number of times, e.g. 5000\n",
    "    * Sample a $x$ from uniform distribution on $[-1,1]$.\n",
    "    * Follow the procedure to calculate $\\bar{g}(x)$ to generate an array of values of function $g^{\\mathcal{D}}(x)$ evaluated at the given $x$.\n",
    "    * Compute the variance of the values, we get $E_\\mathcal{D}\\left[\\left(g^\\mathcal{D}(x)-\\bar{g}(x)\\right)^2\\right]$\n",
    "    * Use the $\\bar{g}(x)$ to compute $\\left[\\left(\\bar{g}(x) -f(x)\\right)^2\\right]$ at each $x$\n",
    "    * Use the array of values to compute an array of $\\left(g^\\mathcal{D}(x) - f(x)\\right)^2$. Take the average of the resulting array, we have $E_\\mathcal{D}\\left[\\left(g^\\mathcal{D}(x) - f(x)\\right)^2\\right]$\n",
    "  * Now take the average of above calculated $E_\\mathcal{D}\\left[\\left(g^\\mathcal{D}(x)-\\bar{g}(x)\\right)^2\\right]$,     $\\left[\\left(\\bar{g}(x) -f(x)\\right)^2\\right]$, $E_\\mathcal{D}\\left[\\left(g^\\mathcal{D}(x) - f(x)\\right)^2\\right]$ we obtain the expected values of variance, bias and out-of-sample error: \n",
    "  \n",
    "  $E_x\\left[E_\\mathcal{D}\\left[\\left(g^\\mathcal{D}(x)-\\bar{g}(x)\\right)^2\\right]\\right]$,     $E_x\\left[\\left[\\left(\\bar{g}(x) -f(x)\\right)^2\\right]\\right]$, $E_x\\left[E_\\mathcal{D}\\left[\\left(g^\\mathcal{D}(x) - f(x)\\right)^2\\right]\\right]$\n",
    "  \n",
    "\n",
    "* The following code shows how to compute the bias, variance, out-of-sample error respectively. \n",
    "  * You can see that the calculated values are close to analytical results.\n",
    "  * The bias+variance is close to the value calculated directly for out-of-sample error."
   ]
  },
  {
   "cell_type": "code",
   "execution_count": 98,
   "metadata": {},
   "outputs": [
    {
     "name": "stdout",
     "output_type": "stream",
     "text": [
      "The variance is:  0.3394487958385152\n",
      "The bias is:  0.20659072161362974\n",
      "The expected out-of-sample error is:  0.5465842494234916\n",
      "The variance+bias is:  0.546039517452145\n"
     ]
    },
    {
     "data": {
      "text/plain": [
       "<matplotlib.legend.Legend at 0x1d6cd103e80>"
      ]
     },
     "execution_count": 98,
     "metadata": {},
     "output_type": "execute_result"
    },
    {
     "data": {
      "image/png": "[encoded data removed]",
      "text/plain": [
       "<Figure size 432x288 with 1 Axes>"
      ]
     },
     "metadata": {
      "needs_background": "light"
     },
     "output_type": "display_data"
    }
   ],
   "source": [
    "import numpy as np\n",
    "from functools import partial\n",
    "import matplotlib.pyplot as plt\n",
    "\n",
    "def sample(lb, ub, sz):\n",
    "    # sample randomly from a uniform distribution \n",
    "    return lb + np.random.random_sample((sz,))*(ub-lb)\n",
    "\n",
    "def gd_func(x, x1, x2):\n",
    "    #hypothesis found by learning algorithm\n",
    "    a = x1 + x2\n",
    "    b = -x1 * x2\n",
    "    return a*x + b\n",
    "\n",
    "def avg_g(x, gdfunc, num_samples):\n",
    "    #compute the average hypothesis \\bar{g} at given point x\n",
    "    bias_at_x = 0\n",
    "    gd_funcs = []\n",
    "    for i in range(num_samples):\n",
    "        #generate 2 sample data each time\n",
    "        x1, x2 = sample(-1, 1, 2)\n",
    "        v= gd_func(x, x1, x2)\n",
    "        gd_funcs.append(v)\n",
    "    average_gfunc_at_x = np.mean(gd_funcs)\n",
    "    variance_gfunc_at_x = np.var(gd_funcs)\n",
    "    bias_at_x = (average_gfunc_at_x - x**2)**2\n",
    "    return average_gfunc_at_x, variance_gfunc_at_x, bias_at_x\n",
    "\n",
    "# Compute the expected value of variance, bias and out-of-sample error\n",
    "num_data_samples = 1000\n",
    "num_x_samples = 5000\n",
    "variances, biases, eouts = [], [], []\n",
    "for i in range(num_x_samples):\n",
    "    x = sample(-1, 1, 1)\n",
    "    _, variance, bias = avg_g(x, gd_func, num_data_samples)\n",
    "    variances.append(variance)\n",
    "    biases.append(bias)\n",
    "    \n",
    "    # Compute the expected value of out-of-sample error w.r.t. data\n",
    "    eout_on_data = []\n",
    "    for i in range(num_data_samples):\n",
    "        x1, x2 = sample(-1, 1, 2)\n",
    "        v= gd_func(x, x1, x2)\n",
    "        eout_on_data.append((v-x**2)**2) # (g^{D}(x) - f(x))**2\n",
    "        \n",
    "    eout_data_avg = np.mean(eout_on_data)\n",
    "    eouts.append(eout_data_avg)\n",
    "    \n",
    "\n",
    "\n",
    "variance = np.mean(variances)    \n",
    "bias = np.mean(biases)\n",
    "eout = np.mean(eouts)\n",
    "print('The variance is: ', variance)\n",
    "print('The bias is: ', bias)\n",
    "print('The expected out-of-sample error is: ', eout)\n",
    "print('The variance+bias is: ', variance+bias)\n",
    "\n",
    "\n",
    "xs = np.arange(-1, 1, 0.01)\n",
    "true_f, avg_gf, var_gf, ubs, lbs = [],[], [], [], []\n",
    "for x in xs:\n",
    "    true_f.append(x**2)\n",
    "    mean_g, var_g, bias_g = avg_g(x, gd_func, num_data_samples)\n",
    "    avg_gf.append(mean_g)\n",
    "    var_gf.append(var_g)\n",
    "    ubs.append(mean_g + np.sqrt(var_g))\n",
    "    lbs.append(mean_g - np.sqrt(var_g))\n",
    "\n",
    "plt.plot(xs, true_f, color='red', label='Problem 2.24: True Function')\n",
    "plt.plot(xs, avg_gf, color='green', label='Problem 2.24: Average Hypothesis g_bar')\n",
    "plt.plot(xs, ubs, color='blue', label='Problem 2.24: Upper bound of the average hypothesis')\n",
    "plt.plot(xs, lbs, color='blue', label='Problem 2.24: Lower bound of the average hypothesis')\n",
    "plt.legend()"
   ]
  },
  {
   "cell_type": "code",
   "execution_count": null,
   "metadata": {},
   "outputs": [],
   "source": []
  }
 ],
 "metadata": {
  "kernelspec": {
   "display_name": "Python 3",
   "language": "python",
   "name": "python3"
  },
  "language_info": {
   "codemirror_mode": {
    "name": "ipython",
    "version": 3
   },
   "file_extension": ".py",
   "mimetype": "text/x-python",
   "name": "python",
   "nbconvert_exporter": "python",
   "pygments_lexer": "ipython3",
   "version": "3.7.3"
  }
 },
 "nbformat": 4,
 "nbformat_minor": 2
}
