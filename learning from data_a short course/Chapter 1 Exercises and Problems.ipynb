{
 "cells": [
  {
   "cell_type": "markdown",
   "metadata": {},
   "source": [
    "# Chapter 1 The Learning Problem\n",
    "\n",
    "#### Exercise 1.1\n",
    "\n",
    "1. (a) \n",
    "  * Input space $\\mathcal{X}$: patient's medical history, symptoms, personal health information etc.\n",
    "  * Output space $\\mathcal{Y}$: all possible diseases\n",
    "  * target function $f: \\mathcal{X} \\to \\mathcal{Y}$: ideal formula to identify a patient's problem\n",
    "  * Data set: All available patients' information and their corresponding correct problem diagnostic.\n",
    "2. (b)\n",
    "  * Input space $\\mathcal{X}$: handwritten digits (digitalized)\n",
    "  * Output space $\\mathcal{Y}$: 0-9 digits\n",
    "  * target function $f: \\mathcal{X} \\to \\mathcal{Y}$: ideal formula match a handwritten digit to a correct digit\n",
    "  * Data set: handwritten digits and their corresponding correct matches\n",
    "3. (c)\n",
    "  * Input space $\\mathcal{X}$: every information of an email, e.g. words\n",
    "  * Output space $\\mathcal{Y}$: yes/no \n",
    "  * target function $f: \\mathcal{X} \\to \\mathcal{Y}$: ideal formula to identify whether an email is spam or not\n",
    "  * Data set: Spam and non-spam emails that have been identified by human\n",
    "4. (d)\n",
    "  * Input space $\\mathcal{X}$: price of electric, temperature, day of the week\n",
    "  * Output space $\\mathcal{Y}$: electric load\n",
    "  * target function $f: \\mathcal{X} \\to \\mathcal{Y}$: ideal function that gives exact electric load for a given price, temperature and day of the week.\n",
    "  * Data set: historical electric load along with corresponding price, temperature and day of the week information.\n",
    "5. (e)\n",
    "  * Input space $\\mathcal{X}$: \n",
    "  * Output space $\\mathcal{Y}$: \n",
    "  * target function $f: \\mathcal{X} \\to \\mathcal{Y}$: \n",
    "  * Data set: \n",
    "\n",
    "#### Exercise 1.2\n",
    "1. (a) Keywords with a large positive weight: free, cheap, earn, !\n",
    "1. (b) Keywords with a negative weight: person name, hi, the\n",
    "1. (c) The parameter $b$ in perceptron directly affects how many borderline messages end up being classified as spam. This is because $b$ is the threshold used to classify the emails into spam and non-spam categories.\n",
    "\n",
    "#### Exercise 1.3\n",
    "1. (a) If $x(t)$ is misclassified by $w(t)$, then $w^T(t)x(t)$ has different signs of $y(t)$, thus $y(t)w^T(t)x(t) \\gt 0$.\n",
    "2. (b) \n",
    "\\begin{align}\n",
    "y(t)w^T(t+1)x(t)  &= y(t) \\left(w(t)+y(t)x(t)\\right)^Tx(t) \\\\\n",
    "&= y(t)\\left(w^T(t) + y(t)x^T(t)\\right)x(t) \\\\\n",
    "&= y(t)w^T(t)x(t) + y(t)y(t)x^T(t)x(t)\\\\\n",
    "&\\gt y(t)w^T(t)x(t) \\;\\;\\;\\text{because the last term is } \\ge \\text{ than } 0\\\\\n",
    "\\end{align}\n",
    "3. (c) \n",
    "\n",
    "From previous problem, we see that $y(t)w^T(t)x(t)$ is increasing with each update. If $y(t)$ is positive, but $w^T(t)x(t)$ is negative, we move $w^T(t)x(t)$ toward positive by increasing it. If however $y(t)$ is negative, but $w^T(t)x(t)$ is positive, $y(t)w^T(t)x(t)$ increases means $w^T(t)x(t)$ is decreasing, i.e. moving toward negative region. \n",
    "\n",
    "So the move from $w(t)$ to $w(t+1)$ is a move \"in the right direction\" as far as classifying $x(t)$ is concerned.\n",
    "\n",
    "#### Exercise 1.4\n",
    "Implement the perceptron learning algorithm and check\n",
    "* Convergence speed\n",
    "* How well the final hypothesis $g$ matches your target $f$"
   ]
  },
  {
   "cell_type": "markdown",
   "metadata": {},
   "source": []
  },
  {
   "cell_type": "code",
   "execution_count": null,
   "metadata": {},
   "outputs": [],
   "source": []
  }
 ],
 "metadata": {
  "kernelspec": {
   "display_name": "Python 3",
   "language": "python",
   "name": "python3"
  },
  "language_info": {
   "codemirror_mode": {
    "name": "ipython",
    "version": 3
   },
   "file_extension": ".py",
   "mimetype": "text/x-python",
   "name": "python",
   "nbconvert_exporter": "python",
   "pygments_lexer": "ipython3",
   "version": "3.7.3"
  }
 },
 "nbformat": 4,
 "nbformat_minor": 2
}
