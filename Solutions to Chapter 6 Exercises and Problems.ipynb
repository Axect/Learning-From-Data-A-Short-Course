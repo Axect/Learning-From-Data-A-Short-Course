{
 "cells": [
  {
   "cell_type": "code",
   "execution_count": 1,
   "metadata": {},
   "outputs": [],
   "source": [
    "# Add lib input sys.path\n",
    "import os\n",
    "import sys\n",
    "import time\n",
    "\n",
    "import pandas as pd\n",
    "import numpy as np\n",
    "import sklearn\n",
    "import matplotlib.pyplot as plt\n",
    "from scipy.optimize import minimize\n",
    "import math\n",
    "from sklearn.preprocessing import normalize\n",
    "from functools import partial\n",
    "import h5py\n",
    "from scipy.spatial import distance\n",
    "\n",
    "nb_dir = os.path.split(os.getcwd())[0]\n",
    "if nb_dir not in sys.path:\n",
    "    sys.path.append(nb_dir)\n",
    "\n",
    "from matplotlib.colors import ListedColormap\n",
    "import libs.linear_models as lm\n",
    "import libs.data_util as data\n",
    "import libs.nn as nn\n",
    "import libs.plot as myplot\n",
    "\n",
    "%matplotlib inline"
   ]
  },
  {
   "cell_type": "markdown",
   "metadata": {},
   "source": [
    "#### Exercise 6.1\n",
    "\n",
    "* (a) Let $x=(0,1), x'=(0.01,1)$, then we have the Euclidean distance $d(x,x')=\\|x-x'\\| = 0.01$ and the cosine similarity $\\text{CosSim}(x,x')=\\frac{x\\cdot x'}{\\|x\\|\\|x'\\|} \\approx 0.99995$\n",
    "\n",
    "They have very high cosine similarity but very low Euclidean distance similarity.\n",
    "\n",
    "Let $x=(1,0), x'=(-1,0)$, then we have the Euclidean distance $d(x,x')=\\|x-x'\\| = 2$ and the cosine similarity $\\text{CosSim}(x,x')=\\frac{x\\cdot x'}{\\|x\\|\\|x'\\|} = -1$"
   ]
  },
  {
   "cell_type": "code",
   "execution_count": 4,
   "metadata": {},
   "outputs": [
    {
     "name": "stdout",
     "output_type": "stream",
     "text": [
      "Euclidean distance:  0.01\n",
      "Cosine similarity:  0.9999500037496877\n"
     ]
    }
   ],
   "source": [
    "#### Exercise 6.1\n",
    "x = np.array([0,1])\n",
    "y = np.array([0.01, 1])\n",
    "\n",
    "d = np.linalg.norm(x-y)\n",
    "print('Euclidean distance: ', d)\n",
    "\n",
    "xdoty = np.dot(x,y)\n",
    "cos = xdoty/np.linalg.norm(x)/np.linalg.norm(y)\n",
    "print('Cosine similarity: ', cos)"
   ]
  },
  {
   "cell_type": "markdown",
   "metadata": {},
   "source": [
    "#### Exercise 6.1\n",
    "\n",
    "* (b) Suppose we have $x,y$ w.r.t. the original origin. If the origin of the coordinate system changes, suppose we move the origin to $P$, then we have w.r.t. the new origin, $x'=x-P, y'=y-P$, so it's easy to see that the Euclidean distance similarity doesn't change. The cosine similarity however changes, this can be seen by checking two vectors perpendicular to each other, if we move to a new origin, they don't perpendicular to each other anymore. \n",
    "\n",
    "This puts some restriction on the choice of features, if we want to use cosine similarity, we can't change their magnitude, e.g. mean subtraction, this may affect some algorithms which may perform badly given large differences between different features. \n",
    "\n",
    "#### Exercise 6.2\n",
    "\n",
    "Given a test point $(x,y)$ (Generated from $P(x)$ and $\\pi(x)=P[y=1|x]$) and the target function $f(x)$, The probability of error on a test point $x$ is: \n",
    "\n",
    "\\begin{align*}\n",
    "e(f(x)) &=P[f(x)\\ne y] \\\\\n",
    "&= P[f(x)=1,y=-1] + P[f(x)=-1,y=1] \\\\\n",
    "&= P(y=-1)1(\\pi(x)\\ge \\frac{1}{2}) + P(y=1)1(\\pi(x) < \\frac{1}{2}) \\\\\n",
    "&= (1-\\pi(x))1(\\pi(x)\\ge \\frac{1}{2}) + \\pi(x)1(\\pi(x) < \\frac{1}{2}) \\\\\n",
    "&= \\min(\\pi(x), 1-\\pi(x))\\\\\n",
    "\\end{align*}\n",
    "\n",
    "For any other hypothesis $h$ (deterministic or not), we apply the same calculation, and have \n",
    "\n",
    "\\begin{align*}\n",
    "e(h(x)) &=P[h(x)\\ne y] \\\\\n",
    "&= P[h(x)=1,y=-1] + P[h(x)=-1,y=1] \\\\\n",
    "&= P(y=-1)P(h(x)=1) + P(y=1)(1-P(h(x)=1)) \\\\\n",
    "&= (1-\\pi(x))P_1 + \\pi(x)(1-P_1) \\\\\n",
    "&= \\pi(x)+(1-2\\pi(x))P_1\\\\\n",
    "\\end{align*}\n",
    "\n",
    "Where $P_1 = P(h(x)=1)$, If $\\pi(x) \\ge \\frac{1}{2}$, then $1-2\\pi(x) \\le 0$, and $\\pi(x)+(1-2\\pi(x))P_1 \\ge \\pi(x) + (1-2\\pi(x)) = 1-\\pi(x)$, since $P_1 \\le 1$.\n",
    "\n",
    "If $\\pi(x) < \\frac{1}{2}$, then $1-2\\pi(x) > 0$, and $\\pi(x)+(1-2\\pi(x))P_1 \\ge \\pi(x)$, since $P_1 \\ge 0$. \n",
    "\n",
    "So we conclude that: $e(h(x)) \\ge e(f(x))$."
   ]
  },
  {
   "cell_type": "markdown",
   "metadata": {},
   "source": [
    "#### Exercise 6.3 TODO\n",
    "\n",
    "#### Exercise 6.4\n",
    "\n",
    "The method will always pick $k=1$, where the $E_{in}=0$ for any data.  So the hypothesis set doesn't depend on the data. It can't find usefule $k$.\n",
    "\n",
    "#### Exercise 6.5\n",
    "\n",
    "* (a) Since we are selecting hypothesis from a fixed set of $\\mathcal{H}_{train}$, there are $N-K$ hypotheses and the validation data set is the 'input data set', which has a size of $K$. We apply the generalization bound equation (2.1), and for any $g^-_k, k=1,2,\\dots,N-K$, we have \n",
    "\n",
    "$E_{out}(g^-_k) \\le E_{val}(g^-_k) + \\sqrt{\\frac{1}{2K}\\ln\\frac{2(N-K)}{\\delta}}$\n",
    "\n",
    "If we assume $\\frac{K}{\\log(N-K)}\\to \\infty$, then we have $E_{out}(g^-_k) \\approx E_{val}(g^-_k)$\n",
    "\n",
    "Since $g^-$ is the hypothesis with minimum validation error $E_{val}(g^-)$, so we have \n",
    "\n",
    "$E_{out}(g^-) \\approx E_{val}(g^-) \\le E_{val}(g^-_*) \\approx E_{out}(g^-_*)$\n",
    "\n",
    "On the other hand, $g^-_*$ minimizes $E_{out}$, so we always have $E_{out}(g^-_*) \\le E_{out}(g^-)$\n",
    "\n",
    "Compare the two inequalities, we conclude $E_{out}(g^-) \\approx E_{out}(g^-_*)$.\n",
    "\n",
    "\n",
    "* (b) If $N-K\\to \\infty$, according to Theorem 6.2, we can find a $k(N-K)$, such that $k(N-K)\\to \\infty$ and $\\frac{k(N-K)}{N-K} \\to 0$, then we know that $E_{in}(g^-_k) \\to E_{out}(g^-_k)$ and $E_{out}(g^-_k) \\to E^*_{out}$.\n",
    "\n",
    "Since $E^*_{out}$ is the optimal out-of-sample error we can ever achieve, so we know that $E_{out}(g^-_k) \\approx E_{out}(g^-_*)$, by problem (a), we thus conclude $E_{out}(g^-) \\approx E^*_{out}$\n",
    "\n",
    "* If we used the $k^--NN$ rule on the full data set $\\mathcal{D}$, we would see performance improvement because the learning curve tells us we should use more data to achieve better performance. \n",
    "\n",
    "#### Exercise 6.6\n",
    "\n",
    "In a 10-fold cross validation, suppose we have data folds as $D_1, \\dots, D_{10}$, each fold will have $\\frac{N}{10}$ data points. For a given $k$ and a given fold $D_i$, for each point $x$ in $D_i$, we need compute its distance with all other points in $d$ dimension, which requires $O(Nd)$ computations. We then need select the smallest $k$ distances, which requires $O(N\\log k)$ computations. So for each point in fold $D_i$, we need $O(Nd+N\\log k)$ computations. \n",
    "\n",
    "We need to do the same for all $\\frac{N}{10}$ points in fold $D_i$, so the total computation for a given fold is $O(\\frac{N}{10}(Nd+N\\log k))$, with 10 folds, we have total cost of $O(N^2d+N^2\\log k)$ for a given $k$.\n",
    "\n",
    "\n",
    "Now sum up over $k$, we have the total cost\n",
    "\n",
    "$T=\\sum^{\\frac{N+1}{2}}_{j=1} O(N^2d+N^2\\log (2j-1)) = O(N^2d\\frac{N+1}{2}) + O(N^2\\sum^{\\frac{N+1}{2}}_{j=1}\\log (2j-1))$\n",
    "\n",
    "The first term is approximately on the order of $O(N^3d)$\n",
    "\n",
    "For the second term, we have $\\sum^{\\frac{N+1}{2}}_{j=1}\\log (2j-1)) \\approx \\sum^{\\frac{N+1}{2}}_{j=1}\\log (2j)) \\approx \\frac{N+1}{2}\\log 2 + \\log (\\frac{N+1}{2})!$\n",
    "\n",
    "By Sterling approximation formula, we have $\\ln n! = n\\ln n - n + O(\\ln n)$, so \n",
    "\n",
    "$\\log (\\frac{N+1}{2})! \\approx \\frac{N+1}{2}\\log \\frac{N+1}{2} - \\frac{N+1}{2} + O(\\log \\frac{N+1}{2}) = O(N\\log N - N)$\n",
    "\n",
    "Then $O(N^2\\sum^{\\frac{N+1}{2}}_{j=1}\\log (2j-1)) = O(N^2(N\\log N - N)) = O(N^3\\log N - N^3)$\n",
    "\n",
    "Adding up with the first term, we have $T=O(N^3d + N^3\\log N)$\n",
    "\n",
    "#### Exercise 6.7\n",
    "\n",
    "* (a) If $S$ is not training set consistent, and if $x_*$ is a point which is not training set consistent, so we have $g_S(x_*) \\ne g_{\\mathcal{D}}(x_*)$. According to CNN heuristic, we can find the nearest data point to $x_*$ which is not in $S$ and has class $g_{\\mathcal{D}}(x_*)$. We need to prove that such a point exists.\n",
    "\n",
    "We first fix the number of nearest neighbors to $k$, and consider the neighborhood of $N_S$ in $S$ and $N_{\\mathcal{D}}$ in $\\mathcal{D}$, both $N_S$ and $N_{\\mathcal{D}}$ have the same number of points, i.e. $k$. \n",
    "\n",
    "We say $N_S$ and $N_{\\mathcal{D}}$ are not equal to each other, otherwise, $x_*$ won't be an inconsistent point. So there must be some point that is in $N_{\\mathcal{D}}$ but not in $N_S$.\n",
    "\n",
    "Now we say that among these points that not in $S$, there must be a point $x'$ such that $g_{\\mathcal{D}}(x') = g_{\\mathcal{D}}(x_*)$. \n",
    "\n",
    "If no such point exists, then all the points in $N_{\\mathcal{D}}$ but not in $N_S$ will have the class $g_S(x_*)$. Suppose the intersection of $N_{\\mathcal{D}}$ and $N_S$ has $m$ points, then $k-m$ points in $N_{\\mathcal{D}}$ will have class $g_S(x_*)$, when it combines with the intersection of $m$ points, we will definitely find that the class of $x_*$ in $\\mathcal{D}$ to be $g_D(x_*)$ = g_S(x_*)$, because $N_S$ is composed of $k-m$ points plus the same $m$ points, but gives $x_*$ a class of $g_S(x_*)$ without requiring the $k-m$ points to be all in class $g_S(x_*)$.\n",
    "\n",
    "This is the contradiction, so we proved that the CNN heuristic will surely find a point $x'$ that is not in $S$ and has class $g_D(x_*)$$\n",
    "\n",
    "* (b) Since the set $S$ is a subset of $\\mathcal{D}$, so for any of the $k$ nearest neighbors to $x_*$ from $\\mathcal{D}$, i.e. $N_{\\mathcal{D}}$, if it belongs to $S$, it must belong to the neighbord from $S$ as well, i.e. $N_S$. So the new nearest neighbors added to $S$, will become neighbors of $x_*$ in $N_S$.\n",
    "\n",
    "\n",
    "* (c) Since there are total $N$ points, from problem (a), each step will add at most 1 point into the original $k$ points in $S$ if $S$ is still not training set consistent, and also the $N$ points is the set of $\\mathcal{D}$, which automatically satisfies the training set consistency. So after at most $N-k$ iterations, the CNN heuristic must termiate with a training set consistent $S$.\n",
    "\n",
    "#### Exercise 6.8\n",
    "\n",
    "* (a) Pseudo code for the recursive branch and bound search for the nearest neighbor.\n",
    "\n",
    "  * Given a test point $x$, we search for its nearest neighbor in the data set $D$.\n",
    "  * We look for algorithm called $F(S, x)$ to find the nearest neighbor of $x$ in a given cluster $S$. Let's initialize with the whole data set as our first cluster $\\mathcal{D}$. From clustering algorithm, we should know its two children clusters, their centers, $\\mu_1,\\mu2$, and radii $r_1,r_2$.\n",
    "  * Here is how we implement $F(S,x)$:\n",
    "     1. Set the nearest neighbor be $x_{nn} = \\text{None}$ as in python.\n",
    "     2. If the input cluster has no children cluster, i.e. it has at most 2 data points\n",
    "       * Find the nearest neighbor in the cluster by computing the distance from $x$ to all the points in the cluster. There are at most 2 computations needed since we assume every cluster with more than 2 points is split into 2 sub-clusters. \n",
    "       * Return this point as the nearest neighbor $x_{nn}$ in the input cluster to $x$\n",
    "     3. Else, suppose the two children clusters of input cluster are: $S_1, S_2$\n",
    "       * If $\\|x-\\mu_1\\|  \\le \\|x-\\mu_2\\|$: \n",
    "         * let $x_{nn} = F(S_1, x)$\n",
    "       * Else: let $x_{nn} = F(S_2, x)$\n",
    "     4. Now we have $x_{nn}$, let's call the sibling cluster of $S$ be $S^*$, let's compute the bound condition\n",
    "     5. If $\\|x-x_{nn}\\| > \\| x - \\mu^*\\| - r^*$: (Need check cluster $S^*$ for the nearest neighbor)\n",
    "       * $x^*_{nn} = F(S^*, x)$\n",
    "       * If $\\|x-x^*_{nn}\\| < \\|x-x_{nn}\\|$: $x_{nn} = x^*_{nn}$\n",
    "     6. Return $x_{nn}$\n",
    "  4. We call $F(S, x)$ with $S =\\mathcal{D}$ to get the nearest neighbor in the data set to $x$\n",
    "  \n",
    "* (b) If the sub-clusters of a cluster are balanced, and assume the number of data points is power of 2, i.e. $N=2^k$, the maximum depth of the recursive search for a nearest neighbor can be $\\log_2 N = k$\n",
    "\n",
    "* (c) If we have balanced sub-clusters and if the bound conditions always hold, then the if-condition in step 5 will be always False, so we just need to go through $\\log_2 N$ steps, each with a computation of $d$ for distance in the $R^d$ space. The total cost is thus $d\\log_2 N$\n",
    "\n",
    "* (d) To apply the branch and bound algorithm to $k$-nearest neighbors, assume that every cluster with more than $k$ points is split into 2 sub-clusters. Instead of search for the neareset neighbor in a cluster, we search for $k$-nearest neighbors in a clusters, then apply the bound condition on the $k$-th neighbor with another cluster. \n",
    "\n",
    "\n",
    "#### Exercise 6.9\n",
    "\n",
    "* (a) $e(f(x)) = P[f(x)\\ne y] = \\sum^C_{c=1}P[y=c, f(x)\\ne c]$, since $f(x) = \\text{argmax}_c \\pi_c(x)$, suppose $f(x) = m$, where $\\pi_m(x) =\\max_c \\pi_c(x)$, so in the error term, as long as $c_i \\ne m$, we'll have $f(x)\\ne c$, so we have\n",
    "\n",
    "$e(f(x)) = \\sum^C_{c=1}P[y=c, f(x)\\ne c] = \\sum_{c\\ne m}P[y=c] = \\sum_{c\\ne m}\\pi_c(x) = 1 - \\pi_m(x) = \\eta(x)$\n",
    "\n",
    "* (b) Suppose the nearest neighbor for $x$ is $x_{[1]}$\n",
    "\n",
    "\\begin{align*}\n",
    "e(g_N(x)) &= P[g_N(x)\\ne y]  \\\\\n",
    "&= \\sum^C_{c=1} P[y=c, g_N(x)\\ne c] \\\\\n",
    "&= \\sum^C_{c=1} P[y=c, y_{[1]}\\ne c] \\\\\n",
    "&= \\sum^C_{c=1} P[y=c]P[y_{[1]}\\ne c] \\\\\n",
    "&= \\sum^C_{c=1} \\pi_c(x)(1-\\pi_c(x_{[1]})) \\\\\n",
    "&= \\sum^C_{c=1} \\pi_c(x) - \\pi_c(x)\\pi_c(x_{[1]}) \\\\\n",
    "&= \\sum^C_{c=1} \\pi_c(x) - \\pi^2_c(x) + \\pi^2_c(x) - \\pi_c(x)\\pi_c(x_{[1]}) \\\\\n",
    "&= \\sum^C_{c=1} \\pi_c(x)(1- \\pi_c(x)) + \\pi_c(x)(\\pi_c(x) - \\pi_c(x_{[1]})) \\\\\n",
    "&= \\sum^C_{c=1} \\pi_c(x)(1- \\pi_c(x)) + \\sum^C_{c=1}\\pi_c(x)(\\pi_c(x) - \\pi_c(x_{[1]})) \\\\\n",
    "&= \\sum^C_{c=1} \\pi_c(x)(1- \\pi_c(x)) + \\epsilon_N(x) \\\\\n",
    "\\end{align*}\n",
    "\n",
    "Observe that \n",
    "\n",
    "\\begin{align*}\n",
    "|\\epsilon_N(x)| &= |\\sum^C_{c=1}\\pi_c(x)(\\pi_c(x) - \\pi_c(x_{[1]}))|\\\\\n",
    "&\\le \\sum^C_{c=1}|\\pi_c(x)(\\pi_c(x) - \\pi_c(x_{[1]}))|\\\\\n",
    "&\\le \\sum^C_{c=1}\\pi_c(x)|(\\pi_c(x) - \\pi_c(x_{[1]}))|\\\\\n",
    "&\\le \\sum^C_{c=1}\\pi_c(x)\\max_c|(\\pi_c(x) - \\pi_c(x_{[1]}))|\\\\\n",
    "&= \\max_c|(\\pi_c(x) - \\pi_c(x_{[1]}))| \\sum^C_{c=1}\\pi_c(x)\\\\\n",
    "&= \\max_c|(\\pi_c(x) - \\pi_c(x_{[1]}))|\\\\\n",
    "\\end{align*}\n",
    "\n",
    "When $N\\to \\infty$, we expect $\\epsilon_N(x) \\to 0$ because when the data set gets very large, every point $x$ has a nearest neighbor that is close by. That is, we have $x_{[1]}(x) \\to x$ for all $x$. This is the case if $P(x)$ has bounded support. \n",
    "\n",
    "By the continuity of $\\pi(x)$, This indicates that $\\pi_c(x_{[1]}) \\to \\pi_c(x)$ and since $|\\epsilon_N(x)| \\le |\\max_c|(\\pi_c(x) - \\pi_c(x_{[1]}))||$, it follows that $\\epsilon_N(x) \\to 0$.\n",
    "\n",
    "So we conclude that $e(g_N(x)) \\to \\sum^C_{c=1} \\pi_c(x)(1- \\pi_c(x))$ when $N\\to \\infty$ with high probability according to the law of large number.\n",
    "\n",
    "\n",
    "* (c) We first prove that for $C$ numbers of $a_i,i=1,\\dots,C$, we have $C\\sum a^2_i \\ge (\\sum a_i)^2$. This can be proved by notice that for $a_i$, we always have \n",
    "\n",
    "\\begin{align*}\n",
    "\\sum^C_{i=1}\\sum^C_{j=1} (a_i - a_j)^2 &\\ge 0\\\\\n",
    "\\sum^C_{i=1}\\left(Ca^2_i + \\sum^C_{j=1} a^2_j - \\sum^C_{j=1}2a_i a_j\\right) &\\ge 0 \\\\\n",
    "2C\\sum^C_{i=1}a^2_i - 2\\sum^C_{i=1}a_i\\sum^C_{j=1}a_j&\\ge 0 \\\\\n",
    "C\\sum^C_{i=1}a^2_i &\\ge (\\sum^C_{i=1}a_i)^2\\\\\n",
    "\\end{align*}\n",
    "\n",
    "Since we also have $\\sum a_i = 1$, apply above inequality to $a_2,a_3,\\dots, a_C$, we have\n",
    "\n",
    "\n",
    "$(C-1)\\sum_{i\\ne 1} a^2_i \\ge (\\sum_{i \\ne 1} a_i)^2$, add $(C-1)a^2_1$ to both sides we have\n",
    "\n",
    "$(C-1)\\sum a^2_i \\ge (C-1)a^2_1 + (\\sum_{i \\ne 1} a_i)^2 = (C-1)a^2_1 + (1-a_1)^2$. Divide both sides by $C-1$, we have\n",
    "\n",
    "$\\sum a^2_i \\ge a^2_1 + \\frac{(1-a_1)^2}{C-1}$. \n",
    "\n",
    "Now take expectation w.r.t. $x$ on $g_N(x)$, we have \n",
    "\n",
    "\\begin{align*}\n",
    "E_{out}(g_N(x)) &= E_{out}[\\sum^C_{c=1}\\pi_c(x)\\left(1-\\pi_c(x)\\right)] + E_{out}[\\epsilon_N(x)]\\\\\n",
    "&= E_{out}[\\sum^C_{c=1}(\\pi_c(x)- \\pi^2_c(x))] + E_{out}[\\epsilon_N(x)]\\\\\n",
    "&= E_{out}[1 - \\sum^C_{c=1}\\pi^2_c(x)] + E_{out}[\\epsilon_N(x)]\\\\\n",
    "\\end{align*}\n",
    "\n",
    "Apply the above inequality, we have \n",
    "\n",
    "\\begin{align*}\n",
    "E_{out}(g_N(x)) &= E_{out}[1 - \\sum^C_{c=1}\\pi^2_c(x)] + E_{out}[\\epsilon_N(x)]\\\\\n",
    "&\\le E_{out}[1 - (\\pi^2_1(x) + \\frac{(1-\\pi_1(x))^2}{C-1}) ] + E_{out}[\\epsilon_N(x)]\\\\\n",
    "\\end{align*}\n",
    "\n",
    "From problem (a), we have $\\eta(x) = 1 - \\pi_1(x)$, take this into above inequality, we have\n",
    "\n",
    "\\begin{align*}\n",
    "E_{out}(g_N(x)) &\\le E_{out}[1 - (\\pi^2_1(x) + \\frac{(1-\\pi_1(x))^2}{C-1}) ] + E_{out}[\\epsilon_N(x)]\\\\\n",
    "&= E_{out}[1 - (1-\\eta(x))^2 - \\frac{\\eta(x)^2}{C-1}] + E_{out}[\\epsilon_N(x)]\\\\\n",
    "&= E_{out}[2\\eta(x) - \\frac{C\\eta(x)^2}{C-1}] + E_{out}[\\epsilon_N(x)]\\\\\n",
    "&= 2E^*_{out} - \\frac{C}{C-1}(E_{out}[\\eta(x)^2]) + E_{out}[\\epsilon_N(x)]\\\\\n",
    "&\\le 2E^*_{out} - \\frac{C}{C-1}(E^*_{out})^2 + E_{out}[\\epsilon_N(x)]\\\\\n",
    "\\end{align*}\n",
    "\n",
    "Where $E^*_{out} = E_{out}[\\eta(x)]$ and we have used $E_{out}[\\eta^2(x)] \\ge (E_{out}[\\eta(x)])^2 = (E^*_{out})^2$\n",
    "\n",
    "As $N \\to \\infty$, we have $E_{out}[\\epsilon_N(x)] \\to 0$, so \n",
    "\n",
    "$E_{out}(g_N(x)) \\le 2E^*_{out} - \\frac{C}{C-1}(E^*_{out})^2 $\n",
    "\n",
    "This demonstrates that for multiclass problem, the simple nearest neighbor is at most a factor of 2 from optimal."
   ]
  },
  {
   "cell_type": "markdown",
   "metadata": {},
   "source": [
    "#### Exercise 6.10\n",
    "\n",
    "* (a) When $k=1$, we have $g(x)=y_{[1]}(x)$, at each data point $x=x_i$, we have $g(x_i) = y_{[1]}(x_i) = y(x_i)$, so $E_{in}= \\sum |g(x_i)-y(x_i)|^2 = 0$\n",
    "\n",
    "* (b) The final hypothesis is not smooth, because as we increase $x$, their nearest neighborhoods is changing, within an interval, for all $x$ in that interval, their $k$ nearest neighbors are fixed, so we have constant average from these $k$ nearest neighbors for $g(x)$ within the interval. But once we move out of the interval, new neighbor joined and one old neighbor dropped, the average of the neighborhood immediately changed, so we see the step-wise pattern in the final hypothesis.\n",
    "\n",
    "* (c) If $k$ is very small, say, 1, 2, the final hypothesis $g$ is very unsmooth, it can match the data points closely (or exactly if $k=1$), but the approximation to $f$ can be very bad because it tries too hard to fit the noises.\n",
    "\n",
    "If $k$ is very large, the final hypothesis $g$ approaches the average of the whole data set, which is a constant, this is too simplistic to approximate the target function $f$.\n",
    "\n",
    "* (d) If $x\\to \\infty$, or $x\\to -\\infty$, the nearest neighbors for $x$ will be a fixed set of points, i.e. the data points at two ends. So the hypothesis will generate constant values for $x$ going large at both ends. \n",
    "\n",
    "\n",
    "#### Exercise 6.11\n",
    "\n",
    "$\\alpha_n (x) = \\phi(\\frac{|x-x_n|}{r}) = e^{-\\frac{1}{2}(\\frac{|x-x_n|}{r})^2}$\n",
    "\n",
    "Let's assume $|x-x_1| \\le |x-x_2| \\le \\dots \\le |x-x_N|$, i.e. point $x_1$ is the nearest neighbor of $x$, and $x_N$ is the farest neighbor. Then we have $\\phi(\\frac{|x-x_1|}{r}) \\ge \\dots \\ge \\phi(\\frac{|x-x_n|}{r})$, i.e. $\\alpha_1(x) \\ge \\dots \\ge \\alpha_N(x)$. \n",
    "\n",
    "Then $\\frac{\\alpha_n(x)}{\\alpha_1(x)} = e^{-\\frac{1}{2}\\frac{|x-x_n|^2-|x-x_1|^2}{r^2}} \\to 0 $ when $r\\to 0$ if $n\\ne 1$, and $\\frac{\\alpha_n(x)}{\\alpha_1(x)} = 1$ if $n=1$.\n",
    "\n",
    "We thus have \n",
    "\n",
    "\\begin{align*}\n",
    "g(x) &= \\frac{\\sum^N_{n=1}\\alpha_n(x)y_n}{\\sum^N_{m=1}\\alpha_m(x)}\\\\\n",
    "&= \\frac{\\sum^N_{n=1}\\frac{\\alpha_n(x)}{\\alpha_1(x)}y_n}{\\sum^N_{m=1}\\frac{\\alpha_m(x)}{\\alpha_1(x)}}\\\\\n",
    "&\\to \\frac{y_n}{1}\\; \\text{when }\\; r\\to 0\\\\\n",
    "&= y_n\\\\\n",
    "\\end{align*}\n",
    "\n",
    "This is the same as the nearest neighbor rule.\n",
    "\n",
    "#### Exercise 6.12\n",
    "\n",
    "* (a) For nonparametric RBF, $g(x)$ is always a weighted sum of $y_n$, as $|x| \\to \\infty$, all $|x-x_n|$ are equal to each other, so the weights are uniform, in such case, $g(x) = \\frac{1}{N}\\sum y_n$, the average of $y_n$.\n",
    "\n",
    "For the parametric RBF, each $\\Phi_n(x) \\to 0$ when $|x| \\to \\infty$, and the weights $w_n$ are constants, so the RBF goes to 0 as well.\n",
    "\n",
    "* (b) Note $Z_{nj}=\\Phi_j(x_n)$, $Z$ is a $N\\times N$ matrix, where its $n$th row is $\\Phi^T(x_n) = \\begin{bmatrix} \\Phi_1(x_n) & \\Phi_2(x_n) & \\dots & \\Phi_n(x_n) & \\dots & \\Phi_N(x_n)\\end{bmatrix}$. \n",
    "\n",
    "So its $n$th column is just $\\Phi(x_n)$. So we have $Z^T=\\begin{bmatrix}\\Phi(x_1) & \\Phi(x_2) & \\dots & \\Phi(x_n) & \\dots & \\Phi(x_N)\\end{bmatrix}$\n",
    "\n",
    "If $Z$ is invertible, we have $(Z^T)^{-1}Z^T=I$, and $(Z^T)^{-1}\\Phi(x_n)=\\begin{bmatrix}0 \\\\ \\dots \\\\ 0 \\\\ 1 \\\\ \\dots \\\\ 0 \\end{bmatrix}$, where the only 1 is at the $n$th position.\n",
    "\n",
    "So we obtain \n",
    "\n",
    "$g(x_n)=w^T\\Phi(x_n) = (Z^{-1}y)^T\\Phi(x_n) = y^TZ^{-T}\\Phi(x_n) = y^T\\begin{bmatrix}0 \\\\ \\dots \\\\ 0 \\\\ 1 \\\\ \\dots \\\\ 0 \\end{bmatrix} = y_n$\n",
    "\n",
    "So $g(x)$ exactly interpolates the data points. \n",
    "\n",
    "* (c) The nonparametric RBF does NOT always have $E_{in}=0$, $g(x)$ is always a weighted sum of $y_n$, at $x=x_k$, $g(x_k)$ is still a weighted sum of $y_n$s, so we don't have $g(x_k)=y_k$ here. \n",
    "\n",
    "#### Exercise 6.13\n",
    "\n",
    "* (a) $E_{in}(S_1,\\dots,S_k;\\mu_1,\\dots,\\mu_k) = \\sum^k_{j=1}E_j = \\sum^k_{j=1} \\sum_{x_n \\in S_j} \\|x_n -\\mu_j\\|^2$. If we fix the clusters to $S_1,\\dots, S_k$, take derivatives of $E_{in}$ w.r.t. $\\mu_j$, we have\n",
    "\n",
    "\\begin{align*}\n",
    "\\frac{\\partial{E_{in}}}{\\partial{\\mu_j}} &= \\sum_{x_n \\in S_j} 2\\mu_j - 2x_n\\\\\n",
    "\\end{align*}\n",
    "\n",
    "Let it equal to 0, we have $\\mu_j = \\frac{1}{|S_j|}\\sum_{x_n \\in S_j} x_n$ are the centroids of the clusters and minimize $E_{in}$.\n",
    "\n",
    "* (b) If we fix the centers to $\\mu_1, \\dots, \\mu_k$. Then the clusters which minimize $E_{in}$ are obtained by placing into $S_j$ all points for which the closest center is $\\mu_j$, breaking ties arbitrarily. \n",
    "\n",
    "Suppose this is not true, there must exist a point that doesn't belong to the cluster which has the closest center to it. Let's call the point $x^*$, and its closest center $\\mu_j$, such that $\\|x^* - \\mu_j\\| \\le \\|x^* - \\mu_l\\|$ for $l=1,\\dots, k$. Under our assumption, $x^* \\notin S_j$.\n",
    "\n",
    "There must exist another cluster, e.g. $S_i$, such that $x^* \\in S_i$, and $\\|x^* - \\mu_j\\| \\le \\|x^* - \\mu_i\\|$.\n",
    "\n",
    "We can compare $E_i,E_j$ components in $E_{in}$, where\n",
    "\n",
    "$E_i = \\sum_{x_n \\in S_i} \\|x_n -\\mu_i\\|^2$ and $E_j = \\sum_{x_n \\in S_j} \\|x_n -\\mu_j\\|^2$.\n",
    "\n",
    "It's clear that $E_i + E_j$ doesn't achieve its minimum value under the assumption. Because if we just put $x^*$ into $S_j$, we replace $\\|x^* - \\mu_i\\|^2$ with $\\|x^* - \\mu_j\\|^2$, which is clearly less than the former. So we reduce the sum of $E_i+E_j$ and thus $E_{in}$. \n",
    "\n",
    "We conclude that for all points,we should put them into the cluster that has the cloest center.\n",
    "\n",
    "\n",
    "#### Exercise 6.14\n",
    "\n",
    "* Step 2 of Lloyd's Algorithm: According to exercise 6.13 (b), if we construct $S_j$ to be all points closest to $\\mu_j$, we minimize $E_{in}$ with fixed $\\mu_1,\\dots, \\mu_k$, which won't increase $E_{in}$.\n",
    "\n",
    "* Step 3: From exercise 6.13(a), when we have fixed clusters of $S_1,\\dots, S_k$, if we choose each $\\mu_j$ to be the centroid of $S_j$, we minimize $E_{in}$ with fixed clusters. The $E_{in}$ will not increase.\n",
    "\n",
    "Also, there are only finite number of different partitions for the data points, So the Lloyd's algorithm won't run forever, it must eventually stop iterating. \n",
    "\n",
    "\n",
    "#### Exercise 6.15\n",
    "\n",
    "If we initialize $\\gamma_{nj}=\\frac{1}{k}$, then we have $N_j = \\frac{N}{k}$, and $w_1=\\dots = w_k=\\frac{1}{k}$, All the $\\mu_j,\\Sigma_j$ are the mean and variance of the full data set, i.e. $\\mu_j = \\frac{1}{N}\\sum x_n$ for $j=1,\\dots,N$. So $\\mu_1=\\dots = \\mu_N = \\mu$, and $\\Sigma_1 = \\dots = \\Sigma_N = \\Sigma$.\n",
    "\n",
    "The probabilities of $x_n$ given a cluster membership $j$, are all the same for different clusters, i.e. $P(x_n|S_1)=\\dots = P(x_n|S_N) = N(x_n; \\mu, \\Sigma)$. \n",
    "\n",
    "So the in the next iteration $\\gamma_{nj}(t+1) = \\frac{1}{k} = \\gamma_{nj}(t)$. \n",
    "\n",
    "The $\\gamma$ will stay constant in all iterations. \n",
    "\n",
    "So in the end, all $k$ clusters, will have the same center and shape. The final probability density estimate is just a Gaussian model with data mean and variance, not a mixed of multiple Gaussian models."
   ]
  },
  {
   "cell_type": "markdown",
   "metadata": {},
   "source": [
    "#### Problem 6.1\n",
    "\n",
    "See the plots below"
   ]
  },
  {
   "cell_type": "code",
   "execution_count": 3,
   "metadata": {
    "scrolled": true
   },
   "outputs": [],
   "source": [
    "#### Problem 6.1 (a)\n",
    "df = pd.DataFrame({'x1':[1, 0, 0, -1, 0, 0, -2], 'x2':[0, 1, -1, 0, 2, -2, 0], 'y':[-1, -1, -1, -1, 1, 1, 1]})\n",
    "xsp1 = df.loc[df['y']==1]['x1'].values\n",
    "ysp1 = df.loc[df['y']==1]['x2'].values\n",
    "xsm1 = df.loc[df['y']==-1]['x1'].values\n",
    "ysm1 = df.loc[df['y']==-1]['x2'].values\n",
    "\n",
    "#plt.tight_layout()\n",
    "X_train = df[['x1', 'x2']].values\n",
    "y_train = df['y'].values"
   ]
  },
  {
   "cell_type": "code",
   "execution_count": 3,
   "metadata": {},
   "outputs": [
    {
     "data": {
      "image/png": "[encoded data removed]",
      "text/plain": [
       "<Figure size 432x288 with 1 Axes>"
      ]
     },
     "metadata": {
      "needs_background": "light"
     },
     "output_type": "display_data"
    }
   ],
   "source": [
    "#f, axs = myplot.create_sub_plots(1, 1, 1)\n",
    "# Fine-tune figure; make subplots farther from each other.    \n",
    "#f.subplots_adjust(hspace=1, wspace=2)\n",
    "\n",
    "cls = nn.NearestNeighbors(X_train, y_train, 1)\n",
    "x1_min, x1_max = -3, 4\n",
    "x2_min, x2_max = -3, 4\n",
    "xx1, xx2 = myplot.get_grid(x1_min, x1_max, x2_min, x2_max, step=0.02)\n",
    "myplot.plot_decision_boundaries(xx1, xx2, 2, cls)\n",
    "\n",
    "myplot.plt_plot([xsp1, xsm1], [ysp1, ysm1], 'scatter', \n",
    "               colors = ['r', 'b'], markers = ['o', '+'], labels = ['+1', '-1'], \n",
    "               title = \"Problem 6.1 (a) 1-Nearest Neighbor\", yscale = None, ylb = -2, yub = 2,\n",
    "               xlb = -2, xub = 2, xlabel = None, ylabel = None,\n",
    "               legends = ['+1', '-1'], legendx = None, legendy = None)"
   ]
  },
  {
   "cell_type": "code",
   "execution_count": 4,
   "metadata": {},
   "outputs": [
    {
     "data": {
      "image/png": "[encoded data removed]",
      "text/plain": [
       "<Figure size 432x288 with 1 Axes>"
      ]
     },
     "metadata": {
      "needs_background": "light"
     },
     "output_type": "display_data"
    }
   ],
   "source": [
    "cls = nn.NearestNeighbors(X_train, y_train, 3)\n",
    "x1_min, x1_max = -3, 4\n",
    "x2_min, x2_max = -3, 4\n",
    "xx1, xx2 = myplot.get_grid(x1_min, x1_max, x2_min, x2_max, step=0.02)\n",
    "myplot.plot_decision_boundaries(xx1, xx2, 2, cls)\n",
    "myplot.plt_plot([xsp1, xsm1], [ysp1, ysm1], 'scatter', \n",
    "               colors = ['r', 'b'], markers = ['o', '+'], labels = ['+1', '-1'], \n",
    "               title = \"Problem 6.1 (a) 3-Nearest Neighbor\", yscale = None, ylb = -2, yub = 2,\n",
    "               xlb = -2, xub = 2, xlabel = None, ylabel = None,\n",
    "               legends = ['+1', '-1'], legendx = None, legendy = None)"
   ]
  },
  {
   "cell_type": "code",
   "execution_count": 5,
   "metadata": {},
   "outputs": [
    {
     "name": "stderr",
     "output_type": "stream",
     "text": [
      "C:\\ProgramData\\Anaconda3\\lib\\site-packages\\ipykernel_launcher.py:8: RuntimeWarning: divide by zero encountered in longlong_scalars\n",
      "  \n"
     ]
    },
    {
     "data": {
      "text/html": [
       "<div>\n",
       "<style scoped>\n",
       "    .dataframe tbody tr th:only-of-type {\n",
       "        vertical-align: middle;\n",
       "    }\n",
       "\n",
       "    .dataframe tbody tr th {\n",
       "        vertical-align: top;\n",
       "    }\n",
       "\n",
       "    .dataframe thead th {\n",
       "        text-align: right;\n",
       "    }\n",
       "</style>\n",
       "<table border=\"1\" class=\"dataframe\">\n",
       "  <thead>\n",
       "    <tr style=\"text-align: right;\">\n",
       "      <th></th>\n",
       "      <th>x1</th>\n",
       "      <th>x2</th>\n",
       "      <th>y</th>\n",
       "      <th>z1</th>\n",
       "      <th>z2</th>\n",
       "    </tr>\n",
       "  </thead>\n",
       "  <tbody>\n",
       "    <tr>\n",
       "      <th>0</th>\n",
       "      <td>1</td>\n",
       "      <td>0</td>\n",
       "      <td>-1</td>\n",
       "      <td>1.0</td>\n",
       "      <td>0.000000</td>\n",
       "    </tr>\n",
       "    <tr>\n",
       "      <th>1</th>\n",
       "      <td>0</td>\n",
       "      <td>1</td>\n",
       "      <td>-1</td>\n",
       "      <td>1.0</td>\n",
       "      <td>1.570796</td>\n",
       "    </tr>\n",
       "    <tr>\n",
       "      <th>2</th>\n",
       "      <td>0</td>\n",
       "      <td>-1</td>\n",
       "      <td>-1</td>\n",
       "      <td>1.0</td>\n",
       "      <td>-1.570796</td>\n",
       "    </tr>\n",
       "    <tr>\n",
       "      <th>3</th>\n",
       "      <td>-1</td>\n",
       "      <td>0</td>\n",
       "      <td>-1</td>\n",
       "      <td>1.0</td>\n",
       "      <td>-0.000000</td>\n",
       "    </tr>\n",
       "    <tr>\n",
       "      <th>4</th>\n",
       "      <td>0</td>\n",
       "      <td>2</td>\n",
       "      <td>1</td>\n",
       "      <td>2.0</td>\n",
       "      <td>1.570796</td>\n",
       "    </tr>\n",
       "    <tr>\n",
       "      <th>5</th>\n",
       "      <td>0</td>\n",
       "      <td>-2</td>\n",
       "      <td>1</td>\n",
       "      <td>2.0</td>\n",
       "      <td>-1.570796</td>\n",
       "    </tr>\n",
       "    <tr>\n",
       "      <th>6</th>\n",
       "      <td>-2</td>\n",
       "      <td>0</td>\n",
       "      <td>1</td>\n",
       "      <td>2.0</td>\n",
       "      <td>-0.000000</td>\n",
       "    </tr>\n",
       "  </tbody>\n",
       "</table>\n",
       "</div>"
      ],
      "text/plain": [
       "   x1  x2  y   z1        z2\n",
       "0   1   0 -1  1.0  0.000000\n",
       "1   0   1 -1  1.0  1.570796\n",
       "2   0  -1 -1  1.0 -1.570796\n",
       "3  -1   0 -1  1.0 -0.000000\n",
       "4   0   2  1  2.0  1.570796\n",
       "5   0  -2  1  2.0 -1.570796\n",
       "6  -2   0  1  2.0 -0.000000"
      ]
     },
     "execution_count": 5,
     "metadata": {},
     "output_type": "execute_result"
    }
   ],
   "source": [
    "#### Problem 6.1 (b)\n",
    "def nonlinear_transform_6_1(X):\n",
    "    #X is Nxd\n",
    "    Z = np.zeros(X.shape)\n",
    "    for idx in np.arange(X.shape[0]):\n",
    "        x1, x2 = X[idx, 0], X[idx, 1]\n",
    "        z1 = np.sqrt(x1**2 + x2**2)\n",
    "        z2 = np.arctan(x2/x1)\n",
    "        Z[idx, 0] = z1\n",
    "        Z[idx, 1] = z2\n",
    "    return Z\n",
    "\n",
    "Z = nonlinear_transform_6_1(df[['x1', 'x2']].values)\n",
    "df['z1']= Z[:, 0]\n",
    "df['z2']= Z[:, 1]\n",
    "df"
   ]
  },
  {
   "cell_type": "code",
   "execution_count": 7,
   "metadata": {},
   "outputs": [
    {
     "data": {
      "image/png": "[encoded data removed]",
      "text/plain": [
       "<Figure size 432x288 with 1 Axes>"
      ]
     },
     "metadata": {
      "needs_background": "light"
     },
     "output_type": "display_data"
    }
   ],
   "source": [
    "X_train = df[['z1', 'z2']].values\n",
    "y_train = df['y'].values\n",
    "\n",
    "cls = nn.NearestNeighbors(X_train, y_train, 1)\n",
    "x1_min, x1_max = -3, 4\n",
    "x2_min, x2_max = -3, 4\n",
    "xx1, xx2 = myplot.get_grid(x1_min, x1_max, x2_min, x2_max, step=0.02)\n",
    "myplot.plot_decision_boundaries(xx1, xx2, 2, cls, nonlinear_transform_6_1, alpha = 0.4)\n",
    "myplot.plt_plot([xsp1, xsm1], [ysp1, ysm1], 'scatter', \n",
    "               colors = ['r', 'b'], markers = ['o', '+'], labels = ['+1', '-1'], \n",
    "               title = \"Problem 6.1 (b) 1-Nearest Neighbor\", yscale = None, ylb = -2, yub = 2,\n",
    "               xlb = -2, xub = 2, xlabel = None, ylabel = None,\n",
    "               legends = ['+1', '-1'], legendx = None, legendy = None)"
   ]
  },
  {
   "cell_type": "code",
   "execution_count": 8,
   "metadata": {},
   "outputs": [
    {
     "data": {
      "image/png": "[encoded data removed]",
      "text/plain": [
       "<Figure size 432x288 with 1 Axes>"
      ]
     },
     "metadata": {
      "needs_background": "light"
     },
     "output_type": "display_data"
    }
   ],
   "source": [
    "cls = nn.NearestNeighbors(X_train, y_train, 3)\n",
    "x1_min, x1_max = -3, 4\n",
    "x2_min, x2_max = -3, 4\n",
    "xx1, xx2 = myplot.get_grid(x1_min, x1_max, x2_min, x2_max, step=0.02)\n",
    "myplot.plot_decision_boundaries(xx1, xx2, 2, cls, nonlinear_transform_6_1, alpha = 0.4)\n",
    "myplot.plt_plot([xsp1, xsm1], [ysp1, ysm1], 'scatter', \n",
    "               colors = ['r', 'b'], markers = ['o', '+'], labels = ['+1', '-1'], \n",
    "               title = \"Problem 6.1 (b) 3-Nearest Neighbor\", yscale = None, ylb = -2, yub = 2,\n",
    "               xlb = -2, xub = 2, xlabel = None, ylabel = None,\n",
    "               legends = ['+1', '-1'], legendx = None, legendy = None)"
   ]
  },
  {
   "cell_type": "markdown",
   "metadata": {},
   "source": [
    "#### Problem 6.2\n",
    "\n",
    "* (a) $\\mu_{-1} = (0, 0), \\mu_1 = (-\\frac{2}{3}, 0)$\n",
    "\n",
    "From the graph, we see that 3 points are mis-classified. "
   ]
  },
  {
   "cell_type": "code",
   "execution_count": 14,
   "metadata": {
    "scrolled": true
   },
   "outputs": [
    {
     "data": {
      "image/png": "[encoded data removed]",
      "text/plain": [
       "<Figure size 432x288 with 1 Axes>"
      ]
     },
     "metadata": {
      "needs_background": "light"
     },
     "output_type": "display_data"
    }
   ],
   "source": [
    "#### Problem 6.2\n",
    "\n",
    "df_c = pd.DataFrame({'x1':[0, -2/3], 'x2':[0,0], 'y':[-1, 1]})\n",
    "X_train_c = df_c[['x1', 'x2']].values\n",
    "y_train_c = df_c['y'].values\n",
    "\n",
    "\n",
    "cls = nn.NearestNeighbors(X_train_c, y_train_c, 1)\n",
    "x1_min, x1_max = -3, 4\n",
    "x2_min, x2_max = -3, 4\n",
    "xx1, xx2 = myplot.get_grid(x1_min, x1_max, x2_min, x2_max, step=0.02)\n",
    "myplot.plot_decision_boundaries(xx1, xx2, 2, cls)\n",
    "\n",
    "myplot.plt_plot([xsp1, xsm1], [ysp1, ysm1], 'scatter', \n",
    "               colors = ['r', 'b'], markers = ['o', '+'], labels = ['+1', '-1'], \n",
    "               title = \"Problem 6.2 (a) 1-Nearest Neighbor\", yscale = None, ylb = -2, yub = 2,\n",
    "               xlb = -2, xub = 2, xlabel = None, ylabel = None,\n",
    "               legends = ['+1', '-1'], legendx = None, legendy = None)"
   ]
  },
  {
   "cell_type": "markdown",
   "metadata": {},
   "source": [
    "#### Problem 6.2\n",
    "\n",
    "* (b) We start with merging two closest points of the same class. From the graph below, we see 2 points are misclassified."
   ]
  },
  {
   "cell_type": "code",
   "execution_count": 7,
   "metadata": {},
   "outputs": [
    {
     "name": "stdout",
     "output_type": "stream",
     "text": [
      "Prototype for -1:  [[0. 0.]]\n",
      "Prototype for +1:  [[-0.5 -0.5]]\n"
     ]
    },
    {
     "data": {
      "image/png": "[encoded data removed]",
      "text/plain": [
       "<Figure size 432x288 with 1 Axes>"
      ]
     },
     "metadata": {
      "needs_background": "light"
     },
     "output_type": "display_data"
    }
   ],
   "source": [
    "#### Problem 6.2\n",
    "\n",
    "m1_proto = nn.create_prototypes(df.loc[df['y']==-1][['x1','x2']].values)\n",
    "p1_proto = nn.create_prototypes(df.loc[df['y']==1][['x1','x2']].values)\n",
    "print('Prototype for -1: ', m1_proto)\n",
    "print('Prototype for +1: ', p1_proto)\n",
    "\n",
    "prototypes = np.vstack([m1_proto, p1_proto])\n",
    "X_train_p = prototypes\n",
    "y_train_p = np.array([-1, 1])\n",
    "\n",
    "\n",
    "cls = nn.NearestNeighbors(X_train_p, y_train_p, 1)\n",
    "x1_min, x1_max = -3, 4\n",
    "x2_min, x2_max = -3, 4\n",
    "xx1, xx2 = myplot.get_grid(x1_min, x1_max, x2_min, x2_max, step=0.02)\n",
    "myplot.plot_decision_boundaries(xx1, xx2, 2, cls)\n",
    "\n",
    "myplot.plt_plot([xsp1, xsm1], [ysp1, ysm1], 'scatter', \n",
    "               colors = ['r', 'b'], markers = ['o', '+'], labels = ['+1', '-1'], \n",
    "               title = \"Problem 6.2 (b) 1-Nearest Neighbor\", yscale = None, ylb = -2, yub = 2,\n",
    "               xlb = -2, xub = 2, xlabel = None, ylabel = None,\n",
    "               legends = ['+1', '-1'], legendx = None, legendy = None)"
   ]
  },
  {
   "cell_type": "markdown",
   "metadata": {},
   "source": [
    "#### Problem 6.3\n",
    "\n",
    "For positive semi-definite matrix, we can decompose it into $Q=P^T\\Lambda P$, where $P$ is orthogonal and $\\Lambda$ is diagonal matrix with positive or zero elements (since it's p.s.d.).\n",
    "\n",
    "So $d(x,x') = (x-x')^TQ(x-x') = (x-x')^TP^T\\Lambda P(x-x') = \\left(\\Lambda^{\\frac{1}{2}}P(x-x')\\right)^T\\left(\\Lambda^{\\frac{1}{2}}P(x-x')\\right) = (z-z')^T(z-z') = \\|z-z'\\|^2$\n",
    "\n",
    "So this is equivalent to the $k$-nearest neighbor rule with the standard Euclidean distance with feature transformation of $z=\\Lambda^{\\frac{1}{2}}Px$\n",
    "\n",
    "#### Problem 6.4"
   ]
  },
  {
   "cell_type": "code",
   "execution_count": 16,
   "metadata": {},
   "outputs": [],
   "source": [
    "#### Problem 6.4\n",
    "N = 2000\n",
    "max_v = 10000\n",
    "rad, thk = 10, 5\n",
    "sep = 5\n",
    "eta = 1\n",
    "use_adaline=False\n",
    "maxit = 1000\n",
    "dim = 2\n",
    "\n",
    "radiuses, radians = data.generate_random_ring(N, rad, rad+thk, max_v)\n",
    "xs, ys, signs = data.move_bottom_ring_and_assign(radiuses, radians, rad + thk/2.0, -sep)\n",
    "df = pd.DataFrame({'x1':xs.flatten(), 'x2':ys.flatten(), 'y':signs.flatten()})\n",
    "df['x0'] = 1\n",
    "df = df[['x0','x1','x2','y']]\n",
    "positives = df.loc[df['y']==1]\n",
    "negatives = df.loc[df['y']==-1]\n",
    "\n",
    "X_train = df[['x1', 'x2']].values\n",
    "y_train = df['y'].values\n",
    "\n",
    "xsp1 = positives[['x1']].values\n",
    "xsm1 = negatives[['x1']].values\n",
    "ysp1 = positives[['x2']].values\n",
    "ysm1 = negatives[['x2']].values"
   ]
  },
  {
   "cell_type": "code",
   "execution_count": 18,
   "metadata": {},
   "outputs": [
    {
     "name": "stdout",
     "output_type": "stream",
     "text": [
      "Number of positive points:  1037\n",
      "Number of negatives points:  963\n"
     ]
    },
    {
     "data": {
      "image/png": "[encoded data removed]",
      "text/plain": [
       "<Figure size 288x288 with 1 Axes>"
      ]
     },
     "metadata": {
      "needs_background": "light"
     },
     "output_type": "display_data"
    }
   ],
   "source": [
    "figsize = plt.figaspect(1)\n",
    "f, ax = plt.subplots(1, 1, figsize=figsize)\n",
    "\n",
    "#ps = ax.scatter(positives[['x1']].values, positives[['x2']].values, marker='+', c= 'b', label='+1 labels')\n",
    "#ns = ax.scatter(negatives[['x1']].values, negatives[['x2']].values, marker=r'$-$', c= 'r', label='-1 labels')\n",
    "print('Number of positive points: ', len(positives))\n",
    "print('Number of negatives points: ', len(negatives))\n",
    "\n",
    "cls = nn.NearestNeighbors(X_train, y_train, 1)\n",
    "x1_min, x1_max = -20, 30\n",
    "x2_min, x2_max = -30, 20\n",
    "xx1, xx2 = myplot.get_grid(x1_min, x1_max, x2_min, x2_max, step=1)\n",
    "myplot.plot_decision_boundaries(xx1, xx2, 2, cls)\n",
    "\n",
    "myplot.plt_plot([xsp1, xsm1], [ysp1, ysm1], 'scatter', \n",
    "               colors = ['r', 'b'], markers = ['o', '+'], labels = ['+1', '-1'], \n",
    "               title = \"Problem 6.4 1-Nearest Neighbor\", yscale = None, ylb = -2, yub = 2,\n",
    "               xlb = -2, xub = 2, xlabel = None, ylabel = None,\n",
    "               legends = ['+1', '-1'], legendx = None, legendy = None)\n",
    "\n",
    "ax.set_ylabel(r\"$x_2$\", fontsize=11)\n",
    "ax.set_xlabel(r\"$x_1$\", fontsize=11)\n",
    "#ax.set_title('Data set size = %s'%N, fontsize=9)\n",
    "ax.axis('tight')\n",
    "plt.show()"
   ]
  },
  {
   "cell_type": "code",
   "execution_count": 19,
   "metadata": {},
   "outputs": [
    {
     "data": {
      "image/png": "[encoded data removed]",
      "text/plain": [
       "<Figure size 432x288 with 1 Axes>"
      ]
     },
     "metadata": {
      "needs_background": "light"
     },
     "output_type": "display_data"
    }
   ],
   "source": [
    "cls = nn.NearestNeighbors(X_train, y_train, 3)\n",
    "x1_min, x1_max = -20, 30\n",
    "x2_min, x2_max = -30, 20\n",
    "xx1, xx2 = myplot.get_grid(x1_min, x1_max, x2_min, x2_max, step=1)\n",
    "myplot.plot_decision_boundaries(xx1, xx2, 2, cls)\n",
    "\n",
    "myplot.plt_plot([xsp1, xsm1], [ysp1, ysm1], 'scatter', \n",
    "               colors = ['r', 'b'], markers = ['o', '+'], labels = ['+1', '-1'], \n",
    "               title = \"Problem 6.4 3-Nearest Neighbor\", yscale = None, ylb = -2, yub = 2,\n",
    "               xlb = -2, xub = 2, xlabel = None, ylabel = None,\n",
    "               legends = ['+1', '-1'], legendx = None, legendy = None)\n",
    "\n",
    "ax.set_ylabel(r\"$x_2$\", fontsize=11)\n",
    "ax.set_xlabel(r\"$x_1$\", fontsize=11)\n",
    "#ax.set_title('Data set size = %s'%N, fontsize=9)\n",
    "ax.axis('tight')\n",
    "plt.show()"
   ]
  },
  {
   "cell_type": "markdown",
   "metadata": {},
   "source": [
    "#### Problem 6.5 TODO\n",
    "\n",
    "Let the Voronoi diagram be generated from a set of data: $x_1, x_2, \\dots, x_N$. \n",
    "\n",
    "Suppose we have a Voronoi region $C$, which is 'owned' by $x_1$, so for any point $x$ within region $C$, we have $d(x, x_1) \\le d(x, x_2) \\le \\dots \\le d(x, x_N)$. \n",
    "\n",
    "Now consider two points $x_a, x_b\\in C$, and for any $\\lambda \\in [0, 1]$ We have\n",
    "\n",
    "$d(\\lambda x_a + (1-\\lambda)x_b, x_1) = \\|\\lambda x_a + (1-\\lambda)x_b - x_1\\| = \\| \\lambda(x_a - x_1) + (1-\\lambda)(x_b-x_1)\\| \\le \\|\\lambda(x_a - x_1)\\| + \\|(1-\\lambda)(x_b-x_1)\\| \\le \\lambda \\|x_a - x_1\\| + (1-\\lambda)\\|x_b-x_1\\| \\le \\lambda d(x_a, x_2) + (1-\\lambda)d(x_b, x_2)$"
   ]
  },
  {
   "cell_type": "markdown",
   "metadata": {},
   "source": [
    "#### Problem 6.6\n",
    "\n",
    "$w_{reg} = (X^TX + \\lambda \\Gamma^T\\Gamma)^{-1}X^Ty$, so we have\n",
    "\n",
    "$g(x) = x^Tw_{reg} = x^T(X^TX + \\lambda \\Gamma^T\\Gamma)^{-1}X^Ty$\n",
    "\n",
    "The $X$ is $N\\times d$ matrix, with $N$ data points in $R^d$, and $y$ is $N\\times 1$ vector. \n",
    "So each column of $X^T$ is just $x_n$, the $n$th data point. \n",
    "\n",
    "Consider the matrix $B=X^Ty = \\begin{bmatrix}x_1 & \\dots & x_n & \\dots & x_N \\end{bmatrix} \\begin{bmatrix}y_1 \\\\ \\dots \\\\ y_n \\\\ \\dots \\\\ y_N \\end{bmatrix} = x_1y_1 + \\dots + x_n y_n + \\dots + x_Ny_N = \\sum^N_{n=1}x_ny_n$ where the sum comes from the column multiply row in matrix multiplication. \n",
    "\n",
    "So we have $g(x) = w^Tw_{reg} = \\sum^N_{n=1} x^T(X^TX + \\lambda \\Gamma^T\\Gamma)^{-1}x_ny_n$\n",
    "\n",
    "Let $K(x, x_n) = x^T(X^TX + \\lambda \\Gamma^T\\Gamma)^{-1}x_n = x^TQx_n$, then $g(x) = \\sum^N_{n=1} K(x, x_n)y_n$. Since $Q$ is positive definite, The kernel here is a general inner product (So called Q-inner product) between $x, x_n$.\n",
    "\n",
    "This looks similar to RBF except that the weights of $y_n$ are not normalized.\n",
    "\n",
    "#### Problem 6.7\n",
    "\n",
    "The hypothesis set $\\mathcal{H}$ contains all labeled Voronoi tessellations on $K$ points. That means for any $K$ points, the hypothesis set will have $K$ regions and it contains all possible label combinations for these $K$ points. Since each region can have $+1$ or $-1$, so there are total $2^K$ hypotheses in $\\mathcal{H}$. It's clear that the hypothesis set can reproduce any dichotomy of any $K$ given points. \n",
    "\n",
    "If we however, have one extra point, since the first $K$ points decide the signs of each Voronoi region, the new point will have to share a common region with another point. This limits the possible label combinations that can be produced. For example, if all points are positive, then all $K$ regions are with positive sign, the last point will have no choice, but falls into a positive region. \n",
    "\n",
    "It's clear, that we won't be able to produce the full $2^{K+1}$ labels from $K+1$ points. So we conclude $d_{VC}(\\mathcal{H}) = K$.\n",
    "\n",
    "#### Problem 6.8\n",
    "\n",
    "When the target value is deterministic, i.e. $\\pi(x) = 0$ or $\\pi(x) = 1$, which means that in the x-domain, if we pick $x$ in certain area, we'll have $y=1$, if we pick $x$ from other areas, we'll have $y=-1$. If we set the target function to 1 when $\\pi(x) = 1$ and to 0 when $\\pi(x) = 0$, then we have optimal error $E^*_{out} = 0$ since no probability is involved once $x$ is given. \n",
    "\n",
    "Suppose we have the selected hypothesis from 1-nearest neighbor, $g_N(x) = \\text{sign}(x_{[1]}) = y_{[1]}$. Then the error on a test point $x$ is thus (assuming fixed $x$ for now):\n",
    "\n",
    "$e(g_N(x)) = P(g_N(x)\\ne y(x)) = P(y_{[1]} \\ne y(x)) = \\pi(x)(1-\\pi(x_{[1]})) + \\pi(x_{[1]})(1-\\pi(x)) = 2\\pi(x)(1-\\pi(x))+(2\\pi(x)-1)(\\pi(x)-\\pi(x_{[1]})) = 2\\pi(x)(1-\\pi(x)) + \\epsilon_N(x)$\n",
    "\n",
    "Since $\\pi(x) = 0\\;or\\; 1$, so we have $e(g_N(x)) = \\epsilon_N(x)$\n",
    "\n",
    "Take expectation on $g_N$, we have $E_{out}(g_N) = E[P(g_N(x)\\ne y)] = E_x[\\epsilon_N(x)]$\n",
    "\n",
    "As $N\\to \\infty$, every point $x$ has a nearest neighbor that is close by. That is, $x_{[1]}(x) \\to x$ for all $x$, so we have $\\pi(x_{[1]}) = \\pi(x)$ because $\\pi(x)$ is deterministic and the probability for $x$ to fall on boundary is 0. Then $\\epsilon_N(x) = 0$, so $E_{out}(g_N(x)) = 0 = E^*_{out}$"
   ]
  },
  {
   "cell_type": "markdown",
   "metadata": {},
   "source": [
    "#### Problem 6.9 TODO\n",
    "\n",
    "#### Problem 6.10\n",
    "\n",
    "From theorem 6.1, we see that $E_{out}(1) \\le 2E^*_{out}$, also for any $k$, we have $E^*_{out} \\le E_{out}(k)$ since $E^*_{out}$ is the theoretical optimal minimum that can be achieved by the target function and all $E_{out}(k)$ are approximations to the target function.\n",
    "\n",
    "With exercise 6.3 (d), it shows that $E_{out}(g_N)$ is asymptotically $E^*_{out}(1+O(k^{-\\frac{1}{2}}))$, as $k$ increases, this asymptotical value decrease, so we have $E_{out}(k) \\le E_{out}(k-1)$. \n",
    "\n",
    "Thus the inequality holds.\n",
    "\n",
    "\n",
    "#### Problem 6.11\n",
    "\n",
    "* (a) For a given test point $x$, suppose its nearest neighbor among original $N$ data points is $x_i$, if $x_i$ is not one of the marked positions, i.e. $x_i$ has not been removed in condensed data, then the classification stays the same as original data. If $x_i$ is condensed out, then the nearest neighbor of $x$ in the condensed data is one of the neighbors of $x_i$, whatever the neighbor is, it has the same classification as $x_i$, so $x$ is still classified the same as $x_i$. \n",
    "\n",
    "This shows that the condensed data is consistent with the full data for the 1-NN rule\n",
    "\n",
    "* (b) TODO\n",
    "\n",
    "#### Problem 6.12\n",
    "\n",
    "* (a) If we start with the training set, at first, we have the largest influence set as $S_{n^*}$, since by definition, every point in $S_{n^*}$ is closer to $x_{n^*}$ than to any point of a different class. These points in $S_{n^*}$ will have class of  $x_{n^*}$ in the condensed set if  $x_{n^*}$ stays in the condensed set. This is always true because after we remove all the points in $S_{n^*}$ from training set, we update the remaining influence sets by deleting $x_{n^*}$ and $S_{n^*}$. So no influence set contains $x_{n^*}$ after first step. Since we only remove points in influence sets from training set, we see that  $x_{n^*}$ stays in the condensed set.\n",
    "\n",
    "    We now repeat the step 1, where we have another influence set $S_{n^2}$ with the largest size in the remaining influence sets, we immediate see that all the points in this seoncd largest influence set $S_{n^2}$ will have class of $x_{n^2}$ in the condensed set, since $x_{n^2}$ stays in the condensed set. \n",
    "\n",
    "    Continue doing this until we have all influence sets are empty. We can easily deduce that every point we remove will have the class with the corresponding $x$, which are all left in the condensed set.\n",
    "\n",
    "    It's also easy to see, that every point stays in the final condensed set always has the same class as in training set, since their nearest neighbors are themselves.\n",
    "\n",
    "    So the final condensed set is training set consistent. \n",
    "\n",
    "* (b) I think the condensed set created through influence set can be smaller than the CNN algorithm. Since the latter starts randomly with 1 point, and needs to add point in until the condensed set is training set consistent, it can have as large as the full training set in the final condensed set. While the influence set method creates the condensed set by comparing distances among all points. It uses all the distance information at the very beginning, unlike the CNN, which increases its understanding step by step (with some randomness). I feel like the CNN one should be at least as large as the influence set method.\n",
    "\n",
    "* (c) Since we need to use the pairwise distances among points to construct the influence sets. We can pre-compute the pairwise distances for all pairs of points. That it, suppose there are $N$ data points in the training set, we pre-compute a matrix $D$ of $N\\times N$, where $D_{ij}=\\|x_i-x_j\\|$. \n",
    "This matrix is symmetric with zeros on the diagonal. So we spend $\\frac{N^2-N}{2}$, i.e. $O(N^2)$, operations to compute the distances. \n",
    "\n",
    "    Also, for each point $x_n$, we can find the minimum distance from $x_n$ to other points of different class. This costs us $N$ minimization operations, since each minimization takes $O(N)$, so the total cost here is $O(N^2)$. Call the minimal distance from $x_n$ to points of different class as $d_m(x_n)$.\n",
    "    \n",
    "    Additionally, we construct two sets, $S^+, S^-$ that contains positive and negative points respectively.\n",
    "    Now we can implement the algorithm:\n",
    "  1. Initialize the condensed set $C$ as the original training set $\\mathcal{D}$.\n",
    "  2. for each point $x_i$ in the training set: $O(N^2)$\n",
    "    * for each point $x_j$ of the same class other than $x_i$\n",
    "      * If $d(x_i,x_j) < d_m(x_j)$, then put $x_j$ into $S_i$\n",
    "  3. If the set of $S$ is not empty, find the set $S_{n^*}$ with the largest size: $O(N)$\n",
    "    * Remove elements of $S_i$ from $C$: $O(N)$\n",
    "    * Remove $S_i$ from the array of $S$\n",
    "    * Remove elements of $S_i$ and $x_i$ from other sets $S$: $O(N)$\n",
    "    * Repeat step 3\n",
    "  4. If all the sets of $S$ are empty, stop.\n",
    "   \n",
    "    The final condensed set $C$ is what we are looking for.\n",
    "    \n",
    "    So the total cost is $O(N^2) + O(N^2) + O(N^2) + O(N^2) = O(N^2)$, on quadratic order.\n"
   ]
  },
  {
   "cell_type": "markdown",
   "metadata": {},
   "source": [
    "#### Problem 6.13"
   ]
  },
  {
   "cell_type": "code",
   "execution_count": 7,
   "metadata": {},
   "outputs": [],
   "source": [
    "#### Problem 6.13 (a) \n",
    "\n",
    "\n",
    "def generate_data_613(N, do_plot=True):\n",
    "    center = np.array([0,0]) #The center of the circle\n",
    "    N_gs = 4  #Number of Gaussians\n",
    "    radius = 1 #Radius of circle\n",
    "\n",
    "    # The centers(means) of Gaussians are equally spaced on the circle\n",
    "    means = data.generate_equal_spaced_points_on_circle(center, radius, N_gs)\n",
    "\n",
    "    # Covariance for each Gaussian\n",
    "    var = 0.15\n",
    "    cov1 = np.array([[var,0], [0, var]])\n",
    "    covs = np.array([cov1]*N_gs)\n",
    "\n",
    "    # The weights of each Gaussian bump\n",
    "    probs = np.ones(N_gs)/4\n",
    "\n",
    "    # Total number of data points\n",
    "    #N = 1000\n",
    "\n",
    "    # Random numbers generated by Gaussian Mixture Model (GMM)\n",
    "    gmm_rand_nums = data.generate_gmm(means, covs, probs, N)\n",
    "\n",
    "    pos = np.vstack([gmm_rand_nums[0], gmm_rand_nums[2]]) # y= 1\n",
    "    neg = np.vstack([gmm_rand_nums[1], gmm_rand_nums[3]]) # y= -1\n",
    "    xsp, ysp = pos[:,0], pos[:,1]\n",
    "    xsn, ysn = neg[:,0], neg[:,1]\n",
    "    if do_plot:\n",
    "        xs = [xsp, xsn]\n",
    "        ys = [ysp, ysn]        \n",
    "        myplot.plt_plot(xs, ys, 'scatter', ['b', 'r'], ['o', 'x'], ['y=+1', 'y=-1'], \n",
    "                    title = 'Gaussian Mixture Model Data', yscale = None, ylb = None, yub = None,\n",
    "                    xlb = None, xub = None, xlabel = 'x1-coordinate', ylabel = 'x2-coordinate',\n",
    "                    legends = ['+', '-'], legendx = None, legendy = None)\n",
    "\n",
    "    df_p = pd.DataFrame({'x1':xsp, 'x2':ysp, 'y':1})\n",
    "    df_n = pd.DataFrame({'x1':xsn, 'x2':ysn, 'y':-1})\n",
    "    df = pd.concat([df_p, df_n])\n",
    "    df['id'] = np.arange(len(df))\n",
    "    df.sort_values(by=['id'], inplace=True)\n",
    "    df.set_index('id', inplace=True)\n",
    "\n",
    "    return df\n",
    "\n",
    "def is_training_consistent(condensed_set, df):\n",
    "    # Testing\n",
    "    X = df[['x1', 'x2']].values\n",
    "    y= df['y'].values    \n",
    "    Xs = X[condensed_set, :]\n",
    "    ys = y[condensed_set]\n",
    "    nn1 = nn.NearestNeighbors(Xs, ys, 1)\n",
    "    predicted = nn1.predict(X)\n",
    "    df['cnn_predicted'] = predicted\n",
    "    df['diff'] = np.abs(df['y'] - df['cnn_predicted'])\n",
    "    dfd = df.loc[df['diff']>0]\n",
    "    if len(dfd) > 0:\n",
    "        print('ERROR: Found inconsistency in training set!')\n",
    "        print(dfd)\n",
    "    else:\n",
    "        print('Found a training set consistent CNN!')\n",
    "        print('Size of CNN: ', len(condensed_set))\n",
    "    return df\n",
    "    \n",
    "def cnn(df, do_plot=True):\n",
    "    cnn = nn.CNN(1)\n",
    "    X = df[['x1', 'x2']].values\n",
    "    y= df['y'].values\n",
    "    S_idx, S, Sy = cnn.find_cnn(X, y)\n",
    "    \n",
    "    df = is_training_consistent(S_idx, df)\n",
    "\n",
    "    if do_plot:\n",
    "        Xs = X[S_idx, :]\n",
    "        ys = y[S_idx]\n",
    "        \n",
    "        x1s = [Xs[ys==1, 0], Xs[ys==-1, 0]] #[xsp, xsn, Xs[:, 0]]\n",
    "        x2s = [Xs[ys==1, 1], Xs[ys==-1, 1]] #[ysp, ysn, Xs[:, 1]]\n",
    "        myplot.plt_plot(x1s, x2s, 'scatter', ['b', 'r'], ['o', 'x'], ['y=+1', 'y=-1'], \n",
    "                title = 'Gaussian Mixture Model Condensed by CNN', yscale = None, ylb = None, yub = None,\n",
    "                xlb = None, xub = None, xlabel = 'x1-coordinate', ylabel = 'x2-coordinate',\n",
    "                legends = ['+', '-'], legendx = None, legendy = None)      \n",
    "    return S_idx\n",
    "\n",
    "def influence_cnn(df, do_plot=True):\n",
    "    inf_nn = nn.InfluenceCNN()\n",
    "    X = df[['x1', 'x2']].values\n",
    "    y= df['y'].values    \n",
    "    C_idx, C, Cy = inf_nn.find_cnn(X, y)\n",
    "    df = is_training_consistent(C_idx, df)\n",
    "    if do_plot:\n",
    "        Xs = X[C_idx, :]\n",
    "        ys = y[C_idx]\n",
    "        \n",
    "        x1s = [Xs[ys==1, 0], Xs[ys==-1, 0]]\n",
    "        x2s = [Xs[ys==1, 1], Xs[ys==-1, 1]]\n",
    "        myplot.plt_plot(x1s, x2s, 'scatter', ['b', 'r'], ['o', 'x'], ['y=+1', 'y=-1'], \n",
    "                    title = 'Gaussian Mixture Model Condensed by Influence Sets', yscale = None, ylb = None, yub = None,\n",
    "                    xlb = None, xub = None, xlabel = 'x1-coordinate', ylabel = 'x2-coordinate',\n",
    "                    legends = ['+', '-'], legendx = None, legendy = None)        \n",
    "    return C_idx"
   ]
  },
  {
   "cell_type": "markdown",
   "metadata": {},
   "source": [
    "#### The CNN Algorithm"
   ]
  },
  {
   "cell_type": "code",
   "execution_count": 5,
   "metadata": {},
   "outputs": [
    {
     "name": "stdout",
     "output_type": "stream",
     "text": [
      "Final S_idx:  [779   0 172 237 267 268 511  18 277 512 164 513 289 292 514 270 327 328\n",
      " 347 387 516   3  20 129 473 517 520 324 521 524 528 530 290 310 531 493\n",
      " 556 560 562 567 194 569 287 309 311 570 107 118 571 361 575 582 329 597\n",
      " 604 605 326 487 501 609 629 649 650   7  28  76 199 220 652 656 663  71\n",
      " 149 190 667  34 148 189 672 690 704 130 262 718 373 449 490 724 339 345\n",
      " 375 477 508 733 738   9 140 200 276 741 744 466 745   6 747 428 759 272\n",
      " 427 764 770 773 774 775 776  40 261 777  31  51 778 780 782   5  22  24\n",
      " 178 786 793 263 796  68 799 340 380 395 818 824 834 836 837 266 307 308\n",
      " 392 838 376 855 271 874  99 249 890 895  50 125 901 919 300 921 923 925\n",
      " 931 470 932 937 943 355 379 947 275 291 337 341 953 964 128 188 244 976\n",
      " 997 458]\n",
      "Found a training set consistent CNN!\n",
      "Size of CNN:  182\n"
     ]
    },
    {
     "data": {
      "image/png": "[encoded data removed]",
      "text/plain": [
       "<Figure size 432x288 with 1 Axes>"
      ]
     },
     "metadata": {
      "needs_background": "light"
     },
     "output_type": "display_data"
    },
    {
     "data": {
      "image/png": "[encoded data removed]",
      "text/plain": [
       "<Figure size 432x288 with 1 Axes>"
      ]
     },
     "metadata": {
      "needs_background": "light"
     },
     "output_type": "display_data"
    }
   ],
   "source": [
    "#### Problem 6.13 (a) CNN Algorithm\n",
    "N=1000\n",
    "df = generate_data_613(N, do_plot=True)\n",
    "plt.figure()\n",
    "C_idx = cnn(df, do_plot=True)"
   ]
  },
  {
   "cell_type": "markdown",
   "metadata": {},
   "source": [
    "#### Problem 6.13 Influence Algorithm to condense data"
   ]
  },
  {
   "cell_type": "code",
   "execution_count": 8,
   "metadata": {},
   "outputs": [
    {
     "name": "stdout",
     "output_type": "stream",
     "text": [
      "Found a training set consistent CNN!\n",
      "Size of CNN:  162\n"
     ]
    },
    {
     "data": {
      "image/png": "[encoded data removed]",
      "text/plain": [
       "<Figure size 432x288 with 1 Axes>"
      ]
     },
     "metadata": {
      "needs_background": "light"
     },
     "output_type": "display_data"
    },
    {
     "data": {
      "image/png": "[encoded data removed]",
      "text/plain": [
       "<Figure size 432x288 with 1 Axes>"
      ]
     },
     "metadata": {
      "needs_background": "light"
     },
     "output_type": "display_data"
    }
   ],
   "source": [
    "#### Problem 6.13 (a) Influence set CNN Algorithm\n",
    "N=1000\n",
    "df = generate_data_613(N, do_plot=True)\n",
    "plt.figure()\n",
    "S_idx = influence_cnn(df, do_plot=True)"
   ]
  },
  {
   "cell_type": "markdown",
   "metadata": {},
   "source": [
    "#### Problem 6.13 (c) Compare CNN and Influence Set Condensed NN"
   ]
  },
  {
   "cell_type": "code",
   "execution_count": 29,
   "metadata": {},
   "outputs": [
    {
     "name": "stdout",
     "output_type": "stream",
     "text": [
      "Working on :  1\n",
      "Working on :  101\n",
      "Working on :  201\n",
      "Working on :  301\n",
      "Working on :  401\n",
      "Working on :  501\n",
      "Working on :  601\n",
      "Working on :  701\n",
      "Working on :  801\n",
      "Working on :  901\n",
      "Average number of condensed set in CNN:  190.668\n",
      "Average number of condensed set in Influence set generated CNN:  164.67\n"
     ]
    }
   ],
   "source": [
    "N=1000\n",
    "tot_C, tot_S = 0, 0\n",
    "for t in np.arange(1000): #1000 experiments\n",
    "    if t %100 == 1:\n",
    "        print('Working on : ', t)\n",
    "    df = generate_data_613(N, do_plot=False)\n",
    "    C_idx = cnn(df, do_plot=False)\n",
    "    S_idx = influence_cnn(df, do_plot=False)\n",
    "    tot_C += len(C_idx)\n",
    "    tot_S += len(S_idx)\n",
    "    \n",
    "print('Average number of condensed set in CNN: ', tot_C/N)    \n",
    "print('Average number of condensed set in Influence set generated CNN: ', tot_S/N)    "
   ]
  },
  {
   "cell_type": "markdown",
   "metadata": {},
   "source": [
    "#### Problem 6.14"
   ]
  },
  {
   "cell_type": "markdown",
   "metadata": {},
   "source": [
    "#### Problem 6.14 (a) Prepare Zip Code Data"
   ]
  },
  {
   "cell_type": "code",
   "execution_count": 2,
   "metadata": {},
   "outputs": [],
   "source": [
    "def split_zip_data(zip_data_path, splits = 1, train_size = 500):\n",
    "    # Split the raw data into train and test\n",
    "    # splits: specify the number of random splits for each train-test pair\n",
    "    X_tr, y_tr, X_te, y_te = data.load_zip_data(zip_data_path)\n",
    "    train_size = train_size\n",
    "    splits = splits\n",
    "    data_splits = data.sample_zip_data(X_tr, y_tr, train_size, splits)\n",
    "    return data_splits\n",
    "\n",
    "def set_two_classes(y_train, y_test, digit):    \n",
    "    # Classify digit '1' vs. not '1'\n",
    "    y_train[y_train==digit] = 1\n",
    "    y_test[y_test==digit] = 1\n",
    "    \n",
    "    y_train[y_train!=digit] = -1\n",
    "    y_test[y_test!=digit] = -1\n",
    "    return y_train, y_test"
   ]
  },
  {
   "cell_type": "code",
   "execution_count": 3,
   "metadata": {},
   "outputs": [
    {
     "name": "stdout",
     "output_type": "stream",
     "text": [
      "X_train:  (500, 256) y_train:  (500,) X_test:  (6791, 256) y_test:  (6791,)\n",
      "Frequencies of the digits: \n",
      " {0: 0.164, 1: 0.138, 2: 0.1, 3: 0.09, 4: 0.09, 5: 0.076, 6: 0.092, 7: 0.088, 8: 0.074, 9: 0.088}\n"
     ]
    }
   ],
   "source": [
    "zip_data_path = './data/usps.h5'\n",
    "data_splits = split_zip_data(zip_data_path, splits = 1)\n",
    "\n",
    "X_train, y_train, X_test, y_test = data_splits[0]\n",
    "\n",
    "print('X_train: ', X_train.shape, 'y_train: ',y_train.shape, 'X_test: ',X_test.shape, 'y_test: ', y_test.shape)\n",
    "unique, counts = np.unique(y_train, return_counts=True)\n",
    "freqs = counts/len(y_train)\n",
    "print('Frequencies of the digits: \\n', dict(zip(unique, freqs)))\n",
    "\n",
    "y_train, y_test = set_two_classes(y_train, y_test, 1)"
   ]
  },
  {
   "cell_type": "markdown",
   "metadata": {},
   "source": [
    "#### Problem 6.14 (b) Performance of 3-NN"
   ]
  },
  {
   "cell_type": "code",
   "execution_count": 13,
   "metadata": {},
   "outputs": [
    {
     "name": "stdout",
     "output_type": "stream",
     "text": [
      "------ Prediction with the raw pixels -----\n",
      "1-NN E_{in}:  0.0\n",
      "3-NN E_{in}:  0.01\n",
      "3-NN E_{out}:  0.010455013989103226\n"
     ]
    }
   ],
   "source": [
    "print('------ Prediction with the raw pixels -----')\n",
    "k=1\n",
    "cls = nn.NearestNeighbors(X_train, y_train, k)\n",
    "y_pred_1 = cls.predict(X_train)\n",
    "diff_1 = np.abs(y_train - y_pred_1)\n",
    "diff_1[diff_1 !=0] = 1\n",
    "E_in_1 = np.sum(diff_1!=0)/len(y_train)\n",
    "print('1-NN E_{in}: ', E_in_1)\n",
    "\n",
    "# N.B. This prediction is from the raw pixels\n",
    "k=3 \n",
    "cls = nn.NearestNeighbors(X_train, y_train, k)\n",
    "y_pred_3 = cls.predict(X_train)\n",
    "diff_3 = np.abs(y_train - y_pred_3)\n",
    "diff_3[diff_3 !=0] = 1\n",
    "E_in_3 = np.sum(diff_3!=0)/len(y_train)\n",
    "print('3-NN E_{in}: ', E_in_3)\n",
    "\n",
    "y_pred_te_3 = cls.predict(X_test)\n",
    "diff_te_3 = np.abs(y_test - y_pred_te_3)\n",
    "diff_te_3[diff_te_3 !=0] = 1\n",
    "E_out_3 = np.sum(diff_te_3!=0)/len(y_test)\n",
    "print('3-NN E_{out}: ', E_out_3)"
   ]
  },
  {
   "cell_type": "markdown",
   "metadata": {},
   "source": [
    "#### Problem 6.14 (c) Test on Image Flip"
   ]
  },
  {
   "cell_type": "code",
   "execution_count": 61,
   "metadata": {},
   "outputs": [
    {
     "data": {
      "text/plain": [
       "<matplotlib.image.AxesImage at 0x1d7322322e8>"
      ]
     },
     "execution_count": 61,
     "metadata": {},
     "output_type": "execute_result"
    },
    {
     "data": {
      "image/png": "[encoded data removed]",
      "text/plain": [
       "<Figure size 432x288 with 1 Axes>"
      ]
     },
     "metadata": {
      "needs_background": "light"
     },
     "output_type": "display_data"
    }
   ],
   "source": [
    "id = 5\n",
    "X1 = X_train[id]\n",
    "X1 = X1.reshape(16, 16)\n",
    "plt.imshow(X1, cmap='gray')"
   ]
  },
  {
   "cell_type": "code",
   "execution_count": 62,
   "metadata": {},
   "outputs": [
    {
     "data": {
      "text/plain": [
       "<matplotlib.image.AxesImage at 0x1d733391b70>"
      ]
     },
     "execution_count": 62,
     "metadata": {},
     "output_type": "execute_result"
    },
    {
     "data": {
      "image/png": "[encoded data removed]",
      "text/plain": [
       "<Figure size 432x288 with 1 Axes>"
      ]
     },
     "metadata": {
      "needs_background": "light"
     },
     "output_type": "display_data"
    }
   ],
   "source": [
    "Xf = np.flip(X1, axis=1)\n",
    "plt.imshow(Xf, cmap='gray')"
   ]
  },
  {
   "cell_type": "markdown",
   "metadata": {},
   "source": [
    "#### Problem 6.14 (c) Condense the zip code data with CNN"
   ]
  },
  {
   "cell_type": "code",
   "execution_count": 5,
   "metadata": {
    "scrolled": true
   },
   "outputs": [
    {
     "data": {
      "image/png": "[encoded data removed]",
      "text/plain": [
       "<Figure size 432x288 with 1 Axes>"
      ]
     },
     "metadata": {
      "needs_background": "light"
     },
     "output_type": "display_data"
    }
   ],
   "source": [
    "X_tr, X_te = data.compute_features(X_train, X_test)\n",
    "x1s = [X_tr[y_train==1, 0], X_tr[y_train==-1, 0]]\n",
    "x2s = [X_tr[y_train==1, 1], X_tr[y_train==-1, 1]]\n",
    "myplot.plt_plot(x1s, x2s, 'scatter', ['b', 'r'], ['o', 'x'], ['Digit 1', 'Non Digit 1'], \n",
    "        title = 'Digits 1 vs non-1', yscale = None, ylb = None, yub = None,\n",
    "        xlb = None, xub = None, xlabel = 'Average Intensity', ylabel = 'Symmetry',\n",
    "        legends = ['+', '-'], legendx = None, legendy = None)      \n"
   ]
  },
  {
   "cell_type": "code",
   "execution_count": 14,
   "metadata": {},
   "outputs": [
    {
     "name": "stdout",
     "output_type": "stream",
     "text": [
      "---- Prediction with Condensed Data: In-Sample Error\n",
      "3-NN with CNN E_{in}:  0.06666666666666667\n",
      "------ Check if CNN is traing set consistent ------\n",
      "Differences between 3NN using original data and condensed data:  0.0\n",
      "------ Test error of CNN with condensed data ------\n",
      "3-NN with CNN on test data E_{out}:  0.036371668384626715\n"
     ]
    }
   ],
   "source": [
    "#%%time\n",
    "k = 3\n",
    "cnn = nn.CNN(k)\n",
    "S_idx, S, Sy = cnn.find_cnn(X_tr, y_train)\n",
    "\n",
    "X_cnn, y_cnn = X_tr[S_idx, :], y_train[S_idx]\n",
    "cnn_cls = nn.NearestNeighbors(X_cnn, y_cnn, k) # 3-NN with condensed data\n",
    "cls = nn.NearestNeighbors(X_tr, y_train, k) # 3-NN with original data\n",
    "\n",
    "print('---- Prediction with Condensed Data: In-Sample Error')\n",
    "y_pred_cnn_3 = cnn_cls.predict(X_cnn)\n",
    "diff_cnn_3 = y_cnn - y_pred_cnn_3\n",
    "diff_cnn_3[diff_cnn_3 !=0] = 1\n",
    "E_in_cnn_3 = np.sum(diff_cnn_3!=0)/len(y_cnn)\n",
    "print('3-NN with CNN E_{in}: ', E_in_cnn_3)\n",
    "\n",
    "\n",
    "print('------ Check if CNN is traing set consistent ------')\n",
    "y_pred_orig_train_cnn_3 = cnn_cls.predict(X_tr)\n",
    "y_pred_orig_train_nn_3 = cls.predict(X_tr)\n",
    "diff_orig_train_cnn_3 = y_pred_orig_train_nn_3 - y_pred_orig_train_cnn_3\n",
    "diff_orig_train_cnn_3[diff_orig_train_cnn_3 !=0] = 1\n",
    "E_in_orig_train_cnn_3 = np.sum(diff_orig_train_cnn_3!=0)/len(y_train)\n",
    "print('Differences between 3NN using original data and condensed data: ', E_in_orig_train_cnn_3)\n",
    "\n",
    "print('------ Test error of CNN with condensed data ------') \n",
    "y_pred_cnn_te_3 = cnn_cls.predict(X_te)\n",
    "diff_cnn_te_3 = y_test - y_pred_cnn_te_3\n",
    "diff_cnn_te_3[diff_cnn_te_3 !=0] = 1\n",
    "E_out_cnn_3 = np.sum(diff_cnn_te_3!=0)/len(y_test)\n",
    "print('3-NN with CNN on test data E_{out}: ', E_out_cnn_3)"
   ]
  },
  {
   "cell_type": "markdown",
   "metadata": {},
   "source": [
    "#### Problem 6.14 (d)\n",
    "\n",
    "The results show that the average $E_{in}$ are the same for original and condensed data since the CNN is training set consistent, but the average $E_{out}$ is larger when using condensed data."
   ]
  },
  {
   "cell_type": "code",
   "execution_count": 15,
   "metadata": {},
   "outputs": [
    {
     "name": "stdout",
     "output_type": "stream",
     "text": [
      "---- Working on iteration:  0\n",
      "3-NN with original data mean E_in and E_out:  0.021820000000000003 0.03381976144897659\n",
      "3-NN with condensed data mean E_in and E_out:  0.021820000000000003 0.035780444706228834\n"
     ]
    }
   ],
   "source": [
    "def get_cnn_cls(X, y, k):\n",
    "    cnn = nn.CNN(k)\n",
    "    S_idx, S, Sy = cnn.find_cnn(X, y)\n",
    "    X_cnn, y_cnn = X[S_idx, :], y[S_idx]\n",
    "    cnn_cls = nn.NearestNeighbors(X_cnn, y_cnn, k) # k-NN with condensed data\n",
    "    return cnn_cls\n",
    "    \n",
    "def calc_with_nn(cls, X, y, X_test, y_test):\n",
    "    y_pred_in = cls.predict(X)\n",
    "    diff_in = np.abs(y - y_pred_in)\n",
    "    diff_in[diff_in!=0] = 1\n",
    "    E_in = np.sum(diff_in!=0)/len(y)\n",
    "\n",
    "    y_pred_out = cls.predict(X_test)\n",
    "    diff_out = np.abs(y_test - y_pred_out)\n",
    "    diff_out[diff_out!=0] = 1\n",
    "    E_out = np.sum(diff_out!=0)/len(y_test)\n",
    "    return E_in, E_out\n",
    "        \n",
    "\n",
    "k=3\n",
    "tot_exps = 1000    \n",
    "zip_data_path = './data/usps.h5'\n",
    "data_splits = split_zip_data(zip_data_path, splits = tot_exps)\n",
    "digit = 1 #we classify digit '1' vs. non '1'\n",
    "nn_Eins, nn_Eouts = [], []\n",
    "cnn_Eins, cnn_Eouts = [], []\n",
    "for it in range(tot_exps):\n",
    "    if (it + 100) % 100 == 0:\n",
    "        print('---- Working on iteration: ', it)\n",
    "    X_train, y_train, X_test, y_test = data_splits[it]\n",
    "    y_train, y_test = set_two_classes(y_train, y_test, digit)\n",
    "    X_tr, X_te = data.compute_features(X_train, X_test)\n",
    "    \n",
    "    nn_cls = nn.NearestNeighbors(X_tr, y_train, k)\n",
    "    cnn_cls = get_cnn_cls(X_tr, y_train, k)\n",
    "    \n",
    "    nn_E_in, nn_E_out = calc_with_nn(nn_cls, X_tr, y_train, X_te, y_test)\n",
    "    cnn_E_in, cnn_E_out = calc_with_nn(cnn_cls, X_tr, y_train, X_te, y_test)\n",
    "    \n",
    "    nn_Eins.append(nn_E_in)\n",
    "    nn_Eouts.append(nn_E_out)\n",
    "    cnn_Eins.append(cnn_E_in)\n",
    "    cnn_Eouts.append(cnn_E_out)\n",
    "\n",
    "nn_mean_Eins = np.mean(np.array(nn_Eins))    \n",
    "nn_mean_Eouts = np.mean(np.array(nn_Eouts))    \n",
    "\n",
    "cnn_mean_Eins = np.mean(np.array(cnn_Eins))    \n",
    "cnn_mean_Eouts = np.mean(np.array(cnn_Eouts))    \n",
    "\n",
    "print(\"3-NN with original data mean E_in and E_out: \", nn_mean_Eins, nn_mean_Eouts)\n",
    "print(\"3-NN with condensed data mean E_in and E_out: \", cnn_mean_Eins, cnn_mean_Eouts)"
   ]
  },
  {
   "cell_type": "markdown",
   "metadata": {},
   "source": [
    "#### Problem 6.15 TODO\n",
    "\n",
    "Let $N=2^k$, For a data set of size $N$, let $T(N)$ be the expected time to find the nearest neighbor in a cluster with $N$ points. At the beginning, it'll take $2d$ operations to compute the distances from $x$ to $\\mu_1, \\mu_2$, which are the means of its sub-clusters. It then need use $T(\\frac{N}{2})$ time to find the nearest neighbor in one of the sub-clusters. Once it finds the nearest neighbor from one of its sub-clusters, it needs to apply the bound condition, if it satisfies the bound condition (with probability $p$), then it's done. Otherwise, with probability $1-p$, it needs to find the nearest neighbor of another sub-cluster, which takes expectation of operations $(1-p)T(\\frac{N}{2})$. After this, the algorithm then compares the two nearest neighbors to get the nearest neighbor for the original cluster.\n",
    "\n",
    "So the total cost for any $N\\le 2^k$ will be $T(N) \\le 2d + T(\\frac{N}{2}) + (1-p)T(\\frac{N}{2}) = 2d + (2-p)T(\\frac{N}{2})$. \n",
    "\n",
    "We apply this recursively, i.e. for $N=2^k$, take $T(\\frac{N}{2}) = 2d + (2-p)T(\\frac{N}{2^2})$ into abvoe equation, and notice that $T(\\frac{N}{2^k}) = O(1)$, we have \n",
    "\n",
    "$T(N) = 2d \\frac{1-(2-p)^k}{p-1} + (2-p)^k T(1) = O(d(2-p)^k) = O(dN^{\\log_2(2-p)})$\n",
    "\n",
    "I am not sure where does the term $O(d\\log N)$ come from. It appears that if $p=1$, for $N=2^k$, we have $T(N) = O(d\\log N)$ from the recursive relationship. The term $O(dN^{\\log_2(2-p)})=O(d)$"
   ]
  },
  {
   "cell_type": "markdown",
   "metadata": {},
   "source": [
    "#### Problem 6.16"
   ]
  },
  {
   "cell_type": "markdown",
   "metadata": {},
   "source": [
    "#### Problem 6.16 (a)-(i) Construct 10-partition"
   ]
  },
  {
   "cell_type": "code",
   "execution_count": 2,
   "metadata": {},
   "outputs": [],
   "source": [
    "def partition_data(pts, M, do_plot=True):\n",
    "    centers, radii, clusters = nn.create_data_partitions(pts, M, 100)\n",
    "    if do_plot:\n",
    "        x1s = [pts[:, 0], centers[:, 0]]\n",
    "        x2s = [pts[:, 1], centers[:, 1]]\n",
    "        myplot.plt_plot(x1s, x2s, 'scatter', ['b', 'r'], ['o', 'x'], ['Raw Data', 'Centers'], \n",
    "            title = '6.16(a) Random Uniformly Points', yscale = None, ylb = None, yub = None,\n",
    "            xlb = None, xub = None, xlabel = 'x1-coordinate', ylabel = 'x2-coordinate',\n",
    "            legends = ['+', '-'], legendx = None, legendy = None, marker_sizes=[4, 100])          \n",
    "    return centers, radii, clusters\n",
    "\n",
    "def brute_force(pts, query_pts):\n",
    "    # Brute Force Approach\n",
    "    start_time = time.time()\n",
    "    neighbors = []\n",
    "    for pt in query_pts:\n",
    "        p, _ = nn.find_nn_idx(pt.reshape(-1, 2), pts, 1)\n",
    "        neighbors.append(p)\n",
    "    end_time = time.time()    \n",
    "    brute_time = (end_time - start_time) #seconds\n",
    "    print(f'It took {brute_time} seconds for brute force approach')\n",
    "    return neighbors\n",
    "\n",
    "def simple_branch_bound_approach(pts, query_pts, clusters, centers, radii):\n",
    "    # Simple Branch and Bound Approach\n",
    "    \n",
    "    start_time = time.time()\n",
    "    neighbors2 = []\n",
    "    c1 = 0\n",
    "    c2 = 0\n",
    "    num_centers = len(centers)\n",
    "    for pt in query_pts:\n",
    "        #print(pt)\n",
    "        p, count1, count2 = nn.simple_brach_bound(pt, pts, clusters, centers, radii)\n",
    "        c1 += count1\n",
    "        c2 += count2\n",
    "        neighbors2.append(p)\n",
    "    end_time = time.time()    \n",
    "    bb_time = (end_time - start_time) #seconds\n",
    "    print(f'It took {bb_time} seconds for Simple Branch and Bound Approach')\n",
    "    print(f'There are total {c1} type 1 calculations out of {N} queries with {num_centers} clusters')\n",
    "    print(f'There are total {c2} type 2 calculations out of {N} queries with {num_centers} clusters')\n",
    "    return neighbors2\n",
    "\n",
    "def check_consistencey(pts, neighbors, neighbors2):\n",
    "    # Check if two approaches match with each other\n",
    "    diffs = {}\n",
    "    for idx, nn1_idx in enumerate(neighbors):\n",
    "        nn1 = pts[nn1_idx]\n",
    "        nn2 = neighbors2[idx]\n",
    "        diff = np.linalg.norm(nn1.flatten() - nn2.flatten())\n",
    "        if diff > 1.0e-16:\n",
    "            diffs[idx] = diff\n",
    "    \n",
    "    print(f'There should be no difference between the two approaches: {len(diffs)}')\n",
    "    return diffs\n",
    "    "
   ]
  },
  {
   "cell_type": "code",
   "execution_count": 3,
   "metadata": {},
   "outputs": [
    {
     "name": "stdout",
     "output_type": "stream",
     "text": [
      "Found converge in partition at iteration: 33\n",
      "It took 50.793227434158325 seconds to cluster the points.\n",
      "[[0.3613153  0.64641316]\n",
      " [0.8260089  0.17263588]\n",
      " [0.15549683 0.15726887]\n",
      " [0.47384104 0.14740308]\n",
      " [0.85307687 0.84131751]\n",
      " [0.84530446 0.51661743]\n",
      " [0.16288072 0.8491088 ]\n",
      " [0.55669929 0.43934924]\n",
      " [0.1525688  0.463787  ]\n",
      " [0.54394678 0.8457164 ]]\n",
      "{0: 0.1923223628150238, 1: 0.23992485852258555, 2: 0.21783759591090682, 3: 0.23793841031392618, 4: 0.21452558040369374, 5: 0.22444966511316403, 6: 0.23465706155088392, 7: 0.22533788232769586, 8: 0.24141339035826914, 9: 0.23819910989547682}\n"
     ]
    },
    {
     "data": {
      "image/png": "[encoded data removed]",
      "text/plain": [
       "<Figure size 432x288 with 1 Axes>"
      ]
     },
     "metadata": {
      "needs_background": "light"
     },
     "output_type": "display_data"
    }
   ],
   "source": [
    "N = 10000\n",
    "dim = 2\n",
    "M = 10\n",
    "pts = data.generate_random_numbers01(N, dim, max_v = 100000)\n",
    "query_pts = data.generate_random_numbers01(N, dim, max_v = 100000)\n",
    "start_time = time.time()\n",
    "centers1, radii1, clusters1 = partition_data(pts, M, do_plot=True)\n",
    "end_time = time.time()    \n",
    "bb_time = (end_time - start_time) #seconds\n",
    "print(f'It took {bb_time} seconds to cluster the points.')\n",
    "print(centers1)\n",
    "print(radii1)"
   ]
  },
  {
   "cell_type": "markdown",
   "metadata": {},
   "source": [
    "#### Problem 6.16 (a)-(ii) Find Nearest Neighbors using Two Algos with Uniformly Generated Data\n",
    "\n",
    "It takes less time with branch and bound approach. From the graph of the data, we can see that the data is partitioned relately well, not many clusters overlap with each other. "
   ]
  },
  {
   "cell_type": "code",
   "execution_count": 4,
   "metadata": {},
   "outputs": [
    {
     "name": "stdout",
     "output_type": "stream",
     "text": [
      "It took 6.384962558746338 seconds for brute force approach\n",
      "It took 4.237643718719482 seconds for Simple Branch and Bound Approach\n",
      "There are total 0 type 1 calculations out of 10000 queries with 10 clusters\n",
      "There are total 16412 type 2 calculations out of 10000 queries with 10 clusters\n",
      "There should be no difference between the two approaches: 0\n",
      "{}\n"
     ]
    }
   ],
   "source": [
    "neighbors = brute_force(pts, query_pts)\n",
    "neighbors2 = simple_branch_bound_approach(pts, query_pts, clusters1, centers1, radii1)\n",
    "diffs = check_consistencey(pts, neighbors, neighbors2)\n",
    "print(diffs)\n",
    "assert(len(diffs)==0)"
   ]
  },
  {
   "cell_type": "markdown",
   "metadata": {},
   "source": [
    "#### Problem 6.16 (b) Use Gaussian Mixture Data\n",
    "\n",
    "It takes similar amount of time with branch and bound mehtod. That's because the centers of the gaussian distributions are not well separated and also because the variance used to generate the data is big, so there are many overlaps in the 10 clusters. \n",
    "Although there are less computations, the algo is more complicate than the brute force method and ends up with similar amount of total time. For $variance=0.1**2$, the performance is actually worse compared with data generated uniformly. \n",
    "\n",
    "Note, the query data is also generated with gaussiam mixture model.\n",
    "\n",
    "If we increase variance, the method will take more time than the simple method. "
   ]
  },
  {
   "cell_type": "code",
   "execution_count": 13,
   "metadata": {},
   "outputs": [
    {
     "name": "stdout",
     "output_type": "stream",
     "text": [
      "Randomly generated Gaussian centers: \n",
      " [[0.38929389 0.46622466]\n",
      " [0.38356384 0.97705977]\n",
      " [0.43419434 0.99437994]\n",
      " [0.11821118 0.68403684]\n",
      " [0.61105611 0.20324203]\n",
      " [0.08075081 0.68720687]\n",
      " [0.62922629 0.59732597]\n",
      " [0.1196612  0.11414114]\n",
      " [0.96684967 0.70928709]\n",
      " [0.31688317 0.32335323]]\n",
      "It took 143.2013282775879 seconds to cluster the points.\n",
      "[[0.45214728 0.4387529 ]\n",
      " [0.25090107 0.56168152]\n",
      " [0.28489489 0.2894621 ]\n",
      " [0.6394493  0.61581557]\n",
      " [0.03943495 0.67315614]\n",
      " [0.21207227 0.82647071]\n",
      " [0.61316346 0.18659258]\n",
      " [0.4315139  1.00624219]\n",
      " [0.1065868  0.09720159]\n",
      " [0.97129783 0.7091708 ]]\n",
      "{0: 0.20618776813431627, 1: 0.22455609123501086, 2: 0.27071934473144904, 3: 0.3033206381304739, 4: 0.3589391189761204, 5: 0.3014186642114046, 6: 0.36835120612665456, 7: 0.3348867199597102, 8: 0.31231424598824553, 9: 0.3362028875768226}\n"
     ]
    },
    {
     "data": {
      "image/png": "[encoded data removed]",
      "text/plain": [
       "<Figure size 432x288 with 1 Axes>"
      ]
     },
     "metadata": {
      "needs_background": "light"
     },
     "output_type": "display_data"
    }
   ],
   "source": [
    "G = 10\n",
    "# The centers(means) of Gaussians are randomly points in [0,1]^2\n",
    "means = data.generate_random_numbers01(G, dim, max_v = 100000)\n",
    "print(f'Randomly generated Gaussian centers: \\n {means}')\n",
    "\n",
    "# Covariance for each Gaussian\n",
    "var = 0.1**2\n",
    "cov1 = np.array([[var,0], [0, var]])\n",
    "covs = np.array([cov1]*G)\n",
    "\n",
    "# The weights of each Gaussian bump\n",
    "probs = np.ones(G)/G\n",
    "\n",
    "# Random numbers generated by Gaussian Mixture Model (GMM)\n",
    "gmm_random_nums = data.generate_gmm(means, covs, probs, N)\n",
    "g_pts = np.empty((0,2))\n",
    "for ix, ids in gmm_random_nums.items():\n",
    "    g_pts = np.vstack([g_pts, ids])\n",
    "    \n",
    "N = 10000\n",
    "dim = 2\n",
    "M = 10\n",
    "#query_pts = data.generate_random_numbers01(N, dim, max_v = 100000)\n",
    "q_pts = data.generate_gmm(means, covs, probs, N)\n",
    "g_query_pts = np.empty((0,2))\n",
    "for ix, gpts in q_pts.items():\n",
    "    g_query_pts = np.vstack([g_query_pts, gpts])\n",
    "    \n",
    "start_time = time.time()    \n",
    "centers, radii, clusters = partition_data(g_pts, M, do_plot=True)  \n",
    "end_time = time.time()    \n",
    "bb_time = (end_time - start_time) #seconds\n",
    "print(f'It took {bb_time} seconds to cluster the points.')\n",
    "print(centers)\n",
    "print(radii)"
   ]
  },
  {
   "cell_type": "code",
   "execution_count": 14,
   "metadata": {},
   "outputs": [
    {
     "data": {
      "image/png": "[encoded data removed]",
      "text/plain": [
       "<Figure size 432x288 with 1 Axes>"
      ]
     },
     "metadata": {
      "needs_background": "light"
     },
     "output_type": "display_data"
    }
   ],
   "source": [
    "x1s = [g_query_pts[:, 0]]\n",
    "x2s = [g_query_pts[:, 1]]\n",
    "myplot.plt_plot(x1s, x2s, 'scatter', ['b', 'r'], ['o', 'x'], ['Raw Data', 'Centers'], \n",
    "    title = '6.16(a) Random Uniformly Points', yscale = None, ylb = None, yub = None,\n",
    "    xlb = None, xub = None, xlabel = 'x1-coordinate', ylabel = 'x2-coordinate',\n",
    "    legends = ['+', '-'], legendx = None, legendy = None, marker_sizes=[4, 100])          \n"
   ]
  },
  {
   "cell_type": "code",
   "execution_count": 15,
   "metadata": {},
   "outputs": [
    {
     "name": "stdout",
     "output_type": "stream",
     "text": [
      "It took 6.213414192199707 seconds for brute force approach\n",
      "It took 5.63115382194519 seconds for Simple Branch and Bound Approach\n",
      "There are total 0 type 1 calculations out of 10000 queries with 10 clusters\n",
      "There are total 26657 type 2 calculations out of 10000 queries with 10 clusters\n",
      "There should be no difference between the two approaches: 0\n"
     ]
    },
    {
     "data": {
      "text/plain": [
       "{}"
      ]
     },
     "execution_count": 15,
     "metadata": {},
     "output_type": "execute_result"
    }
   ],
   "source": [
    "neighbors = brute_force(g_pts, g_query_pts)\n",
    "neighbors2 = simple_branch_bound_approach(g_pts, g_query_pts, clusters, centers, radii)\n",
    "check_consistencey(g_pts, neighbors, neighbors2)"
   ]
  },
  {
   "cell_type": "code",
   "execution_count": 16,
   "metadata": {},
   "outputs": [
    {
     "name": "stdout",
     "output_type": "stream",
     "text": [
      "It took 63.992942810058594 seconds for brute force approach\n",
      "It took 54.789546251297 seconds for Simple Branch and Bound Approach\n",
      "There are total 0 type 1 calculations out of 10000 queries with 10 clusters\n",
      "There are total 265805 type 2 calculations out of 10000 queries with 10 clusters\n",
      "There should be no difference between the two approaches: 0\n"
     ]
    },
    {
     "data": {
      "text/plain": [
       "{}"
      ]
     },
     "execution_count": 16,
     "metadata": {},
     "output_type": "execute_result"
    }
   ],
   "source": [
    "q_pts = data.generate_gmm(means, covs, probs, N*10)\n",
    "g_query_pts = np.empty((0,2))\n",
    "for ix, gpts in q_pts.items():\n",
    "    g_query_pts = np.vstack([g_query_pts, gpts])\n",
    "\n",
    "neighbors = brute_force(g_pts, g_query_pts)\n",
    "neighbors2 = simple_branch_bound_approach(g_pts, g_query_pts, clusters, centers, radii)\n",
    "check_consistencey(g_pts, neighbors, neighbors2)"
   ]
  },
  {
   "cell_type": "markdown",
   "metadata": {},
   "source": [
    "#### Problem 6.16 (d) \n",
    "\n",
    "I probably will use the branch and bound technique when there are a lot of test points. Its performance is at least similar to brute-force method, but improve a lot when the data can be well separated into clusters. \n",
    "\n",
    "Also note, here we just did one-level partition, with recursive partition, we may improve the performance a lot better. \n",
    "\n",
    "This, however, hasn't taken into account the time spent to partition the data, which may take quite a while. "
   ]
  },
  {
   "cell_type": "markdown",
   "metadata": {},
   "source": [
    "#### Problem 6.17\n",
    "\n",
    "According to exercise 6.8, assume we partition any cluster with more than $k$ points, so the smallest clusters have size of $k$ or less. If we split $m$ times, then we have $k=\\frac{N}{2^m}$, i.e. $m=\\log_2\\frac{N}{k}$. By problem 6.15, when $p=\\frac{1}{2}$, the expected time to find the nearest neighbor in a cluster with $N$ points is $T(N)=d(2-p)^m = d(\\frac{N}{k})^{\\log_2(2-p)} = d(\\frac{N}{k})^{\\log_23 - 1}$.\n",
    "\n",
    "So for each of the 10-fold, it will cost $O(\\frac{N}{10}d(\\frac{N}{k})^{\\log_23 - 1})$, with 10 folds, we have the total cost for a given $k$ as $O(Nd(\\frac{N}{k})^{\\log_23 - 1})$.\n",
    "\n",
    "Sum over $k$ from 1 to $\\frac{N+1}{2}$, we see that the total cost is $O(N^{\\log_23}d)$, which is a lot faster than the brute force method.\n"
   ]
  },
  {
   "cell_type": "markdown",
   "metadata": {},
   "source": [
    "#### Problem 6.18\n",
    "\n",
    "* (a) Assume all data points fall into a unit ball in $d$-dimension. The probability of a point $x_i$ falls into the neighborhood of $x$, i.e. ball of size $r^d$ centered at $x$, is just $P(x_i \\in r^d)=r^d$, so the expected number of neighbors is just $Nr^d$.\n",
    "\n",
    "* (b) As $N$ grows, if $Nr^d \\to \\infty$, and $r \\to 0$, it means the neighborhood of $x$ becomes infinitely small around $x$, but the number of points that contribute to the decision, i.e. $Nr^d$ grows to very large. So there are a lot of points contribute to the decision of $x$ using a very small neighborhood. This surely will include the $k$-nearest neighbors for $x$. \n",
    "According to Theorem 6.2, from problem (a) $k(N)=Nr^d \\to \\infty$ and $\\frac{k(N)}{N} = r^d \\to 0$, so the classifier approaches optimal.\n",
    "\n",
    "* (c) We can choose $r=N^{-\\frac{1}{2d}}$\n",
    "\n",
    "#### Problem 6.19\n",
    "\n",
    "Given the number of bumps $k$ and scale $r$:\n",
    "\n",
    "1. Initialize $\\mu_j$ using the greedy approach on page 16\n",
    "2. Find the points that belong to each $\\mu_j$\n",
    "3. Compute $\\mu_j$, $\\Sigma_j$ using the points belong the center $j$\n",
    "4. Calculate the features on the data points using $\\mu, \\Sigma$.\n",
    "5. Apply linear model to find out the weights $w$\n",
    "6. Compute the in-sample error $E_{in}$\n",
    "7. If $E_{in}$ is within certain tolerance, stop. \n",
    "8. Otherwise, goto step 2 and repeat"
   ]
  },
  {
   "cell_type": "markdown",
   "metadata": {},
   "source": [
    "#### Problem 6.20\n",
    "\n",
    "* (a) To penalize $h$ to be too curvy or wiggly, we can select $a_k$ to be inverse of the bounds of the derivatives of $h$. \n",
    "\n",
    "* (b)\n",
    "\n",
    "\\begin{align*}\n",
    "E_{aug}(h) &= \\int^{\\infty}_{-\\infty}dx \\left[\\sum^N_{i=1}(h(x)-y_i)^2\\delta(x-x_i) + \\lambda \\sum^{\\infty}_{k=0} a_k \\left(h^{(k)}(x)\\right)^2\\right]\\\\\n",
    "&= \\sum^N_{i=1} \\int^{\\infty}_{-\\infty}dx (h(x)-y_i)^2\\delta(x-x_i) + \\lambda \\sum^{\\infty}_{k=0} a_k \\int^{\\infty}_{-\\infty}dx\\left(h^{(k)}(x)\\right)^2\\\\\n",
    "&= \\sum^N_{i=1} (h(x_i)-y_i)^2 + \\lambda \\sum^{\\infty}_{k=0} a_k \\int^{\\infty}_{-\\infty}dx\\left(h^{(k)}(x)\\right)^2\\\\\n",
    "\\end{align*}\n",
    "\n",
    "Let's compute the variations\n",
    "\n",
    "\n",
    "\\begin{align*}\n",
    "\\delta E_{aug}(h) &= E_{aug}(h+\\delta h) - E_{aug}(h) \\\\\n",
    "&= \\int^{\\infty}_{-\\infty}dx \\left[\\sum^N_{i=1}(h+ \\delta h-y_i)^2\\delta(x-x_i) - (h-y_i)^2\\delta(x-x_i) + \\lambda \\sum^{\\infty}_{k=0} a_k \\left( \\left((h+\\delta h)^{(k)}\\right)^2 - \\left(h^{(k)}\\right)^2 \\right)\\right]\\\\\n",
    "&= \\int^{\\infty}_{-\\infty}dx \\left[\\sum^N_{i=1}\\delta h(2h+ \\delta h-2y_i)\\delta(x-x_i) + \\lambda \\sum^{\\infty}_{k=0} a_k \\left( \\left(h^{(k)}+\\delta h^{(k)}\\right)^2 - \\left(h^{(k)}\\right)^2 \\right)\\right]\\\\\n",
    "&= \\int^{\\infty}_{-\\infty}dx \\left[\\sum^N_{i=1}\\delta h(2h+ \\delta h-2y_i)\\delta(x-x_i) + \\lambda \\sum^{\\infty}_{k=0} a_k \\left(2\\delta h^{(k)}h^{(k)} + (\\delta h^{(k)})^2\\right)\\right]\\\\\n",
    "&\\text{Ignore the terms of higher order than linear in }\\delta h\\\\\n",
    "&= \\int^{\\infty}_{-\\infty}dx \\left[\\sum^N_{i=1}2\\delta h(h-y_i)\\delta(x-x_i) + \\lambda \\sum^{\\infty}_{k=0} 2a_k \\delta h^{(k)}h^{(k)}\\right]\\\\\n",
    "&= \\int^{\\infty}_{-\\infty}dx 2\\delta h\\left[\\sum^N_{i=1}(h-y_i)\\delta(x-x_i)\\right] + \\lambda \\sum^{\\infty}_{k=0} 2a_k \\int^{\\infty}_{-\\infty}dx  \\delta h^{(k)}h^{(k)}\\\\\n",
    "\\end{align*}\n",
    "\n",
    "We look at the integration in the second term, and integrate by parts:\n",
    "\n",
    "\\begin{align*}\n",
    "\\int^{\\infty}_{-\\infty}dx \\delta h^{(k)}h^{(k)} &= \\delta h^{(k-1)}h^{(k)}|^{\\infty}_{-\\infty} - \\int^{\\infty}_{-\\infty}dx \\delta h^{(k-1)}h^{(k+1)}\\\\\n",
    "&= - \\int^{\\infty}_{-\\infty}dx \\delta h^{(k-1)}h^{(k+1)}\\;\\;\\;\\text{ Assume all boundary terms to 0}\\\\\n",
    "&= \\int^{\\infty}_{-\\infty}dx \\delta h^{(k-2)}h^{(k+2)}\\\\\n",
    "&= \\dots\\\\\n",
    "&= (-1)^k \\int^{\\infty}_{-\\infty}dx \\delta hh^{(2k)}\\\\\n",
    "\\end{align*}\n",
    "\n",
    "\n",
    "\n",
    "\n",
    "Take this back into previous equation, and let $\\delta E_{aug}(h)=0$, we have\n",
    "\n",
    "\\begin{align*}\n",
    "\\delta E_{aug}(h) &= \\int^{\\infty}_{-\\infty}dx 2\\delta h\\left[\\sum^N_{i=1}(h-y_i)\\delta(x-x_i)\\right] + \\lambda \\sum^{\\infty}_{k=0} 2a_k \\int^{\\infty}_{-\\infty}dx  \\delta h^{(k)}h^{(k)}\\\\\n",
    "&= \\int^{\\infty}_{-\\infty}dx 2\\delta h\\left[\\sum^N_{i=1}(h-y_i)\\delta(x-x_i)\\right] + \\lambda \\sum^{\\infty}_{k=0} 2a_k (-1)^k \\int^{\\infty}_{-\\infty}dx \\delta h h^{(2k)}\\\\\n",
    "&= \\int^{\\infty}_{-\\infty}dx 2\\delta h\\left[\\sum^N_{i=1}(h-y_i)\\delta(x-x_i) + \\lambda \\sum^{\\infty}_{k=0} a_k (-1)^k h^{(2k)}\\right]\\\\\n",
    "&= 0\n",
    "\\end{align*}\n",
    "\n",
    "We conclude that the integrand has to be zero all the time, so we have\n",
    "\\begin{align*}\n",
    "\\sum^N_{i=1}(h(x)-y_i)\\delta(x-x_i) + \\lambda \\sum^{\\infty}_{k=0}(-1)^k a_k  h^{(2k)}(x) = 0\n",
    "\\end{align*}\n"
   ]
  },
  {
   "cell_type": "markdown",
   "metadata": {},
   "source": [
    "* (c) Looks like there's an error in the text problem (c), where $L$ should be $L=\\sum^{\\infty}_{k=0}(-1)^ka_k \\frac{d^{2k}}{dx^{2k}}$ \n",
    "\n",
    "If we choose $h(x) = \\sum^N_{i=1}w_iG(x,x_i)$, then we have \n",
    "\n",
    "\\begin{align*}\n",
    "\\lambda \\sum^{\\infty}_{k=0}(-1)^ka_k h^{(2k)}(x) &= \\lambda \\sum^{\\infty}_{k=0}(-1)^ka_k \\sum^N_{i=1}w_iG^{(2k)}(x,x_i)  \\\\\n",
    "&= \\lambda \\sum^N_{i=1} w_i \\sum^{\\infty}_{k=0}(-1)^ka_k G^{(2k)}(x,x_i)  \\\\\n",
    "&= \\lambda \\sum^N_{i=1} w_i LG(x,x_i)  \\\\\n",
    "&= \\lambda \\sum^N_{i=1} w_i \\delta(x-x_i)  \\\\\n",
    "\\end{align*}\n",
    "\n",
    "Take this back into the stationarity condition, we have\n",
    "\n",
    "\\begin{align*}\n",
    "\\sum^N_{i=1}(h(x)-y_i)\\delta(x-x_i) + \\lambda \\sum^{\\infty}_{k=0}(-1)^k a_k  h^{(2k)}(x) &= \\sum^N_{i=1}(h(x)-y_i)\\delta(x-x_i) + \\lambda \\sum^N_{i=1} w_i \\delta(x-x_i)\\\\\n",
    "&=\\sum^N_{i=1}\\left[(h(x)-y_i)+\\lambda w_i\\right]\\delta(x-x_i)\\\\\n",
    "&= 0\\\\\n",
    "\\end{align*}\n",
    "\n",
    "It's easy to see that the stationary condition has $N$ conditions at each of $x=x_i$ points, i.e. \n",
    "\n",
    "\\begin{align*}\n",
    "h(x_1) - y_1 + \\lambda w_1 &= 0 \\\\\n",
    "\\dots \\\\\n",
    "h(x_i) - y_i + \\lambda w_i &= 0\\\\\n",
    "\\dots \\\\\n",
    "h(x_N) - y_N + \\lambda w_N &= 0 \\\\\n",
    "\\end{align*}\n",
    "\n",
    "Take $h(x_i) = \\sum^N_{j=1} w_jG(x_i, x_j)$, we obtain a matrix equation\n",
    "\n",
    "\\begin{align*}\n",
    "(G+\\lambda I)w = y\\\\\n",
    "w = (G+\\lambda I)^{-1}y\\\\\n",
    "\\end{align*}\n",
    "\n",
    "* (d) Since $LG(x,x')=\\delta(x-x')$, apply Fourier transform on both sides, we have\n",
    "\n",
    "\\begin{align*}\n",
    "\\int^{\\infty}_{-\\infty}dx e^{2\\pi i fx} LG(x,x') &= \\int^{\\infty}_{-\\infty}dx e^{2\\pi i fx}\\sum^{\\infty}_{k=0}(-1)^ka_k G^{(2k)}(x)\\\\\n",
    "&=\\sum^{\\infty}_{k=0}(-1)^ka_k \\int^{\\infty}_{-\\infty}dx e^{2\\pi i fx}G^{(2k)}(x)\\\\\n",
    "&=\\sum^{\\infty}_{k=0}(-1)^ka_k \\left[e^{2\\pi i fx}G^{(2k-1)}(x)|^{\\infty}_{-\\infty} - (2\\pi i f)\\int^{\\infty}_{-\\infty}dx e^{2\\pi i fx}G^{(2k-1)}(x,x')\\right]\\\\\n",
    "&\\text{ Assume that the boundary terms vanish, we have}\\\\\n",
    "&=\\sum^{\\infty}_{k=0}(-1)^ka_k \\left[- (2\\pi i f)\\int^{\\infty}_{-\\infty}dx e^{2\\pi i fx}G^{(2k-1)}(x,x')\\right]\\\\\n",
    "&= \\dots \\\\\n",
    "&=\\sum^{\\infty}_{k=0}(-1)^ka_k \\left[(-1)^{2k}(2\\pi i f)^{2k}\\int^{\\infty}_{-\\infty}dx e^{2\\pi i fx}G(x,x')\\right]\\\\\n",
    "&=\\sum^{\\infty}_{k=0}(-1)^ka_k \\left[(-1)^k(2\\pi f)^{2k}\\int^{\\infty}_{-\\infty}dx e^{2\\pi i fx}G(x,x')\\right]\\\\\n",
    "&=\\sum^{\\infty}_{k=0}a_k (2\\pi f)^{2k}\\left[\\int^{\\infty}_{-\\infty}dx e^{2\\pi i fx}G(x,x')\\right]\\\\\n",
    "\\end{align*}\n",
    "\n",
    "The right hand side Fourier transformation is equal to $\\int^{\\infty}_{-\\infty}dx e^{2\\pi i fx}\\delta(x-x') = e^{2\\pi i fx'}$, so we have\n",
    "\n",
    "\\begin{align*}\n",
    "\\int^{\\infty}_{-\\infty}dx e^{2\\pi i fx}G(x,x') &= \\frac{e^{2\\pi i fx'}}{\\sum^{\\infty}_{k=0}a_k (2\\pi f)^{2k}}\\\\\n",
    "\\end{align*}\n",
    "\n",
    "The left side is just the Fourier transform of $G(x,x')$, apply inverse Fourier transform on both sides, we obtain\n",
    "\n",
    "\\begin{align*}\n",
    "G(x,x') &= \\int^{\\infty}_{-\\infty}df e^{-2\\pi i fx}\\frac{e^{2\\pi i fx'}}{\\sum^{\\infty}_{k=0}a_k (2\\pi f)^{2k}}\\\\\n",
    "&= \\int^{\\infty}_{-\\infty}df \\frac{e^{2\\pi i f(x'-x)}}{Q(f)}\\\\\n",
    "\\end{align*}\n",
    "\n",
    "Where $Q(f) = \\sum^{\\infty}_{k=0}a_k (2\\pi f)^{2k}$\n",
    "\n",
    "If we choose $a_k = \\frac{1}{2^kk!}$, then we have $Q(f) = \\sum^{\\infty}_{k=0}\\frac{1}{2^kk!} (2\\pi f)^{2k} = \\sum^{\\infty}_{k=0}\\frac{(2\\pi f)^{2k}}{2^kk!} = \\sum^{\\infty}_{k=0}\\frac{(2\\pi^2 f^2)^{k}}{k!} = e^{2\\pi^2 f^2}$\n",
    "\n",
    "In this case, we have $G(x,x') = \\int^{\\infty}_{-\\infty}df \\frac{e^{2\\pi i f(x'-x)}}{Q(f)} = \\int^{\\infty}_{-\\infty}df e^{2\\pi i f(x'-x) - 2\\pi^2 f^2} = \\frac{1}{\\sqrt{2\\pi}}e^{-\\frac{1}{2}(x-x')^2}$\n",
    "\n",
    "by using formula $\\int^{\\infty}_{-\\infty}dt e^{-at^2+bt} = \\sqrt{\\pi}{a}e^{\\frac{b^2}{4a}}$ where $a=2\\pi^2, b=2\\pi i (x' -x)$"
   ]
  },
  {
   "cell_type": "code",
   "execution_count": null,
   "metadata": {},
   "outputs": [],
   "source": []
  }
 ],
 "metadata": {
  "kernelspec": {
   "display_name": "Python 3",
   "language": "python",
   "name": "python3"
  },
  "language_info": {
   "codemirror_mode": {
    "name": "ipython",
    "version": 3
   },
   "file_extension": ".py",
   "mimetype": "text/x-python",
   "name": "python",
   "nbconvert_exporter": "python",
   "pygments_lexer": "ipython3",
   "version": "3.7.3"
  }
 },
 "nbformat": 4,
 "nbformat_minor": 2
}
