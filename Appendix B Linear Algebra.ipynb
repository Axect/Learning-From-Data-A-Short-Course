{
 "cells": [
  {
   "cell_type": "code",
   "execution_count": 1,
   "metadata": {},
   "outputs": [],
   "source": [
    "# Add lib input sys.path\n",
    "import os\n",
    "import sys\n",
    "import time\n",
    "\n",
    "import pandas as pd\n",
    "import numpy as np\n",
    "import sklearn\n",
    "import matplotlib.pyplot as plt\n",
    "from scipy.optimize import minimize\n",
    "import math\n",
    "from sklearn.preprocessing import normalize\n",
    "from functools import partial\n",
    "import h5py\n",
    "from scipy.spatial import distance\n",
    "\n",
    "nb_dir = os.path.split(os.getcwd())[0]\n",
    "if nb_dir not in sys.path:\n",
    "    sys.path.append(nb_dir)\n",
    "\n",
    "from matplotlib.colors import ListedColormap\n",
    "import libs.linear_models as lm\n",
    "import libs.data_util as data\n",
    "import libs.nn as nn\n",
    "import libs.plot as myplot\n",
    "from sklearn import decomposition\n",
    "from sklearn.model_selection import train_test_split\n",
    "from scipy.optimize import minimize_scalar\n",
    "\n",
    "%matplotlib inline"
   ]
  },
  {
   "cell_type": "markdown",
   "metadata": {},
   "source": [
    "#### Exercise B.1\n",
    "\n",
    "* (a) \n",
    "  * There is only one vector in the first set, it is independent.\n",
    "  * The vector $\\begin{bmatrix}1\\\\2\\end{bmatrix}$ and $\\begin{bmatrix}2\\\\4\\end{bmatrix}$ are dependent.\n",
    "  * The vector $\\begin{bmatrix}1\\\\2\\end{bmatrix}$ and $\\begin{bmatrix}1\\\\1\\end{bmatrix}$ are independent.\n",
    "  * since $-2\\begin{bmatrix}1\\\\2\\end{bmatrix} + 5 \\begin{bmatrix}1\\\\1\\end{bmatrix} = \\begin{bmatrix}3\\\\1\\end{bmatrix}$, the vectors are dependent.\n",
    "\n",
    "* (b) Both the vectors in set 3 and set 4 can span $R^2$.\n",
    "\n",
    "* (c) If $v_1,\\dots, v_d$ are independent, suppose $u=\\sum^d_{i=1}\\alpha_i v_i$, if $\\alpha_i$ are not unique, i.e. there exists $\\beta \\ne \\alpha$ such that $u=\\sum^d_{i=1}\\beta_iv_i$. Then we have $\\sum^d_{i=1}(\\alpha_i - \\beta_i)v_i = 0$, since $\\beta \\ne \\alpha$, we have a non-trivial linear combination of $v_i$ that equals to 0. This contradicts with the property that $v_i$ are independent. So $\\alpha$ is uniuqe.\n",
    "\n",
    "Suppose $u=\\sum^d_{i=1}\\alpha_i v_i$ holds for unique $\\alpha_i$, if $v_i$ are not independent, then we have non-trivial solution to $\\sum^d_{i=1}\\beta_i v_i = 0$, we can write, e.g. $v_d = \\sum^{d-1}_{i=1}\\gamma_i v_i$, take this into $u$, we have $u=\\sum^d_{i=1} \\delta_i v_i$ where $\\delta_d = 0$. This contradicts with the assumption that $\\alpha$ is uniuqe. So $v_i$ must be independent.\n",
    "\n",
    "* (d) The vectors in set 3 are a basis for $R^2$.\n",
    "* (e) "
   ]
  },
  {
   "cell_type": "code",
   "execution_count": null,
   "metadata": {},
   "outputs": [],
   "source": []
  }
 ],
 "metadata": {
  "kernelspec": {
   "display_name": "Python 3",
   "language": "python",
   "name": "python3"
  },
  "language_info": {
   "codemirror_mode": {
    "name": "ipython",
    "version": 3
   },
   "file_extension": ".py",
   "mimetype": "text/x-python",
   "name": "python",
   "nbconvert_exporter": "python",
   "pygments_lexer": "ipython3",
   "version": "3.7.3"
  }
 },
 "nbformat": 4,
 "nbformat_minor": 2
}
