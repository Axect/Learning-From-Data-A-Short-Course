{
 "cells": [
  {
   "cell_type": "markdown",
   "metadata": {},
   "source": [
    "# Questions\n",
    "1. Prove Markov's inequality\n",
    "1. Prove Chebyshev's inequality\n",
    "1. Prove that averages of random variables with finite variance converge to their mean using Chebyshev's inequality.\n",
    "1. Prove Chernoff bounds\n",
    "1. What is the **symmetrization** technique in probability? Use it to prove Hoeffding's Lemma"
   ]
  },
  {
   "cell_type": "markdown",
   "metadata": {},
   "source": [
    "# Basic Probability Bounds\n",
    "\n",
    "A basic question is: given a random variable $Z$ with expectation $E[Z]$, how likely is $Z$ to be close to its expectation? And more precisely, how close is it likely to be?\n",
    "\n",
    "## Union Bound\n",
    "If $B_1,B_2,\\dots,B_M$ are any events, then $P[B_1\\;or\\;B_2\\;or\\;\\dots\\;or\\;B_M]\\le P[B_1] + P[B_2] + \\dots + P[B_M]$.\n",
    "## Markov's Inequality\n",
    "\n",
    "Let $Z\\ge0$ be a non-negative random variable. Then for all $t\\ge0$, $P(Z \\ge t) \\le \\frac{E[Z]}{t}$\n",
    "\n",
    "## Chebyshev's Inequality\n",
    "\n",
    "Let $Z$ be any random variable with $Var(Z) \\lt \\infty$. Then \n",
    "\\begin{align}\n",
    "P(Z\\ge E[Z] + t\\;or\\;Z\\le E[Z] - t) &\\le \\frac{Var(Z)}{t^2}\\\\\n",
    "\\end{align}\n",
    "\n",
    "A nice consequence of Chebyshev's inequality is that averages of random variables with finite variance converge to their mean.\n",
    "\n",
    "## Chernoff Bounds\n",
    "Let $Z$ be any random variable. Then for any $t \\ge 0$,\n",
    "\n",
    "\\begin{align}\n",
    "P(Z\\ge E[Z] +t) &\\le min_{\\lambda \\ge 0} E\\left[e^{\\lambda(Z-E[Z])}\\right]e^{-\\lambda t} = min_{\\lambda \\ge 0}M_{Z-E[Z]}(\\lambda)e^{-\\lambda t}\\\\\n",
    "P(Z\\le E[Z] -t) &\\le min_{\\lambda \\ge 0} E\\left[e^{\\lambda(E[Z]-Z)}\\right]e^{-\\lambda t} = min_{\\lambda \\ge 0}M_{E[Z]-Z}(\\lambda)e^{-\\lambda t}\\\\\n",
    "\\end{align}\n",
    "\n",
    "Where $M_{Z}(\\lambda) := E[e^{\\lambda Z}]$ is the moment generating function of $Z$.\n",
    "\n",
    "## Hoeffding's Inequality\n",
    "\n",
    "Let $Z_1,\\dots,Z_n$ be independent bounded random variables with $Z_i \\in [a,b]$ for all $i$, where $-\\infty \\lt a \\le b \\lt \\infty$. Then\n",
    "\n",
    "\\begin{align}\n",
    "P\\left(\\frac{1}{n}\\sum^{n}_{i=1}(Z_i - E[Z_i])\\ge t\\right) &\\le exp\\left(-\\frac{2nt^2}{(b-a)^2}\\right)\\\\\n",
    "\\text{and}\\\\\n",
    "P\\left(\\frac{1}{n}\\sum^{n}_{i=1}(Z_i - E[Z_i])\\le -t\\right) &\\le exp\\left(-\\frac{2nt^2}{(b-a)^2}\\right)\\\\\n",
    "\\end{align}\n",
    "\n",
    "for all $t \\ge 0$."
   ]
  },
  {
   "cell_type": "code",
   "execution_count": null,
   "metadata": {},
   "outputs": [],
   "source": []
  },
  {
   "cell_type": "markdown",
   "metadata": {},
   "source": [
    "# References\n",
    "1. [Hoeffding's inequality](http://cs229.stanford.edu/extra-notes/hoeffding.pdf), Stanford University Course CS229: Machine Learning, Supplementary Notes, 2019."
   ]
  },
  {
   "cell_type": "code",
   "execution_count": null,
   "metadata": {},
   "outputs": [],
   "source": []
  }
 ],
 "metadata": {
  "kernelspec": {
   "display_name": "Python 3",
   "language": "python",
   "name": "python3"
  },
  "language_info": {
   "codemirror_mode": {
    "name": "ipython",
    "version": 3
   },
   "file_extension": ".py",
   "mimetype": "text/x-python",
   "name": "python",
   "nbconvert_exporter": "python",
   "pygments_lexer": "ipython3",
   "version": "3.7.3"
  }
 },
 "nbformat": 4,
 "nbformat_minor": 2
}
