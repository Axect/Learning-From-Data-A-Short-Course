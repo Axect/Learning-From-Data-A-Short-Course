{
 "cells": [
  {
   "cell_type": "code",
   "execution_count": 1,
   "metadata": {},
   "outputs": [],
   "source": [
    "# Add lib input sys.path\n",
    "import os\n",
    "import sys\n",
    "import time\n",
    "\n",
    "import pandas as pd\n",
    "import numpy as np\n",
    "import sklearn\n",
    "import matplotlib.pyplot as plt\n",
    "from scipy.optimize import minimize\n",
    "import math\n",
    "from sklearn.preprocessing import normalize\n",
    "from functools import partial\n",
    "import h5py\n",
    "from scipy.spatial import distance\n",
    "\n",
    "nb_dir = os.path.split(os.getcwd())[0]\n",
    "if nb_dir not in sys.path:\n",
    "    sys.path.append(nb_dir)\n",
    "\n",
    "from matplotlib.colors import ListedColormap\n",
    "import libs.linear_models as lm\n",
    "import libs.data_util as data\n",
    "import libs.nn as nn\n",
    "import libs.plot as myplot\n",
    "from sklearn import decomposition\n",
    "from sklearn.model_selection import train_test_split\n",
    "\n",
    "%matplotlib inline"
   ]
  },
  {
   "cell_type": "markdown",
   "metadata": {},
   "source": [
    "#### Exercise 9.1\n",
    "\n",
    "$x_g = (47,35)$, $x_b = (22, 40)$, $x_u = (21, 36)$\n",
    "\n",
    "The distance from $x_u$ to Mr. Bad is closer than the distance to Mr. Good. So the BoL should NOT give hime credit.\n",
    "\n",
    "If the income is measured in dollars, Mr. Unknown is closer to Mr. Good, so the BoL should give him credit."
   ]
  },
  {
   "cell_type": "code",
   "execution_count": 5,
   "metadata": {},
   "outputs": [
    {
     "name": "stdout",
     "output_type": "stream",
     "text": [
      "--- Income measured in K\n",
      "--- Distance from unknow to Mr. Good: 26.019223662515376\n",
      "--- Distance from unknow to Mr. Bad: 4.123105625617661\n",
      "--- Income measured in dollars\n",
      "--- Distance from unknow to Mr. Good: 1000.3379428972991\n",
      "--- Distance from unknow to Mr. Bad: 4000.000124999998\n"
     ]
    }
   ],
   "source": [
    "# The distance between $x_u$ and the two points\n",
    "print('--- Income measured in K')\n",
    "xg = np.array([47, 35])\n",
    "xb = np.array([22, 40])\n",
    "xu = np.array([21, 36])\n",
    "\n",
    "d_ug = np.linalg.norm(xu-xg)\n",
    "d_ub = np.linalg.norm(xu-xb)\n",
    "print(f\"--- Distance from unknow to Mr. Good: {d_ug}\")\n",
    "print(f\"--- Distance from unknow to Mr. Bad: {d_ub}\")\n",
    "\n",
    "print('--- Income measured in dollars')\n",
    "# Income measured in dollars\n",
    "xg = np.array([47, 35000])\n",
    "xb = np.array([22, 40000])\n",
    "xu = np.array([21, 36000])\n",
    "\n",
    "d_ug = np.linalg.norm(xu-xg)\n",
    "d_ub = np.linalg.norm(xu-xb)\n",
    "print(f\"--- Distance from unknow to Mr. Good: {d_ug}\")\n",
    "print(f\"--- Distance from unknow to Mr. Bad: {d_ub}\")"
   ]
  },
  {
   "cell_type": "markdown",
   "metadata": {},
   "source": [
    "#### Exercise 9.2\n",
    "\n",
    "\\begin{align*}\n",
    "Z &= \\gamma X \\\\\n",
    "&= (I - \\frac{1}{N}1 1^T)X \\\\\n",
    "&= X - \\frac{1}{N} 1 1^T X\\\\\n",
    "&= X - 1\\frac{1}{N} \\begin{bmatrix}\\sum^N_{i=1} x_{i1} & \\sum^N_{i=1} x_{i2} & \\dots & \\sum^N_{i=1} x_{id}\\end{bmatrix}  \\\\\n",
    "&= X - 1\\begin{bmatrix}\\bar{x}_1 & \\bar{x}_2 & \\dots & \\bar{x}_d\\end{bmatrix}\\\\\n",
    "&=  X - 1\\bar{x}^T \\\\\n",
    "\\end{align*}\n",
    "\n",
    "#### Exercise 9.3\n",
    "\n",
    "\\begin{align*}\n",
    "Z &= \\begin{bmatrix}z^T_1 \\\\ \\dots \\\\ z^T_N \\end{bmatrix}\\\\\n",
    "&= \\begin{bmatrix}(Dx_1)^T \\\\ \\dots \\\\ (Dx_N)^T\\end{bmatrix}\\\\\n",
    "&= \\begin{bmatrix}x_1^TD^T \\\\ \\dots \\\\ x_N^TD^T \\end{bmatrix}\\\\\n",
    "&= \\begin{bmatrix}x_1^TD \\\\ \\dots \\\\ x_N^TD \\end{bmatrix}\\\\\n",
    "&= XD \\\\\n",
    "\\end{align*}\n",
    "\n",
    "\\begin{align*}\n",
    "Z^TZ &= (XD)^TXD \\\\\n",
    "&= D^TX^TXD\\\\\n",
    "&= DX^TXD\\\\\n",
    "\\end{align*}\n",
    "\n",
    "#### Exercise 9.4\n",
    "\n",
    "* (a) $\\text{variance}(x_1) = \\text{variance}(\\hat{x}_1) = 1$, $\\text{variance}(x_2) = \\text{variance}(\\sqrt{1-\\epsilon^2}\\hat{x}_1+\\epsilon\\hat{x}_2) = (1-\\epsilon^2)\\text{variance}(\\hat{x}_1)+ \\epsilon^2 \\text{variance}(\\hat{x}_2) = 1$\n",
    "\n",
    "$\\text{covariance}(x_1,x_2) = E[(x_1 - \\bar{x}_1)(x_2 - \\bar{x}_2)] = E[x_1x_2] = E[\\sqrt{1-\\epsilon^2}\\hat{x}^2_1 + \\epsilon\\hat{x}_1\\hat{x}_2] = \\sqrt{1-\\epsilon^2}$\n",
    "\n",
    "* (b) \n",
    "\n",
    "\\begin{align*}\n",
    "f(x) &= w_1x_1 + w_2x_2 \\\\\n",
    "&= w_1\\hat{x}_1 + w_2 (\\sqrt{1-\\epsilon^2}\\hat{x}_1 + \\epsilon \\hat{x}_2) \\\\\n",
    "&= (w_1 + w_2 \\sqrt{1-\\epsilon^2})\\hat{x}_1 + w_2\\epsilon \\hat{x}_2 \\\\\n",
    "&= \\hat{w}_1\\hat{x}_1 + \\hat{w}_2 \\hat{x}_2 \\\\\n",
    "\\end{align*}\n",
    "\n",
    "So if we set $\\hat{w}_1 = w_1 + w_2 \\sqrt{1-\\epsilon^2}, \\hat{w}_2 = w_2\\epsilon$, we see $f$ is linear in $x_1,x_2$.\n",
    "\n",
    "* (c) From problem (b), we have $\\hat{w}_1 = \\hat{w}_2 = 1$, so we have $w_1 = \\frac{\\epsilon - \\sqrt{1-\\epsilon^2}}{\\epsilon}, w_2 = \\frac{1}{\\epsilon}$, so that $C \\ge w^2_1 + w^2_2 = 2\\frac{1-\\epsilon\\sqrt{1-\\epsilon^2}}{\\epsilon^2}$\n",
    "\n",
    "* (d) As $\\epsilon \\to 0$, we have the minimum $C \\to \\infty $. It means that we have to use a huge $C$ to be able to implement the target function, which is impossible here.\n",
    "\n",
    "* (e) If there is significant noise in the data, with correlated inputs, it'll be hard to regularize the learning, and overfitting is likely. So var term can be high while bias can be low.\n",
    "\n",
    "#### Exercise 9.5\n",
    "\n",
    "We compute the distances between $x_1,x_2 $ with $x_{test}$, we have\n",
    "\n",
    "$d^2_1 = |x_1 - x_{test}|^2 = \\sum^d(a_i + 1)^2$ and $d^2_2 = |x_2 - x_{test}|^2 = 4 + \\sum^d(b_i + 1)^2$.\n",
    "\n",
    "Suppose there are $k$ $+1$s in $a_i$ and $l$ $+1$s in $b_i$, then we have\n",
    "\n",
    "$d^2_1 = \\sum^d(a_i + 1)^2 = 4k$ and $d^2_2 = 4 + 4l = 4(l+1)$.\n",
    "\n",
    "To correctly classify $x_{test}$ we want to have $d_1 < d_2$, which indicates that $k < l+1$, i.e. $k\\le l$.\n",
    "\n",
    "So we need compute the probabilities of the number of $+1$ in $a$ is less than or equal to the number of $+1$s in $b$.\n",
    "Both $a$ and $b$ have $d$ elements, by symmetry the probability of $P(k > l) = P(l < k)$, i.e. the probability of $a$ having more $+1$ than $b$ is equal to the probability of $a$ having less $+1$ than $b$. So we have\n",
    "\n",
    "$2P(k>l) + P(k=l) = 1$, thus $P(k\\le l) = P(k < l) + P(k=l) = \\frac{1}{2}(1 + P(k=l))$\n",
    "\n",
    "We only have to solve the probability $P(k=l)$. \n",
    "\n",
    "For a given $k$, the probability of $P\\left[(a \\text{ has } k\\; +1)\\cap (b \\text{ has } k\\; + 1)\\right] = \\frac{d \\choose k}{2^d}\\frac{d \\choose k}{2^d} = \\frac{{d \\choose k}^2}{2^{2d}}$\n",
    "\n",
    "So we have \n",
    "\n",
    "\\begin{align*}\n",
    "P(k=l) &= \\sum^d_{k=0}P\\left[(a \\text{ has } k\\; +1)\\cap (b \\text{ has } k\\; + 1)\\right]\\\\\n",
    "&= \\sum^d_{k=0}\\frac{{d \\choose k}^2}{2^{2d}}\\\\\n",
    "&= \\frac{1}{2^{2d}}\\sum^d_{k=0} {d \\choose k}^2\\\\\n",
    "&= \\frac{1}{2^{2d}}{2d \\choose d}\\\\\n",
    "&= \\frac{1}{2^{2d}}\\frac{(2d)!}{d!d!}\\\\\n",
    "&\\text{apply stirling approximation } n! = \\sqrt{2\\pi n}\\left(\\frac{n}{e}\\right)^n\\\\\n",
    "&\\approx \\frac{1}{2^{2d}}\\frac{\\sqrt{2\\pi 2d}\\left(\\frac{2d}{e}\\right)^{2d}}{\\sqrt{2\\pi d}\\left(\\frac{d}{e}\\right)^d \\sqrt{2\\pi d}\\left(\\frac{d}{e}\\right)^d}\\\\\n",
    "&= \\frac{1}{\\sqrt{\\pi d}}\\\\\n",
    "\\end{align*}\n",
    "\n",
    "So $P(k\\le l) = \\frac{1}{2}(1 + P(k=l)) = \\frac{1}{2} + \\frac{1}{2}\\frac{1}{\\sqrt{\\pi d}} = \\frac{1}{2} + O(\\frac{1}{\\sqrt{d}})$\n",
    "\n",
    "This is the probability of classifying $x_{test}$ correctly with two data points. \n",
    "\n",
    "If there's a third data point $x_3$, then to correctly classify the $x_{test}$, we need have both $d_1 < d_2$ and $d_1 < d_3$, so the probability $P = P(k \\le l)P(k \\le l) = \\frac{1}{4} + O(\\frac{1}{\\sqrt{d}})$\n",
    "\n",
    "The probability of correctly classifying the $x_{test}$ drop about half.\n",
    "\n",
    "#### Exercise 9.6\n",
    "\n",
    "* (a) A large offset shouldn't affect the 'natural axes' from PCA. They only change the origin of the natural axes, but not the directions. We don't have to perform centering before PCA.\n",
    "\n",
    "* (b) If one dimension is inflated, this will increase the variance along the dimension and make PCA choose 'natural axes' along the inflated dimension. We should perform input normalized before doing PCA.\n",
    "\n",
    "* (c) If we do input whitening, the 'natural axes' for the inputs can be any orthogonal axes. Rotation to any angle won't reveal that one dimension is more important than another because they are all equalized.\n",
    "\n",
    "We shouldn't perform input whitening before doing PCA, because that will equalize all axes for the inputs. PCA won't be able to find axes that has large variances against other axes.\n",
    "\n",
    "#### Exercise 9.7\n",
    "\n",
    "* (a) \n",
    "\n",
    "\\begin{align*}\n",
    "z &= \\begin{bmatrix}x^Tv_1 \\\\ \\dots \\\\ x^Tv_k \\end{bmatrix}\\\\\n",
    "&= \\begin{bmatrix}v_1^Tx \\\\ \\dots \\\\ v_k^Tx \\end{bmatrix}\\\\\n",
    "&= \\begin{bmatrix}v_1^T \\\\ \\dots \\\\ v_k^T \\end{bmatrix}x \\\\\n",
    "&= V^Tx\\\\\n",
    "\\end{align*}\n",
    "\n",
    "The dimension of $V$ is $d \\times k$, its columns are the basis $v_1, \\dots, v_d$\n",
    "\n",
    "* (b) \n",
    "\n",
    "\\begin{align*}\n",
    "Z &= \\begin{bmatrix} z^T_1\\\\ \\dots \\\\ z^T_N \\end{bmatrix}\\\\\n",
    "&= \\begin{bmatrix} (V^Tx_1)^T\\\\ \\dots \\\\ (V^Tx_N)^T \\end{bmatrix}\\\\\n",
    "&= \\begin{bmatrix} x^T_1V \\\\ \\dots \\\\ x^T_NV \\end{bmatrix}\\\\\n",
    "&= \\begin{bmatrix} x^T_1 \\\\ \\dots \\\\ x^T_N \\end{bmatrix}V\\\\\n",
    "&= XV\\\\\n",
    "\\end{align*}\n",
    "\n",
    "* (c) We consider the $z=V^Tx$ where $z$ has $d$ components, so $V$ is $d\\times d$. $V=\\begin{bmatrix}v_1^T \\\\ \\dots \\\\ v_d^T \\end{bmatrix}$, since $v$s are othrogonal, we have $V^TV = I$, so $V^T = V^{-1}$\n",
    "\n",
    "\\begin{align*}\n",
    "\\sum^d_{i=1} z^2_i &= \\|z\\|^2 \\\\\n",
    "&= z^Tz \\\\\n",
    "&=  (V^Tx)^T(V^Tx) \\\\\n",
    "&= x^TVV^Tx \\\\\n",
    "&= x^TVV^{-1}x \\\\\n",
    "&= x^Tx \\\\\n",
    "&= \\sum^d_{i=1} x^2_i \\\\\n",
    "\\end{align*}\n",
    "\n",
    "If we choose $k\\le d$ for $z$, we thus have $\\|z\\| \\le \\|x\\| $\n",
    "\n",
    "#### Exercise 9.8\n",
    "\n",
    "$U^TX = U^TU\\Gamma V^T = \\Gamma V^T$, $XV = U\\Gamma V^T V = U\\Gamma$, so we have \n",
    "\n",
    "$X^TU = V\\Gamma$, i.e. $X^Tu_i = \\gamma_i v_i$ and $Xv_i = \\gamma_i u_i$\n",
    "\n",
    "#### Exercise 9.9\n",
    "\n",
    "Let $A$ be a $m\\times n$ matrix, and $A=\\begin{bmatrix} a_1 & \\dots & a_n \\end{bmatrix}$, where $a_i$ are column vectors of dimension $m\\times 1$\n",
    "\n",
    "* (a) $\\|A\\|^2_F = \\sum_m \\|\\text{row}_m(A)\\|^2 = \\sum_n \\|\\text{column}_n(A)\\|^2$\n",
    "\n",
    "$AA^T = \\begin{bmatrix} a_1 & \\dots & a_n \\end{bmatrix}\\begin{bmatrix} a^T_1 \\\\ \\dots \\\\ a^T_n \\end{bmatrix} = \\sum^n_{i=1} a_i a^T_i$\n",
    "\n",
    "So $\\text{trace}(AA^T) = \\text{trace}(\\sum^n_{i=1} a_i a^T_i) =\\sum^n_{i=1} \\text{trace}(a_i a^T_i) = \\sum^n_{i=1} \\sum^m_{j=1}a^2_{ij} = \\sum^n_{i=1} \\|a_i\\|^2 = \\|A\\|^2_F$\n",
    "\n",
    "\n",
    "Also $A^TA = \\begin{bmatrix}a^T_1a_1 & a^T_1a_2 & \\dots & a^T_1a_n \\\\ a^T_2a_1 & a^T_2a_2 & \\dots & a^T_2a_n \\\\ \\dots & \\dots & \\dots & \\dots \\\\ a^T_na_1 & a^T_na_2 & \\dots & a^T_na_n \\\\ \\end{bmatrix}$, and $\\text{trace}(A^TA) = \\sum^n_{i=1} a^T_i a_i = \\sum^n_{i=1} \\|a_i\\|^2 = \\|A\\|^2_F$\n",
    "\n",
    "* (b) Apply the result from problem (a) \n",
    "\n",
    "\\begin{align*}\n",
    "\\|UAV^T\\|^2_F &= \\text{trace}((UAV^T)^T(UAV^T)) \\\\\n",
    "&= \\text{trace}(VA^TU^TUAV^T) \\\\\n",
    "&= \\text{trace}(VA^TAV^T) \\\\\n",
    "&= \\text{trace}((AV^T)^T(AV^T)) \\\\\n",
    "&\\text{apply } trace(XX^T) = trace(X^TX), X = AV^T \\\\\n",
    "&= \\text{trace}((AV^T)(AV^T)^T) \\\\\n",
    "&= \\text{trace}((AV^T)(VA^T)) \\\\\n",
    "&= \\text{trace}(AA^T) \\\\\n",
    "&= \\|A\\|^2_F\\\\\n",
    "\\end{align*}\n",
    "\n",
    "#### Exercise 9.10\n",
    "\n",
    "If all the singular values of $X$ are distinct, then the eigenvalues of $\\Sigma$ are all distinct and positive or zero. \n",
    "\n",
    "* (a) Let $X$ has a dimension of $N\\times d$, and with SVD, let $X=U\\Gamma V^T$ where $U$ has a dimension of $N\\times d$ and $V$ has a dimension of $d\\times d$, so we have $U^TU=I_d$ and $V^TV=VV^T=I_d$. Also let $V=\\begin{bmatrix}v_1 & \\dots & v_d\\end{bmatrix}$, where $v_i$ are the $d\\times 1 $ column vector and they are orthonormal (basis). $\\Gamma$ is the diagonal matrix of the singular values of $X$, and by construction it's ordered, i.e. $\\lambda_1 \\ge \\lambda_2 \\ge \\dots \\ge \\lambda_d \\ge 0 $. \n",
    "\n",
    "Consider any direction $v=\\sum^d_{i=1}q_iv_i$, it should have $\\|v\\|^2 = \\sum^d_{i=1}q^2_i = 1$.\n",
    "\n",
    "\\begin{align*}\n",
    "\\text{var}(z_1,\\dots,z_N) &= v^T\\Sigma v \\\\\n",
    "&= v^T \\frac{1}{N}X^TX v \\\\\n",
    "&= \\frac{1}{N}v^T (U\\Gamma V^T)^T (U\\Gamma V^T) v \\\\\n",
    "&= \\frac{1}{N}v^T V\\Gamma U^TU\\Gamma V^T v \\\\\n",
    "&= \\frac{1}{N}v^T V\\Gamma^2  V^T v \\\\\n",
    "&= \\frac{1}{N}v^T V\\Gamma^2 \\begin{bmatrix}v^T_1 \\\\ \\dots \\\\ v^T_d\\end{bmatrix}  v \\\\\n",
    "&= \\frac{1}{N}v^T V\\begin{bmatrix}\\lambda^2_1 & \\dots & 0 \\\\ 0 & \\lambda^2_2 & \\dots \\\\ \\dots & \\dots & \\dots \\\\ \\dots & 0 & \\lambda^2_d \\end{bmatrix} \\begin{bmatrix}v^T_1v \\\\ \\dots \\\\ v^T_dv\\end{bmatrix} \\\\\n",
    "&= \\frac{1}{N}v^T \\begin{bmatrix}v_1 & \\dots & v_d\\end{bmatrix} \\begin{bmatrix}\\lambda^2_1v^T_1v \\\\ \\lambda^2_2v^T_2v \\\\ \\dots \\\\  \\lambda^2_dv^T_dv \\end{bmatrix}\\\\\n",
    "&= \\frac{1}{N} \\begin{bmatrix}v^Tv_1 & \\dots & v^Tv_d\\end{bmatrix} \\begin{bmatrix}\\lambda^2_1v^T_1v \\\\ \\lambda^2_2v^T_2v \\\\ \\dots \\\\  \\lambda^2_dv^T_dv \\end{bmatrix}\\\\\n",
    "&= \\frac{1}{N} \\sum^d_{i=1}v^Tv_i \\lambda^2_iv^T_iv \\\\\n",
    "&= \\frac{1}{N} \\sum^d_{i=1}\\lambda^2_i v^Tv_i v^T_iv \\\\\n",
    "&= \\frac{1}{N} \\sum^d_{i=1}\\lambda^2_i \\|v^Tv_i\\|^2 \\\\\n",
    "&\\le \\frac{1}{N} \\sum^d_{i=1}\\lambda^2_1 \\|v^Tv_i\\|^2 \\\\\n",
    "&= \\frac{\\lambda^2_1}{N} \\sum^d_{i=1} \\|v^Tv_i\\|^2 \\\\\n",
    "&= \\frac{\\lambda^2_1}{N} \\sum^d_{i=1} q^2_i \\\\\n",
    "&= \\frac{\\lambda^2_1}{N} \\\\\n",
    "&= \\frac{1}{N} v^T_1v_1  \\lambda^2_1 v^T_1v_1\\\\\n",
    "&= \\frac{1}{N} \\sum^d_{i=1} v^T_1v_i  \\lambda^2_1 v^T_1v_i\\\\\n",
    "&= v^T_1\\Sigma v_1\\\\\n",
    "\\end{align*}\n",
    "\n",
    "So the variance is highest when the principal direction is $v_1$ , the top right singular vector of $X$.\n",
    "\n",
    "* (b) Follow the proof in problem (a), we see that the top-1 principal direction is $v_1$, next, if we select the next direction $v$ that is orthogonal to $v_1$, it's clear that $\\text{var}(z_1,\\dots,z_N) = v^T\\Sigma v = \\frac{1}{N} \\sum^d_{i=2}\\lambda^2_i \\|v^Tv_i\\|^2$. It's easy to see that the principal direction with the highest variance is $v_2$. Continue this, we see that the top-k principal directions are $v_1, \\dots, v_k$. \n",
    "\n",
    "\n",
    "* (c) If we don't have the data matrix $X$, but knows $\\Sigma$, since $\\Sigma = \\frac{1}{N}X^TX = \\frac{1}{N}V\\Gamma^2  V^T$\n",
    "\n",
    "$\\Sigma$ is symmetric, we can do eigen-decomposition, the principal directions are the top-k eigenvectors of $\\Sigma$."
   ]
  },
  {
   "cell_type": "markdown",
   "metadata": {},
   "source": [
    "#### Exercise 9.11\n",
    "\n",
    "$x=\\begin{bmatrix} 1 \\\\ 1 \\end{bmatrix}$, $z=\\begin{bmatrix}1 \\\\ 1 \\\\ 2\\end{bmatrix}$. The reconstructed test point in $\\mathcal{Z}$ space using top-1 PCA is: \n",
    "\n",
    "$\\hat{z} = z^Tv_1v_1 = 2v_1 = \\begin{bmatrix}0 \\\\ 0 \\\\ 2\\end{bmatrix}$. \n",
    "By the feature transformation $\\Phi$, we don't have a solution for the reconstructed $\\hat{x}$ in $\\mathcal{X}$ space.\n",
    "\n",
    "#### Exercise 9.12\n",
    "\n",
    "* (a) The VC dimension of $\\mathcal{H}_{+},  \\mathcal{H}_{+}$ is 1. The VC dimension of $\\mathcal{H}$ is 2.\n",
    "\n",
    "* (b) I would pick $\\mathcal{H}_{+}$, because if $x$ is the income, then the credit should increase with income, and $w >0$ makes sense here. \n",
    "\n",
    "#### Exercise 9.13\n",
    "\n",
    "If the hybrid strategy stopped at $\\mathcal{H}_{+}$, we can't use the VC bound for $\\mathcal{H}_{+}$ as we implicit assume we have a bigger hypothesis set $\\mathcal{H}$. We should this the VC-bound of $\\mathcal{H}$ instead.\n",
    "\n",
    "#### Exercise 9.14\n",
    "\n",
    "* (a) $sign(x)$ is monotonically increasing function on $x$, to have $h(x)$ is monotonically increasing in $x$, for $x \\ge z$, we want to have \n",
    "\n",
    "$w_0 + w_1 x_1 + w_2 x_2 + w_3 x^2_1 + w_4 x^2_2 + w_5 x_1x_2 \\ge w_0 + w_1z_1 + w_2z_2 + w_3z^2_1 + w_4z^2_2 + w_5z_1z_2$ \n",
    "\n",
    "i.e. $w_1(x_1-z_1) + w_2(x_2 - z_2) + w_3(x^2_1 - z^2_1) + w_4(x^2_2 - z^2_2) + w_5 (x_1x_2 - z_1z_2) \\ge 0$\n",
    "\n",
    "So we want $w_1,w_2,w_3,w_4,w_5 \\ge 0$ for $h(x) to be monotonically increasing in $x$\n",
    "\n",
    "* (b) For $h(x)$ to be invariant under and arbitrary rotation of $x$, it needs to depend only on $\\|x\\| = \\sqrt{x^2_1 + x^2_2}$\n",
    "\n",
    "So we constrain $w_1=w_2 = w_5 = 0$ and $w_2 = w_3$, thus $h(x) = sign(w_0 + w\\|x\\|^2)$\n",
    "\n",
    "* (c) Since the 2D quadratic function is less than 0 in the middle of the bowl, if we want the positive set to be convex, we want to have $w_3 < 0, w_4 < 0$, such that the bowl is now upside down, and the middle part is larger than 0. The set is convex and enclosed by the points where $h(x) = 0$.\n",
    "\n",
    "\n",
    "#### Exercise 9.15\n",
    "\n",
    "Use the data points allow the algorithm to have larger freedom in selecting the hypothesis, thus have a better fit of the data. On the other hand, the virtual examples force the algorithm to select hypothesis that satisfy the constraints, so it doesn't matter much if there are hypotheses that violates the hint. They will have much less probability to be selected as the final hypothesis. \n",
    "\n",
    "If we want to strictly enforce the constraint, we can add more hint examples, so they can help avoid bad hypotheses.\n",
    "\n",
    "#### Exercise 9.16\n",
    "\n",
    "* Rotational invariance: $E_{hint}(h) = \\frac{1}{N}\\sum^N_{n=1}\\left(h(x_n) - h(x'_n)\\right)^2 1\\left[h(x_n) \\ne h(x'_n)\\right]$\n",
    "\n",
    "* Convexity hint: $E_{hint}(h) = \\frac{1}{N}\\sum^N_{n=1}\\left(h(x_n) - h(x'_n)\\right)^2 1\\left[h(\\eta x_n + (1-\\eta)x'_n) > \\eta h(x_n) + (1-\\eta)h(x'_n)\\right]$, where $0 \\le \\eta \\le 1$\n",
    "\n",
    "\n",
    "* Perturbation hint:  $E_{hint}(h) = \\frac{1}{N}\\sum^N_{n=1}\\left(h(x_n) - g(x_n)\\right)^2 1\\left[|h(x_n) - g(x_n) | > \\delta h(x_n) \\right]$, where $g(x)$ is the known function that the target function is close to.\n",
    "\n",
    "#### Exercise 9.17 TODO\n",
    "\n",
    "\n",
    "\n",
    "#### Exercise 9.18"
   ]
  },
  {
   "cell_type": "code",
   "execution_count": 2,
   "metadata": {},
   "outputs": [],
   "source": [
    "def calc_Eout_ex_918(Qf, train_xs, train_ys, test_xs, test_ys, lambda_t = 0):\n",
    "    #Fit with models of degree Qf and compute the E_{out}\n",
    "    Z = data.polynomial_transform(Qf, train_xs)\n",
    "    w = np.matmul(np.linalg.inv(np.matmul(Z.transpose(), Z) + lambda_t), \n",
    "                  np.matmul(Z.transpose(), train_ys))\n",
    "    #print(f\"w.shape: {w.shape}\")\n",
    "    Ein = data.calc_Eout(w, train_xs, train_ys)\n",
    "    Eout = data.calc_Eout(w, test_xs, test_ys)\n",
    "    return Ein, Eout\n",
    "\n",
    "def calc_permutation_estimate(d_eff, train_ys, Ein):\n",
    "    #Compute the Permutation Estimate for Linear Regression, equation (9.6)\n",
    "    N = train_ys.shape[0]    \n",
    "    sigma_hat2 = N * np.var(train_ys)/ (N-1)\n",
    "    est = 2 * sigma_hat2 * d_eff/N\n",
    "    est += Ein\n",
    "    return est\n",
    "\n",
    "def calc_fpe_estimate(N, d_eff, Ein):\n",
    "    #Final prediction error, section 9.5.4\n",
    "    p = N/d_eff\n",
    "    est = (p+1)*Ein/(p-1)\n",
    "    return est\n",
    "\n",
    "def calc_vc_estimate(N, d_eff, Ein):\n",
    "    p = N/d_eff\n",
    "    r1 = np.sqrt(p)*Ein\n",
    "    r2 = np.sqrt(p) - np.sqrt(1 + np.log(p)+ np.log(N)/2/d_eff)\n",
    "    est = r1/r2\n",
    "    return est\n",
    "    \n",
    "\n",
    "def compute_leave_one_out_estimate(H, y_hat, y):\n",
    "    N = y_hat.shape[0]\n",
    "    est = 0\n",
    "\n",
    "    for n in np.arange(N):\n",
    "        yhat_n = y_hat[n]\n",
    "        yn = y[n]\n",
    "        Hnn = H[n,n]\n",
    "        r = (yhat_n - yn)/(1-Hnn)\n",
    "        est += r**2\n",
    "    est = est / N\n",
    "    return est\n",
    "    \n",
    "\n",
    "def run_one_experiment_ex_918(N, test_N, max_target_degree, max_hypo_degree, lambda_t):\n",
    "    sigma_square = data.generate_random_numbers01(1, 1)\n",
    "    Qf = np.random.choice(max_target_degree+1, 1)\n",
    "    normalized_aqs = data.generate_target_coefficients(Qf)\n",
    "    train_xs, train_ys = data.generate_data_set(N, normalized_aqs, sigma_square)\n",
    "    test_xs, test_ys = data.generate_data_set(test_N, normalized_aqs, sigma_square)\n",
    "\n",
    "    orders = np.arange(0,max_hypo_degree+1)\n",
    "    Eins, Eouts = [], []\n",
    "    Est_vcs, Est_loocvs, Est_perms, Est_fpes = [], [], [], []\n",
    "    for order in orders:\n",
    "        Ein, Eout = calc_Eout_ex_918(order, train_xs, train_ys, test_xs, test_ys)\n",
    "\n",
    "        Z = data.polynomial_transform(order, train_xs)\n",
    "        H = lm.compute_H(Z, lambda_t) #full H, Need use transformed Z to compute\n",
    "        y_hat = lm.compute_y_hat(H, train_ys)\n",
    "\n",
    "        eff_dof = lm.calc_effective_dof(H) #effective degree of freedom\n",
    "        #print(f\"{eff_dof}\")\n",
    "        if eff_dof <= 1.0e-18:\n",
    "            eff_dof = 1.0e-18    \n",
    "        est_vc = calc_vc_estimate(N, eff_dof, Ein)\n",
    "        est_loocv = compute_leave_one_out_estimate(H, y_hat, train_ys)\n",
    "        est_perm = calc_permutation_estimate(eff_dof, train_ys, Ein)\n",
    "        est_fpe = calc_fpe_estimate(N, eff_dof, Ein)\n",
    "\n",
    "        Eins.append(Ein)\n",
    "        Eouts.append(Eout)\n",
    "        Est_vcs.append(est_vc)\n",
    "        Est_loocvs.append(est_loocv)\n",
    "        Est_perms.append(est_perm)\n",
    "        Est_fpes.append(est_fpe)\n",
    "    return Eouts, Est_vcs, Est_loocvs, Est_perms, Est_fpes, Eins"
   ]
  },
  {
   "cell_type": "code",
   "execution_count": 3,
   "metadata": {},
   "outputs": [
    {
     "name": "stdout",
     "output_type": "stream",
     "text": [
      "--- Current iteration : 1\n",
      "--- Current iteration : 1001\n",
      "--- Current iteration : 2001\n",
      "--- Current iteration : 3001\n",
      "--- Current iteration : 4001\n",
      "--- Current iteration : 5001\n",
      "--- Current iteration : 6001\n",
      "--- Current iteration : 7001\n",
      "--- Current iteration : 8001\n",
      "--- Current iteration : 9001\n"
     ]
    }
   ],
   "source": [
    "N = 100\n",
    "test_N = 100\n",
    "max_target_degree = 30\n",
    "max_hypo_degree = 20\n",
    "lambda_t = 0\n",
    "\n",
    "max_exps = 10000\n",
    "Eins, Eouts = [], []\n",
    "Est_vcs, Est_loocvs, Est_perms, Est_fpes = [], [], [], []\n",
    "best_outs, best_ins, best_vcs, best_cvs, best_perms, best_fpes = [], [], [], [], [], []\n",
    "reg_ins, reg_vcs, reg_cvs, reg_perms, reg_fpes = [], [], [], [], []\n",
    "for e in np.arange(max_exps):\n",
    "    if e %1000 == 1:\n",
    "        print(f\"--- Current iteration : {e}\")\n",
    "    Eouts1, Est_vcs1, Est_loocvs1, Est_perms1, Est_fpes1, Eins1 = run_one_experiment_ex_918(N, test_N, \n",
    "                                                                             max_target_degree, \n",
    "                                                                             max_hypo_degree, \n",
    "                                                                             lambda_t)\n",
    "    \n",
    "   \n",
    "    best_out = np.argmin(np.array(Eouts1))\n",
    "    optimal = np.min(np.array(Eouts1))\n",
    "    best_in = np.argmin(np.array(Eins1))\n",
    "    best_vc = np.argmin(np.array(Est_vcs1))\n",
    "    best_cv = np.argmin(np.array(Est_loocvs1))\n",
    "    best_perm = np.argmin(np.array(Est_perms1))\n",
    "    best_fpe = np.argmin(np.array(Est_fpes1))\n",
    "    \n",
    "    best_outs.append(best_out)\n",
    "    best_ins.append(best_in)\n",
    "    best_vcs.append(best_vc)\n",
    "    best_cvs.append(best_cv)\n",
    "    best_perms.append(best_perm)\n",
    "    best_fpes.append(best_fpe)\n",
    "    \n",
    "    regret_out = 0\n",
    "    regret_in = (Eouts1[best_in] - optimal)/optimal\n",
    "    regret_vc = (Eouts1[best_vc] - optimal)/optimal\n",
    "    regret_cv = (Eouts1[best_cv] - optimal)/optimal\n",
    "    regret_perm = (Eouts1[best_perm] - optimal)/optimal\n",
    "    regret_fpe = (Eouts1[best_fpe] - optimal)/optimal\n",
    "    \n",
    "    reg_ins.append(regret_in)\n",
    "    reg_vcs.append(regret_vc)\n",
    "    reg_cvs.append(regret_cv)\n",
    "    reg_perms.append(regret_perm)\n",
    "    reg_fpes.append(regret_fpe)\n",
    "    \n",
    "    Eouts.append(Eouts1)\n",
    "    Est_vcs.append(Est_vcs1)\n",
    "    Est_loocvs.append(Est_loocvs1)\n",
    "    Est_perms.append(Est_perms1)\n",
    "    Est_fpes.append(Est_fpes1)\n",
    "    Eins.append(Eins1)\n",
    "\n",
    "    \n",
    "Eouts = np.mean(np.array(Eouts), axis=0)\n",
    "Est_vcs = np.mean(np.array(Est_vcs), axis=0)\n",
    "Est_loocvs = np.mean(np.array(Est_loocvs), axis=0)\n",
    "Est_perms = np.mean(np.array(Est_perms), axis=0)\n",
    "Est_fpes = np.mean(np.array(Est_fpes), axis=0)\n",
    "\n",
    "b_out = np.mean(np.array(best_outs))\n",
    "b_in = np.mean(np.array(best_ins))\n",
    "b_vc = np.mean(np.array(best_vcs))\n",
    "b_cv = np.mean(np.array(best_cvs))\n",
    "b_perm = np.mean(np.array(best_perms))\n",
    "b_fpe = np.mean(np.array(best_fpes))\n",
    "\n",
    "reg_in = np.mean(np.array(reg_ins))\n",
    "reg_vc = np.mean(np.array(reg_vcs))\n",
    "reg_cv = np.mean(np.array(reg_cvs))\n",
    "reg_perm = np.mean(np.array(reg_perms))\n",
    "reg_fpe = np.mean(np.array(reg_fpes))"
   ]
  },
  {
   "cell_type": "code",
   "execution_count": 4,
   "metadata": {},
   "outputs": [
    {
     "data": {
      "image/png": "[encoded data removed]",
      "text/plain": [
       "<Figure size 432x288 with 1 Axes>"
      ]
     },
     "metadata": {
      "needs_background": "light"
     },
     "output_type": "display_data"
    }
   ],
   "source": [
    "orders = np.arange(max_hypo_degree+1)\n",
    "yub = 1.5\n",
    "Est_loocvs_f = np.clip(Est_loocvs, 0, yub)\n",
    "Eouts_f = np.clip(Eouts, 0, yub)\n",
    "xxs = [orders, orders, orders, orders, orders]\n",
    "yys = [Eouts_f, Est_vcs, Est_loocvs_f, Est_perms, Est_fpes]\n",
    "myplot.plt_plot(xxs, yys, 'plot', ['k', 'g', 'r', 'b', 'y'], ['o', 'x', '.', ',', 's'], \n",
    "                ['Out-of-Sample Error', 'VC Penalty', 'LOO-CV', 'Permutation Estimate', \n",
    "                'FPE'], \n",
    "        title = 'Exercise 9.18 (a) E_out/Validation Estimates vs. Model Order', yscale = None, ylb = 0, yub = 1.2,\n",
    "        xlb = None, xub = None, xlabel = 'Model Order', ylabel = 'E_out/Validation Estimates',\n",
    "        legends = ['']*6, legendx = None, legendy = None, marker_sizes=[15]*5) "
   ]
  },
  {
   "cell_type": "code",
   "execution_count": 5,
   "metadata": {},
   "outputs": [
    {
     "data": {
      "text/html": [
       "<div>\n",
       "<style scoped>\n",
       "    .dataframe tbody tr th:only-of-type {\n",
       "        vertical-align: middle;\n",
       "    }\n",
       "\n",
       "    .dataframe tbody tr th {\n",
       "        vertical-align: top;\n",
       "    }\n",
       "\n",
       "    .dataframe thead th {\n",
       "        text-align: right;\n",
       "    }\n",
       "</style>\n",
       "<table border=\"1\" class=\"dataframe\">\n",
       "  <thead>\n",
       "    <tr style=\"text-align: right;\">\n",
       "      <th></th>\n",
       "      <th>name</th>\n",
       "      <th>Regret</th>\n",
       "      <th>Avg. Order</th>\n",
       "    </tr>\n",
       "  </thead>\n",
       "  <tbody>\n",
       "    <tr>\n",
       "      <th>0</th>\n",
       "      <td>Eout</td>\n",
       "      <td>0.000000</td>\n",
       "      <td>10.3275</td>\n",
       "    </tr>\n",
       "    <tr>\n",
       "      <th>1</th>\n",
       "      <td>Ein</td>\n",
       "      <td>28823.186247</td>\n",
       "      <td>19.9878</td>\n",
       "    </tr>\n",
       "    <tr>\n",
       "      <th>2</th>\n",
       "      <td>Ecv</td>\n",
       "      <td>389.119452</td>\n",
       "      <td>9.3558</td>\n",
       "    </tr>\n",
       "    <tr>\n",
       "      <th>3</th>\n",
       "      <td>Eperm</td>\n",
       "      <td>114.036898</td>\n",
       "      <td>7.2265</td>\n",
       "    </tr>\n",
       "    <tr>\n",
       "      <th>4</th>\n",
       "      <td>Efpe</td>\n",
       "      <td>889.059910</td>\n",
       "      <td>11.4787</td>\n",
       "    </tr>\n",
       "    <tr>\n",
       "      <th>5</th>\n",
       "      <td>Evc</td>\n",
       "      <td>441.075303</td>\n",
       "      <td>4.8410</td>\n",
       "    </tr>\n",
       "  </tbody>\n",
       "</table>\n",
       "</div>"
      ],
      "text/plain": [
       "    name        Regret  Avg. Order\n",
       "0   Eout      0.000000     10.3275\n",
       "1    Ein  28823.186247     19.9878\n",
       "2    Ecv    389.119452      9.3558\n",
       "3  Eperm    114.036898      7.2265\n",
       "4   Efpe    889.059910     11.4787\n",
       "5    Evc    441.075303      4.8410"
      ]
     },
     "execution_count": 5,
     "metadata": {},
     "output_type": "execute_result"
    }
   ],
   "source": [
    "#### Exercise 9.18 (d) Order Selection\n",
    "names = ['Eout', 'Ein', 'Ecv', 'Eperm', 'Efpe', 'Evc']\n",
    "regs = [0, reg_in, reg_cv, reg_perm, reg_fpe, reg_vc]\n",
    "orders = [b_out, b_in, b_cv, b_perm, b_fpe, b_vc]\n",
    "df = pd.DataFrame({'name':names, 'Regret': regs, 'Avg. Order': orders})\n",
    "df"
   ]
  },
  {
   "cell_type": "code",
   "execution_count": 6,
   "metadata": {},
   "outputs": [],
   "source": [
    "#### Exercise 9.18 (b)\n",
    "\n",
    "def run_one_experiment_918_b(N, test_N, max_target_degree, order, lambdas):\n",
    "    sigma_square = data.generate_random_numbers01(1, 1)\n",
    "    Qf = np.random.choice(max_target_degree+1, 1)\n",
    "    normalized_aqs = data.generate_target_coefficients(Qf)\n",
    "    train_xs, train_ys = data.generate_data_set(N, normalized_aqs, sigma_square)\n",
    "    test_xs, test_ys = data.generate_data_set(test_N, normalized_aqs, sigma_square)\n",
    "    #print(f\"sigma_squre = {sigma_square}, Qf={Qf}, order = {order}\")\n",
    "    Eins, Eouts = [], []\n",
    "    Est_vcs, Est_loocvs, Est_perms, Est_fpes = [], [], [], []\n",
    "    for lambda_t in lambdas:\n",
    "        Ein, Eout = calc_Eout_ex_918(order, train_xs, train_ys, test_xs, test_ys, lambda_t)\n",
    "\n",
    "        Z = data.polynomial_transform(order, train_xs)\n",
    "        H = lm.compute_H(Z, lambda_t) #full H, Need use transformed Z to compute\n",
    "        y_hat = lm.compute_y_hat(H, train_ys)\n",
    "        #print(f\"lambda = {lambda_t}, Ein = {Ein}, Eout = {Eout}\")\n",
    "        eff_dof = lm.calc_effective_dof(H) #effective degree of freedom\n",
    "        #print(f\"effective dof: {eff_dof}\")\n",
    "        if eff_dof <= 1.0e-18:\n",
    "            eff_dof = 1.0e-18    \n",
    "        est_vc = calc_vc_estimate(N, eff_dof, Ein)\n",
    "        est_loocv = compute_leave_one_out_estimate(H, y_hat, train_ys)\n",
    "        est_perm = calc_permutation_estimate(eff_dof, train_ys, Ein)\n",
    "        est_fpe = calc_fpe_estimate(N, eff_dof, Ein)\n",
    "        \n",
    "        Eins.append(Ein)\n",
    "        Eouts.append(Eout)\n",
    "        Est_vcs.append(est_vc)\n",
    "        Est_loocvs.append(est_loocv)\n",
    "        Est_perms.append(est_perm)\n",
    "        Est_fpes.append(est_fpe)\n",
    "    return Eouts, Est_vcs, Est_loocvs, Est_perms, Est_fpes, Eins"
   ]
  },
  {
   "cell_type": "code",
   "execution_count": 7,
   "metadata": {},
   "outputs": [
    {
     "name": "stdout",
     "output_type": "stream",
     "text": [
      "--- Current iteration : 1\n",
      "--- Current iteration : 1001\n",
      "--- Current iteration : 2001\n",
      "--- Current iteration : 3001\n",
      "--- Current iteration : 4001\n",
      "--- Current iteration : 5001\n",
      "--- Current iteration : 6001\n",
      "--- Current iteration : 7001\n",
      "--- Current iteration : 8001\n",
      "--- Current iteration : 9001\n"
     ]
    }
   ],
   "source": [
    "N = 100\n",
    "test_N = 100\n",
    "max_target_degree = 10\n",
    "hypo_degree = 5\n",
    "\n",
    "max_exps = 10000\n",
    "Eins, Eouts = [], []\n",
    "Est_vcs, Est_loocvs, Est_perms, Est_fpes = [], [], [], []\n",
    "best_outs, best_ins, best_vcs, best_cvs, best_perms, best_fpes = [], [], [], [], [], []\n",
    "reg_ins, reg_vcs, reg_cvs, reg_perms, reg_fpes = [], [], [], [], []\n",
    "\n",
    "lambdas = np.hstack([np.arange(0, 0.01, 0.001), np.arange(0.01, 0.1, 0.01), np.arange(0.1, 1, 0.1), \n",
    "                     np.arange(1, 15, 1), np.arange(10, 310, 10)])\n",
    "\n",
    "for e in np.arange(max_exps):\n",
    "    if e %1000 == 1:\n",
    "        print(f\"--- Current iteration : {e}\")\n",
    "    Eouts1, Est_vcs1, Est_loocvs1, Est_perms1, Est_fpes1, Eins1 = run_one_experiment_918_b(N, \n",
    "                                                                                    test_N, \n",
    "                                                                                    max_target_degree, \n",
    "                                                                                    hypo_degree, \n",
    "                                                                                    lambdas)\n",
    "\n",
    "    best_out = np.argmin(np.array(Eouts1))\n",
    "    optimal = np.min(np.array(Eouts1))\n",
    "    best_in = np.argmin(np.array(Eins1))\n",
    "    best_vc = np.argmin(np.array(Est_vcs1))\n",
    "    best_cv = np.argmin(np.array(Est_loocvs1))\n",
    "    best_perm = np.argmin(np.array(Est_perms1))\n",
    "    best_fpe = np.argmin(np.array(Est_fpes1))\n",
    "    \n",
    "    best_outs.append(lambdas[best_out])\n",
    "    best_ins.append(lambdas[best_in])\n",
    "    best_vcs.append(lambdas[best_vc])\n",
    "    best_cvs.append(lambdas[best_cv])\n",
    "    best_perms.append(lambdas[best_perm])\n",
    "    best_fpes.append(lambdas[best_fpe])\n",
    "    \n",
    "    regret_out = 0\n",
    "    regret_in = (Eouts1[best_in] - optimal)/optimal\n",
    "    regret_vc = (Eouts1[best_vc] - optimal)/optimal\n",
    "    regret_cv = (Eouts1[best_cv] - optimal)/optimal\n",
    "    regret_perm = (Eouts1[best_perm] - optimal)/optimal\n",
    "    regret_fpe = (Eouts1[best_fpe] - optimal)/optimal\n",
    "    \n",
    "    reg_ins.append(regret_in)\n",
    "    reg_vcs.append(regret_vc)\n",
    "    reg_cvs.append(regret_cv)\n",
    "    reg_perms.append(regret_perm)\n",
    "    reg_fpes.append(regret_fpe)\n",
    "\n",
    "    \n",
    "    Eouts.append(Eouts1)\n",
    "    Est_vcs.append(Est_vcs1)\n",
    "    Est_loocvs.append(Est_loocvs1)\n",
    "    Est_perms.append(Est_perms1)\n",
    "    Est_fpes.append(Est_fpes1)\n",
    "\n",
    "Eouts = np.mean(np.array(Eouts), axis=0)\n",
    "Est_vcs = np.mean(np.array(Est_vcs), axis=0)\n",
    "Est_loocvs = np.mean(np.array(Est_loocvs), axis=0)\n",
    "Est_perms = np.mean(np.array(Est_perms), axis=0)\n",
    "Est_fpes = np.mean(np.array(Est_fpes), axis=0)\n",
    "\n",
    "b_out = np.mean(np.array(best_outs))\n",
    "b_in = np.mean(np.array(best_ins))\n",
    "b_vc = np.mean(np.array(best_vcs))\n",
    "b_cv = np.mean(np.array(best_cvs))\n",
    "b_perm = np.mean(np.array(best_perms))\n",
    "b_fpe = np.mean(np.array(best_fpes))\n",
    "\n",
    "reg_in = np.mean(np.array(reg_ins))\n",
    "reg_vc = np.mean(np.array(reg_vcs))\n",
    "reg_cv = np.mean(np.array(reg_cvs))\n",
    "reg_perm = np.mean(np.array(reg_perms))\n",
    "reg_fpe = np.mean(np.array(reg_fpes))"
   ]
  },
  {
   "cell_type": "code",
   "execution_count": 8,
   "metadata": {},
   "outputs": [
    {
     "data": {
      "image/png": "[encoded data removed]",
      "text/plain": [
       "<Figure size 432x288 with 1 Axes>"
      ]
     },
     "metadata": {
      "needs_background": "light"
     },
     "output_type": "display_data"
    }
   ],
   "source": [
    "yub = 1.5\n",
    "Eouts_f = np.clip(Eouts, 0, yub)\n",
    "Est_loocvs_f = np.clip(Est_loocvs, 0, yub)\n",
    "xxs = [lambdas, lambdas, lambdas, lambdas, lambdas]\n",
    "yys = [Eouts_f, Est_vcs, Est_loocvs_f, Est_perms, Est_fpes]\n",
    "myplot.plt_plot(xxs, yys, 'plot', ['k', 'g', 'r', 'b', 'y'], ['o', 'x', '.', ',', 's'], \n",
    "                ['Out-of-Sample Error', 'VC Penalty', 'LOO-CV', 'Permutation Estimate', \n",
    "                'FPE'], \n",
    "        title = 'Exercise 9.18 (b) E_out/Validation Estimates vs. Regularization', yscale = None, ylb = 0, yub = yub,\n",
    "        xlb = None, xub = None, xlabel = 'Regularization Parameter lambda', ylabel = 'E_out/Validation Estimates',\n",
    "        legends = ['']*6, legendx = None, legendy = None, marker_sizes=[1]*5) "
   ]
  },
  {
   "cell_type": "code",
   "execution_count": 9,
   "metadata": {},
   "outputs": [
    {
     "data": {
      "text/html": [
       "<div>\n",
       "<style scoped>\n",
       "    .dataframe tbody tr th:only-of-type {\n",
       "        vertical-align: middle;\n",
       "    }\n",
       "\n",
       "    .dataframe tbody tr th {\n",
       "        vertical-align: top;\n",
       "    }\n",
       "\n",
       "    .dataframe thead th {\n",
       "        text-align: right;\n",
       "    }\n",
       "</style>\n",
       "<table border=\"1\" class=\"dataframe\">\n",
       "  <thead>\n",
       "    <tr style=\"text-align: right;\">\n",
       "      <th></th>\n",
       "      <th>name</th>\n",
       "      <th>Regret</th>\n",
       "      <th>Avg. Lambda</th>\n",
       "    </tr>\n",
       "  </thead>\n",
       "  <tbody>\n",
       "    <tr>\n",
       "      <th>0</th>\n",
       "      <td>Eout</td>\n",
       "      <td>0.000000</td>\n",
       "      <td>42.309662</td>\n",
       "    </tr>\n",
       "    <tr>\n",
       "      <th>1</th>\n",
       "      <td>Ein</td>\n",
       "      <td>0.016961</td>\n",
       "      <td>0.000000</td>\n",
       "    </tr>\n",
       "    <tr>\n",
       "      <th>2</th>\n",
       "      <td>Ecv</td>\n",
       "      <td>0.018275</td>\n",
       "      <td>69.900170</td>\n",
       "    </tr>\n",
       "    <tr>\n",
       "      <th>3</th>\n",
       "      <td>Eperm</td>\n",
       "      <td>0.021047</td>\n",
       "      <td>81.627672</td>\n",
       "    </tr>\n",
       "    <tr>\n",
       "      <th>4</th>\n",
       "      <td>Efpe</td>\n",
       "      <td>0.017221</td>\n",
       "      <td>64.018142</td>\n",
       "    </tr>\n",
       "    <tr>\n",
       "      <th>5</th>\n",
       "      <td>Evc</td>\n",
       "      <td>0.021604</td>\n",
       "      <td>111.009887</td>\n",
       "    </tr>\n",
       "  </tbody>\n",
       "</table>\n",
       "</div>"
      ],
      "text/plain": [
       "    name    Regret  Avg. Lambda\n",
       "0   Eout  0.000000    42.309662\n",
       "1    Ein  0.016961     0.000000\n",
       "2    Ecv  0.018275    69.900170\n",
       "3  Eperm  0.021047    81.627672\n",
       "4   Efpe  0.017221    64.018142\n",
       "5    Evc  0.021604   111.009887"
      ]
     },
     "execution_count": 9,
     "metadata": {},
     "output_type": "execute_result"
    }
   ],
   "source": [
    "#### Exercise 9.18 (d) Lambda Selection\n",
    "names = ['Eout', 'Ein', 'Ecv', 'Eperm', 'Efpe', 'Evc']\n",
    "regs = [0, reg_in, reg_cv, reg_perm, reg_fpe, reg_vc]\n",
    "avg_lambdas = [b_out, b_in, b_cv, b_perm, b_fpe, b_vc]\n",
    "df = pd.DataFrame({'name':names, 'Regret': regs, 'Avg. Lambda': avg_lambdas})\n",
    "df"
   ]
  },
  {
   "cell_type": "markdown",
   "metadata": {},
   "source": [
    "#### Exercise 9.18 (b)\n",
    "\n",
    "Somehow I can't get the same graph as in Figure 9.8(b), not sure where I did wrong. :(\n",
    "\n",
    "#### Exercise 9.18 (c)\n",
    "\n",
    "The VC estimate is weaker but sufficient. "
   ]
  },
  {
   "cell_type": "markdown",
   "metadata": {},
   "source": [
    "#### Problem 9.1"
   ]
  },
  {
   "cell_type": "code",
   "execution_count": 2,
   "metadata": {},
   "outputs": [
    {
     "data": {
      "image/png": "[encoded data removed]",
      "text/plain": [
       "<Figure size 432x288 with 1 Axes>"
      ]
     },
     "metadata": {
      "needs_background": "light"
     },
     "output_type": "display_data"
    }
   ],
   "source": [
    "#### Problem 9.1\n",
    "\n",
    "df = pd.DataFrame({'x1':[0, 0, 5], 'x2':[0, 1, 5], 'y':[1, 1, -1]})\n",
    "xsp1 = df.loc[df['y']==1]['x1'].values\n",
    "ysp1 = df.loc[df['y']==1]['x2'].values\n",
    "xsm1 = df.loc[df['y']==-1]['x1'].values\n",
    "ysm1 = df.loc[df['y']==-1]['x2'].values\n",
    "\n",
    "#plt.tight_layout()\n",
    "X_train = df[['x1', 'x2']].values\n",
    "y_train = df['y'].values\n",
    "cls = nn.NearestNeighbors(X_train, y_train, 1)\n",
    "x1_min, x1_max = -1, 6\n",
    "x2_min, x2_max = -1, 6\n",
    "xx1, xx2 = myplot.get_grid(x1_min, x1_max, x2_min, x2_max, step=0.02)\n",
    "myplot.plot_decision_boundaries(xx1, xx2, 2, cls)\n",
    "\n",
    "myplot.plt_plot([xsp1, xsm1], [ysp1, ysm1], 'scatter', \n",
    "               colors = ['r', 'b'], markers = ['o', '+'], labels = ['+1', '-1'], \n",
    "               title = \"Problem 9.1 (a) 1-Nearest Neighbor\", yscale = None, ylb = -1, yub = 6,\n",
    "               xlb = -1, xub = 6, xlabel = None, ylabel = None,\n",
    "               legends = ['+1', '-1'], legendx = None, legendy = None, marker_sizes=[25, 25])"
   ]
  },
  {
   "cell_type": "code",
   "execution_count": 3,
   "metadata": {},
   "outputs": [
    {
     "name": "stdout",
     "output_type": "stream",
     "text": [
      "Transformed data points: [[ 0.18441744 -1.40213773]\n",
      " [-1.30649561  0.54135868]\n",
      " [ 1.12207817  0.86077905]]\n"
     ]
    },
    {
     "data": {
      "image/png": "[encoded data removed]",
      "text/plain": [
       "<Figure size 432x288 with 1 Axes>"
      ]
     },
     "metadata": {
      "needs_background": "light"
     },
     "output_type": "display_data"
    }
   ],
   "source": [
    "#### Problem 9.1 (b)\n",
    "myw = data.Whitening()\n",
    "myw.fit(X_train)\n",
    "\n",
    "def whitening_transform(X):\n",
    "    Z = myw.transform(X)\n",
    "    return Z\n",
    "    \n",
    "#Z_train = data.input_whitening(X_train)\n",
    "Z_train = whitening_transform(X_train)\n",
    "print(f\"Transformed data points: {Z_train}\")\n",
    "cls = nn.NearestNeighbors(Z_train, y_train, 1, 'classification')\n",
    "x1_min, x1_max = -1, 6\n",
    "x2_min, x2_max = -1, 6\n",
    "xx1, xx2 = myplot.get_grid(x1_min, x1_max, x2_min, x2_max, step=0.02)\n",
    "myplot.plot_decision_boundaries(xx1, xx2, 2, cls, whitening_transform)\n",
    "\n",
    "myplot.plt_plot([xsp1, xsm1], [ysp1, ysm1], 'scatter', \n",
    "               colors = ['r', 'b'], markers = ['o', '+'], labels = ['+1', '-1'], \n",
    "               title = \"Problem 9.1 (b) Whitening + 1-Nearest Neighbor\", yscale = None, ylb = -1, yub = 6,\n",
    "               xlb = -1, xub = 6, xlabel = None, ylabel = None,\n",
    "               legends = ['+1', '-1'], legendx = None, legendy = None, marker_sizes=[25, 25])"
   ]
  },
  {
   "cell_type": "code",
   "execution_count": 6,
   "metadata": {},
   "outputs": [
    {
     "name": "stdout",
     "output_type": "stream",
     "text": [
      "Transformed data points: (3, 1)\n",
      "[[-2.5797332 ]\n",
      " [-1.90465535]\n",
      " [ 4.48438855]]\n"
     ]
    },
    {
     "data": {
      "image/png": "[encoded data removed]",
      "text/plain": [
       "<Figure size 432x288 with 1 Axes>"
      ]
     },
     "metadata": {
      "needs_background": "light"
     },
     "output_type": "display_data"
    }
   ],
   "source": [
    "#### Problem 9.1 (c) Use customized PCA\n",
    "\n",
    "pca_tr = data.PCA(1)\n",
    "pca_tr.fit(X_train)\n",
    "\n",
    "def pca_transformer(X):\n",
    "    Z = pca_tr.transform(X)\n",
    "    return Z\n",
    "\n",
    "Z_train = pca_tr.transform(X_train)\n",
    "print(f\"Transformed data points: {Z_train.shape}\\n{Z_train}\")\n",
    "cls = nn.NearestNeighbors(Z_train, y_train, 1, 'classification')\n",
    "x1_min, x1_max = -1, 6\n",
    "x2_min, x2_max = -1, 6\n",
    "xx1, xx2 = myplot.get_grid(x1_min, x1_max, x2_min, x2_max, step=0.1)\n",
    "myplot.plot_decision_boundaries(xx1, xx2, 2, cls, pca_transformer)\n",
    "\n",
    "myplot.plt_plot([xsp1, xsm1], [ysp1, ysm1], 'scatter', \n",
    "               colors = ['r', 'b'], markers = ['o', '+'], labels = ['+1', '-1'], \n",
    "               title = \"Problem 9.1 (c) Top 1 PCA + 1-Nearest Neighbor (Customized PCA)\", yscale = None, ylb = -1, yub = 6,\n",
    "               xlb = -1, xub = 6, xlabel = None, ylabel = None,\n",
    "               legends = ['+1', '-1'], legendx = None, legendy = None, marker_sizes=[25, 25])"
   ]
  },
  {
   "cell_type": "code",
   "execution_count": 7,
   "metadata": {},
   "outputs": [
    {
     "name": "stdout",
     "output_type": "stream",
     "text": [
      "X_tr: (3, 1)\n",
      " [[-2.5797332 ]\n",
      " [-1.90465535]\n",
      " [ 4.48438855]]\n"
     ]
    },
    {
     "data": {
      "image/png": "[encoded data removed]",
      "text/plain": [
       "<Figure size 432x288 with 1 Axes>"
      ]
     },
     "metadata": {
      "needs_background": "light"
     },
     "output_type": "display_data"
    }
   ],
   "source": [
    "#### Problem 9.1 (c) Use sklearn.decomposition.PCA\n",
    "\n",
    "mpca = decomposition.PCA(n_components=1)\n",
    "mpca.fit(X_train)\n",
    "\n",
    "def pca_t(X):\n",
    "    Z = mpca.transform(X)\n",
    "    return Z\n",
    "    \n",
    "X_tr = pca_t(X_train)\n",
    "print(f\"X_tr: {X_tr.shape}\\n {X_tr}\")\n",
    "cls = nn.NearestNeighbors(X_tr, y_train, 1, 'classification')\n",
    "myplot.plot_decision_boundaries(xx1, xx2, 2, cls, pca_t)\n",
    "\n",
    "myplot.plt_plot([xsp1, xsm1], [ysp1, ysm1], 'scatter', \n",
    "               colors = ['r', 'b'], markers = ['o', '+'], labels = ['+1', '-1'], \n",
    "               title = \"Problem 9.1 (c) Top 1 PCA + 1-Nearest Neighbor (sklearn.decomposition.PCA)\", yscale = None, ylb = -1, yub = 6,\n",
    "               xlb = -1, xub = 6, xlabel = None, ylabel = None,\n",
    "               legends = ['+1', '-1'], legendx = None, legendy = None, marker_sizes=[25, 25])"
   ]
  },
  {
   "cell_type": "markdown",
   "metadata": {},
   "source": [
    "#### Problem 9.2\n",
    "\n",
    "* (a) $x'_n = x_n + b$, so $\\bar{x}'_n = \\bar{x}_n + b$, $z'_n = x'_n - \\bar{x}'_n = (x_n+b) - (\\bar{x}_n + b) = x_n - \\bar{x}_n = z_n$. Centering is robust to this mutation.\n",
    "\n",
    "$(\\sigma'_i)^2 = \\frac{1}{N}\\sum^N_{n=1} (x'_{ni}-\\bar{x}'_{ni})^2 = \\frac{1}{N}\\sum^N_{n=1} (x_{ni}-\\bar{x}_{ni})^2$. Normalization is also robust to this mutation.\n",
    "\n",
    "$\\Sigma' = \\frac{1}{N}\\sum^N_{n=1}(x'_n - \\bar{x}'_n)(x'_n - \\bar{x}'_n)^T = \\Sigma$. It's clear that this whitening is also robust to the mutation. \n",
    "\n",
    "* (b) Uniform scaling: $x'_n = \\alpha x_n$, where $\\alpha > 0$. \n",
    "\n",
    "$\\bar{x}'_n = \\alpha\\bar{x}_n$, $z'_n = \\alpha z_n$, centering is not robust to this mutation. \n",
    "\n",
    "$(\\sigma'_i)^2 = \\frac{1}{N}\\sum^N_{n=1} (x'_{ni}-\\bar{x}'_{ni})^2 = \\frac{1}{N}\\sum^N_{n=1} \\alpha^2(x_{ni}-\\bar{x}_{ni})^2 = \\alpha^2 (\\sigma_i)^2$\n",
    "\n",
    "so $z'_{ni} = \\frac{x'_{ni}}{\\sigma'_i} = \\frac{\\alpha x_{ni}}{\\alpha \\sigma_i} = z_{ni}$. Normalization is robut to this mutation. \n",
    "\n",
    "$\\Sigma' = \\frac{1}{N}\\sum^N_{n=1}(x'_n - \\bar{x}'_n)(x'_n - \\bar{x}'_n)^T = \\alpha^2 \\Sigma$.\n",
    "\n",
    "$z'_n = (\\Sigma')^{-\\frac{1}{2}} x'_n = \\frac{1}{\\alpha} \\Sigma^{-\\frac{1}{2}} \\alpha x_n =  z_n$. Whitening is robust to this mutation. \n",
    "\n",
    "* (c) $x'_n = Ax_n$\n",
    "\n",
    "$\\bar{x}'_n = A\\bar{x}_n$, $z'_n = x'_n -\\bar{x}'_n = Az_n$, centering is not robust to this mutation. \n",
    "\n",
    "$(\\sigma'_i)^2 = \\frac{1}{N}\\sum^N_{n=1} (x'_{ni}-\\bar{x}'_{ni})^2 = \\frac{1}{N}\\sum^N_{n=1} A^2_{ii}(x_{ni}-\\bar{x}_{ni})^2 = A^2_{ii} (\\sigma_i)^2$, so $z'_{ni} = \\frac{x'_{ni}}{\\sigma'_i} = \\frac{A_{ii}x_{ni}}{A_{ii} \\sigma_i} = z_{ni}$. Normalization is robust to this mutation. \n",
    "\n",
    "$\\Sigma' = \\frac{1}{N}\\sum^N_{n=1}(x'_n - \\bar{x}'_n)(x'_n - \\bar{x}'_n)^T = \\frac{1}{N}\\sum^N_{n=1} Az_nz^T_n A^T$. Whitening is not robust to this mutation.\n",
    "\n",
    "* (d) $x'_n = Ax_n$, similar with problem (c), centering is not robust to this mutation. \n",
    "Also, $A$ is no longer diagonal, the normalization and whitening are not robust to this mutation neither. "
   ]
  },
  {
   "cell_type": "markdown",
   "metadata": {},
   "source": [
    "#### Problem 9.3 \n",
    "\n",
    "\\begin{align*}\n",
    "\\Sigma &= U\\Gamma U^T \\\\\n",
    "\\Sigma &= U \\Gamma^{\\frac{1}{2}} \\Gamma^{\\frac{1}{2}} U^T \\\\\n",
    "&= U\\Gamma^{\\frac{1}{2}}U^TU\\Gamma^{\\frac{1}{2}}U^T\\\\\n",
    "&= (U\\Gamma^{\\frac{1}{2}}U^T)^2\\\\\n",
    "&= (\\Sigma^{\\frac{1}{2}})^2\\\\\n",
    "\\end{align*}\n",
    "\n",
    "So $\\Sigma^{\\frac{1}{2}} = U\\Gamma^{\\frac{1}{2}}U^T$\n",
    "\n",
    "\\begin{align*}\n",
    "I &= UU^T \\\\ \n",
    "&= \\Gamma^{\\frac{1}{2}}U^T U\\Gamma^{-\\frac{1}{2}}\\\\\n",
    "&= U\\Gamma^{\\frac{1}{2}}U^T U\\Gamma^{-\\frac{1}{2}}U^T \\\\\n",
    "&= \\Sigma^{\\frac{1}{2}} \\Sigma^{-\\frac{1}{2}}\\\\\n",
    "\\end{align*}\n",
    "\n",
    "So $\\Sigma^{-\\frac{1}{2}} = U\\Gamma^{-\\frac{1}{2}}U^T$\n",
    "\n",
    "$\\Gamma^{\\frac{1}{2}}$ and $\\Gamma^{-\\frac{1}{2}}$ are both diagonal matrices, the former with the square root of the eigenvalues of $\\Sigma$ and the latter has the $\\frac{1}{\\sqrt{\\lambda_i}}$\n",
    "\n",
    "#### Problem 9.4\n",
    "\n",
    "Multiply both sides of $A=V\\psi$ by $V^T$, also note that $VV^T = V^TV = I$\n",
    "\n",
    "\\begin{align*}\n",
    "A &= V\\psi \\\\\n",
    "\\psi &= V^T A \\\\\n",
    "\\end{align*}\n",
    "\n",
    "Then we have $\\psi^T\\psi = A^TV V^T A = I$ and $\\psi \\psi^T = V^T A A^T V = I$\n",
    "so $\\psi$ is orthogonal matrix. \n",
    "\n",
    "#### Problem 9.5\n",
    "\n",
    "* (a) Let $A' = PA$, where $P$ is the permutation matrix that changes the order of the diagonal entries in $A$ such that the entries in $A'$ are ordered from the largest to the smallest. \n",
    "\n",
    "$A=P^{-1}A = U\\Gamma V^T$ where $U=P^{-1}, V^T=I, \\Gamma = A$, notice $U^TU = (P^{-1})^TU = (P^T)^T P^{-1} = PP^{-1} = I$, since for permutation matrix, we have $P^{-1} = P^T$.\n",
    "\n",
    "* (b) $A$ is pairwise orthogonal rows. we have $AA^T = I$, also for any $A=U\\Gamma V^T$, we have $A = \\sum \\gamma_i u_i v^T_i$ where $u_i, v_i$ are the column vectors of matrices $U, V$ and $\\gamma_i$ are the corresponding singular values. Since $A$ has pairwise orthogonal rows, let $u_i =\\begin{bmatrix}0 \\\\ \\dots \\\\ 1 \\\\ \\dots \\\\ 0\\end{bmatrix}$, the $i$-th base in standard basis. let $A$ be a $m \\times n $ matrix, $A = \\begin{bmatrix}a_1 \\\\ \\dots \\\\ a_m\\end{bmatrix}$, N.B. $a_i$ are row vectors here. So we have $A = u_1a_1 + \\dots + u_ma_m = U\\Gamma V^T$, where $U=I, \\Gamma = I$ and $V = A^T$.\n",
    "\n",
    "* (c) $A$ is pairwise orthogonal columns, similarly with problem (b), we have $A = \\begin{bmatrix}a_1 & \\dots & a_n\\end{bmatrix}$, N.B. $a_i$ are column vectors here. So we have $A = a_1u^T_1 + \\dots + a_nu^T_n = U\\Gamma V^T$, where $U=A, \\Gamma = I$ and $V = I$.\n",
    "\n",
    "* (d) $QA = QU\\Gamma V^T = U' \\Gamma V^T$, where $U' = QU$ and $(U')^TU' = U^TQ^T Q U = U^T U = I$\n",
    "\n",
    "* (e) We have $A=U\\Gamma V^T = \\begin{bmatrix}U_1 & \\dots & 0 \\\\ 0 & U_2 & \\dots \\\\ \\dots & \\dots & \\dots \\\\ \\dots & 0 & U_m \\end{bmatrix}\\begin{bmatrix}\\Gamma_1 & \\dots & 0 \\\\ 0 & \\Gamma_2 & \\dots \\\\ \\dots & \\dots & \\dots \\\\ \\dots & 0 & \\Gamma_m \\end{bmatrix}\\begin{bmatrix}V^T_1 & \\dots & 0 \\\\ 0 & V^T_2 & \\dots \\\\ \\dots & \\dots & \\dots \\\\ \\dots & 0 & V^T_m \\end{bmatrix}$"
   ]
  },
  {
   "cell_type": "markdown",
   "metadata": {},
   "source": [
    "#### Problem 9.6"
   ]
  },
  {
   "cell_type": "code",
   "execution_count": 10,
   "metadata": {},
   "outputs": [
    {
     "name": "stdout",
     "output_type": "stream",
     "text": [
      "X_train:  (7291, 256) y_train:  (7291,) X_test:  (2007, 256) y_test:  (2007,)\n",
      "Frequencies of the digits: \n",
      " {0: 0.16376354409546015, 1: 0.13784117405019888, 2: 0.10026059525442327, 3: 0.09024825126868742, 4: 0.08942531888629818, 5: 0.07625840076807022, 6: 0.09107118365107666, 7: 0.08846523110684405, 8: 0.07433822520916199, 9: 0.08832807570977919}\n"
     ]
    }
   ],
   "source": [
    "#### Problem 9.6\n",
    "zip_data_path = './data/usps.h5'\n",
    "\n",
    "\n",
    "X_train, y_train, X_test, y_test = data.load_zip_data(zip_data_path)\n",
    "\n",
    "print('X_train: ', X_train.shape, 'y_train: ',y_train.shape, 'X_test: ',X_test.shape, 'y_test: ', y_test.shape)\n",
    "unique, counts = np.unique(y_train, return_counts=True)\n",
    "freqs = counts/len(y_train)\n",
    "print('Frequencies of the digits: \\n', dict(zip(unique, freqs)))\n",
    "\n",
    "y_train, y_test = data.set_two_classes(y_train, y_test, 1)"
   ]
  },
  {
   "cell_type": "code",
   "execution_count": 14,
   "metadata": {},
   "outputs": [
    {
     "data": {
      "image/png": "[encoded data removed]",
      "text/plain": [
       "<Figure size 432x288 with 1 Axes>"
      ]
     },
     "metadata": {
      "needs_background": "light"
     },
     "output_type": "display_data"
    }
   ],
   "source": [
    "pca = decomposition.PCA(n_components=2)\n",
    "pca.fit(X_train)\n",
    "X_tr = pca.transform(X_train)\n",
    "x1s = [X_tr[y_train==1, 0], X_tr[y_train==-1, 0]]\n",
    "\n",
    "#Since the singular vectors are not unique, I flipped the sign of the 2nd feature to make the graph match the textbook\n",
    "x2s = [-X_tr[y_train==1, 1], -X_tr[y_train==-1, 1]] \n",
    "myplot.plt_plot(x1s, x2s, 'scatter', ['b', 'r'], ['o', 'x'], ['Digit 1', 'Non Digit 1'], \n",
    "        title = 'Digits 1 vs non-1 (Centered, sklearn PCA)', yscale = None, ylb = None, yub = None,\n",
    "        xlb = None, xub = None, xlabel = 'z1', ylabel = 'z2',\n",
    "        legends = ['+', '-'], legendx = None, legendy = None) "
   ]
  },
  {
   "cell_type": "code",
   "execution_count": 15,
   "metadata": {},
   "outputs": [
    {
     "data": {
      "image/png": "[encoded data removed]",
      "text/plain": [
       "<Figure size 432x288 with 1 Axes>"
      ]
     },
     "metadata": {
      "needs_background": "light"
     },
     "output_type": "display_data"
    }
   ],
   "source": [
    "mypca = data.PCA(2)\n",
    "mypca.fit(X_train)\n",
    "X_tr = mypca.transform(X_train)\n",
    "\n",
    "x1s = [X_tr[y_train==1, 0], X_tr[y_train==-1, 0]]\n",
    "\n",
    "#Since the singular vectors are not unique, I flipped the sign of the 2nd feature to make the graph match the textbook\n",
    "x2s = [-X_tr[y_train==1, 1], -X_tr[y_train==-1, 1]]\n",
    "myplot.plt_plot(x1s, x2s, 'scatter', ['b', 'r'], ['o', 'x'], ['Digit 1', 'Non Digit 1'], \n",
    "        title = 'Digits 1 vs non-1 (Centered)', yscale = None, ylb = None, yub = None,\n",
    "        xlb = None, xub = None, xlabel = 'z1', ylabel = 'z2',\n",
    "        legends = ['+', '-'], legendx = None, legendy = None) "
   ]
  },
  {
   "cell_type": "code",
   "execution_count": 20,
   "metadata": {},
   "outputs": [
    {
     "data": {
      "image/png": "[encoded data removed]",
      "text/plain": [
       "<Figure size 432x288 with 1 Axes>"
      ]
     },
     "metadata": {
      "needs_background": "light"
     },
     "output_type": "display_data"
    }
   ],
   "source": [
    "mypca = data.PCA(2,centering=False)\n",
    "mypca.fit(X_train)\n",
    "X_tr = mypca.transform(X_train)\n",
    "\n",
    "#Since the singular vectors are not unique, I flipped the sign of the features to make the graph match the textbook\n",
    "x1s = [-X_tr[y_train==1, 0], -X_tr[y_train==-1, 0]]\n",
    "x2s = [-X_tr[y_train==1, 1], -X_tr[y_train==-1, 1]]\n",
    "myplot.plt_plot(x1s, x2s, 'scatter', ['b', 'r'], ['o', 'x'], ['Digit 1', 'Non Digit 1'], \n",
    "        title = 'Digits 1 vs non-1 (Not Centered)', yscale = None, ylb = None, yub = None,\n",
    "        xlb = None, xub = None, xlabel = 'z1', ylabel = 'z2',\n",
    "        legends = ['+', '-'], legendx = None, legendy = None) "
   ]
  },
  {
   "cell_type": "code",
   "execution_count": 16,
   "metadata": {},
   "outputs": [
    {
     "data": {
      "text/plain": [
       "array([[5.4045758e+00, 1.5981337e-06],\n",
       "       [1.5981337e-06, 2.7097924e+00]], dtype=float32)"
      ]
     },
     "execution_count": 16,
     "metadata": {},
     "output_type": "execute_result"
    }
   ],
   "source": [
    "np.matmul(X_tr.transpose(), X_tr)/X_tr.shape[0]"
   ]
  },
  {
   "cell_type": "markdown",
   "metadata": {},
   "source": [
    "The transformed data has no correlations between the two features but with different variances.  They are kinds of \"whitened\"."
   ]
  },
  {
   "cell_type": "markdown",
   "metadata": {},
   "source": [
    "#### Problem 9.7\n",
    "\n",
    "Let $X=\\begin{bmatrix} x^T_1 \\\\ \\dots \\\\ x^T_N \\end{bmatrix}$ be the $N\\times d$ data matrix. From SVD we have $X=U\\Gamma V^T$, where $U$ is $N \\times d$, $\\Gamma, V$ are $d \\times d $ matrices.\n",
    "\n",
    "Let $V_k$ be the first $k$ columns from $V$, so it has dimension of $d\\times k$. Let $U_k$ be the first $k$ columns from $U$, it has dimension of $N\\times k$ and $U^T_k U_k = I_k$. Also $\\Gamma_k$ is the $k\\times k$ diagonal matrix with the first $k$ singular values on the diagonal. \n",
    "\n",
    "From SVD we have $X=U\\Gamma V^T$, so $XV=U\\Gamma$ and $X\\begin{bmatrix}V_k & V_r \\end{bmatrix} = \\begin{bmatrix}U_k & U_r \\end{bmatrix} \\begin{bmatrix}\\Gamma'_k \\\\ \\Gamma'_r \\end{bmatrix}$. \n",
    "\n",
    "Where $V_r$ has a dimension of $d\\times (d-k)$ and $U_r$ has dimension of $N\\times (d-k)$, $\\Gamma'_k$ is the first $k$ rows in $\\Gamma$ and has a dimension of $k\\times d$ and $\\Gamma'_r$ has a dimension of $(d-k)\\times d$. We thus have\n",
    "\n",
    "$XV_k = U_k\\Gamma_k$\n",
    "\n",
    "So we have $Z=\\begin{bmatrix} z^T_1 \\\\ \\dots \\\\ z^T_N \\end{bmatrix} = \\begin{bmatrix} (\\Gamma^{-1}_kV^T_kx_1)^T \\\\ \\dots \\\\ (\\Gamma^{-1}_kV^T_kx_N)^T \\end{bmatrix} = \\begin{bmatrix} x^T_1V_k\\Gamma^{-1}_k \\\\ \\dots \\\\ x^T_NV_k\\Gamma^{-1}_k \\end{bmatrix} = XV_k\\Gamma^{-1}_k$, so $Z$ has a dimension of $N\\times k$\n",
    "\n",
    "so $Z^TZ = \\Gamma^{-1}_kV^T_kX^T XV_k\\Gamma^{-1}_k = \\Gamma^{-1}_k (U_k\\Gamma_k)^TU_k\\Gamma_k\\Gamma^{-1}_k = \\Gamma^{-1}_k \\Gamma_kU^T_kU_k\\Gamma_k\\Gamma^{-1}_k = I$"
   ]
  },
  {
   "cell_type": "markdown",
   "metadata": {},
   "source": [
    "#### Problem 9.8"
   ]
  },
  {
   "cell_type": "code",
   "execution_count": 19,
   "metadata": {},
   "outputs": [
    {
     "name": "stdout",
     "output_type": "stream",
     "text": [
      "X_train:  (7291, 256) y_train:  (7291,) X_test:  (2007, 256) y_test:  (2007,)\n",
      "Frequencies of the digits: \n",
      " {0: 0.16376354409546015, 1: 0.13784117405019888, 2: 0.10026059525442327, 3: 0.09024825126868742, 4: 0.08942531888629818, 5: 0.07625840076807022, 6: 0.09107118365107666, 7: 0.08846523110684405, 8: 0.07433822520916199, 9: 0.08832807570977919}\n"
     ]
    }
   ],
   "source": [
    "#### Problem 9.8\n",
    "zip_data_path = './data/usps.h5'\n",
    "\n",
    "\n",
    "X_train, y_train, X_test, y_test = data.load_zip_data(zip_data_path)\n",
    "\n",
    "print('X_train: ', X_train.shape, 'y_train: ',y_train.shape, 'X_test: ',X_test.shape, 'y_test: ', y_test.shape)\n",
    "unique, counts = np.unique(y_train, return_counts=True)\n",
    "freqs = counts/len(y_train)\n",
    "print('Frequencies of the digits: \\n', dict(zip(unique, freqs)))\n",
    "\n",
    "y_train, y_test = data.set_two_classes(y_train, y_test, 1)"
   ]
  },
  {
   "cell_type": "code",
   "execution_count": 18,
   "metadata": {
    "scrolled": true
   },
   "outputs": [
    {
     "name": "stdout",
     "output_type": "stream",
     "text": [
      "(256, 1) (256, 1) (256, 2)\n"
     ]
    },
    {
     "data": {
      "image/png": "[encoded data removed]",
      "text/plain": [
       "<Figure size 432x288 with 1 Axes>"
      ]
     },
     "metadata": {
      "needs_background": "light"
     },
     "output_type": "display_data"
    }
   ],
   "source": [
    "XX, mean_X = data.input_centering(X_train)\n",
    "\n",
    "Xp = XX[y_train==1]\n",
    "Xn = XX[y_train==-1]\n",
    "\n",
    "mypca1 = data.PCA(1, centering=False)\n",
    "mypca1.fit(Xp)\n",
    "v1 = mypca1.Vk\n",
    "\n",
    "mypca2 = data.PCA(1, centering=False)\n",
    "mypca2.fit(Xn)\n",
    "v2 = mypca2.Vk\n",
    "Vk = np.hstack([v1, v2])\n",
    "print(v1.shape, v2.shape, Vk.shape)\n",
    "\n",
    "X_tr = np.matmul(XX, Vk)\n",
    "\n",
    "\n",
    "x1s = [X_tr[y_train==1, 0], X_tr[y_train==-1, 0]]\n",
    "#Since the singular vectors are not unique, I flipped the sign of the 2nd feature to make the graph match the textbook\n",
    "x2s = [-X_tr[y_train==1, 1], -X_tr[y_train==-1, 1]]\n",
    "myplot.plt_plot(x1s, x2s, 'scatter', ['b', 'r'], ['o', 'x'], ['Digit 1', 'Non Digit 1'], \n",
    "        title = 'Problem 9.8 (a) Digits 1 vs non-1', yscale = None, ylb = None, yub = None,\n",
    "        xlb = None, xub = None, xlabel = 'z1', ylabel = 'z2',\n",
    "        legends = ['+', '-'], legendx = None, legendy = None) "
   ]
  },
  {
   "cell_type": "markdown",
   "metadata": {},
   "source": [
    "#### Problem 9.8 (b)\n",
    "\n",
    "The directions $v_1$ and $v_2$ are not necessarily orthogonal."
   ]
  },
  {
   "cell_type": "code",
   "execution_count": 27,
   "metadata": {},
   "outputs": [
    {
     "data": {
      "text/plain": [
       "52.1007414905504"
      ]
     },
     "execution_count": 27,
     "metadata": {},
     "output_type": "execute_result"
    }
   ],
   "source": [
    "np.sum(np.dot(v1,v2.transpose()))"
   ]
  },
  {
   "cell_type": "markdown",
   "metadata": {},
   "source": [
    "#### Problem 9.8 (c)\n",
    "\n",
    "Let $\\hat{V}=U_1\\Gamma_1V^T_1$, since $Z=X\\hat{V}$, we have $Z=XU_1\\Gamma_1V^T_1$, multiply $V_1,\\Gamma^{+}_1, U^T_1$ on the right in order, we have $X = ZV_1\\Gamma^{+}_1U^T_1 = Z\\hat{V}^{+}$\n",
    "\n",
    "\n",
    "#### Problem 9.8 (d)\n",
    "\n",
    "This method uses the labels for the data points, so it's a supervised method."
   ]
  },
  {
   "cell_type": "markdown",
   "metadata": {},
   "source": [
    "#### Problem 9.9\n",
    "\n",
    "* (a) If $\\hat{X}$ is a reconstruction of $X$ whose rows are the data points in $X$ projected onto $k$ basis vectors, then suppose the $k$ basis vectors are in $B$ with dimension of $d\\times k$, then we have $\\hat{X} = XBB^T$, with dimension of $N\\times d$. There are at most $k$ independent columns in $\\hat{X}$, so $\\text{rank}(\\hat{X}) \\le k$\n",
    "\n",
    "\n",
    "* (b) Since $U_{N\\times d},V_{d\\times d}, V^T$ have orthonormal columns, i.e. $U^TU=I, (V^T)^TV^T = VV^T=I$,  we have \n",
    "\n",
    "Let $Z=(X-\\hat{X})^TU = YU$, it's also $z=U^Ty$, where $z$ are the columns in $Z$ and $y^T$ are the rows in $Y$.  Since $U$ has orthonormal columns, we can treat $Z$ as a transformed data matrix of $Y = (X-\\hat{X})^T$. Note $Y$ has a dimension of $d\\times N$, so the rows in $Y$, i.e. $y$,  are in a space of $R^N$.  While the basis vectors in $U$ is also in space $R^N$, but we only select $d$ basis vectors in this space (since $U$ has a dimension of $N\\times d$). From exercise 9.7 (c), we have $\\|z\\| \\le \\|y\\| $, we see that $\\|Z\\|^2 = \\sum \\|z\\|^2 \\le \\sum \\|y\\|^2 = \\|Y\\|^2 = \\|(X-\\hat{X})^T\\|^2 = \\|X-\\hat{X}\\|^2$. That is\n",
    "\n",
    "$\\|X-\\hat{X}\\|^2 \\ge \\|(X-\\hat{X})^TU\\|^2_F  = \\|U^T(X-\\hat{X})\\|^2_F = \\|U^T(X-\\hat{X})V\\|^2_F = \\|U^TXV-U^T\\hat{X}V\\|^2_F = \\|\\Gamma-U^T\\hat{X}V\\|^2_F$\n",
    "\n",
    "Where we have applied the results of Exercise 9.9 on $V$ on the second equation above.\n",
    "\n",
    "* (c) Let $\\hat{\\Gamma} = U^T\\hat{X}V$, we have $\\text{rank}(\\hat{\\Gamma}) = \\text{rank}(U^T\\hat{X}V) \\le \\text{rank}(\\hat{X}V) \\le \\text{rank}(\\hat{X}) \\le k $ from problem (a)\n",
    "\n",
    "* (d) We want to minimize the difference $\\|\\Gamma-U^T\\hat{X}V\\|^2_F$, since the Frobenius norm is defined as the sum of squares of each element in the matrix, we want to have the difference between $\\Gamma$ and $\\hat{\\Gamma}$ to be zero. Since $\\Gamma$ has zeros on all off-diagonal elements, it's optimal to choose zeros on the off-diagonal elements in $\\hat{\\Gamma}$ as well, so their differences on off-diagonal are all zero.\n",
    "\n",
    "* (e) Since $\\hat{\\Gamma}$ has a rank of at most $k$, the non-zero diagonals can be at most $k$.\n",
    "\n",
    "* (f) If we select the first $k$ singular values from $\\Gamma$ as the first $k$ elements in $\\hat{\\Gamma}$, we have the optimal choice here. Otherwise, if there's any singular value after $k$ in $\\hat{\\Gamma}$, we can always swap it with the missing singular value from first $k$ items, and obtain a smaller error. \n",
    "\n",
    "* (g) $\\hat{X} = XVV^T =  X$, so we have $\\hat{\\Gamma} = U^T\\hat{X}V=U^TXV=\\Gamma$, we have exact match with $\\Gamma$\n",
    "\n"
   ]
  },
  {
   "cell_type": "markdown",
   "metadata": {},
   "source": [
    "#### Problem 9.10\n",
    "\n",
    "* (a) Algorithm 1 uses full data points $X$ to construct new features, while algorithm 2 removes the $n$-th data point first, then use the rest of data to construct new features."
   ]
  },
  {
   "cell_type": "code",
   "execution_count": 16,
   "metadata": {},
   "outputs": [
    {
     "name": "stdout",
     "output_type": "stream",
     "text": [
      "In one exeriment, E1=3.3327010677097086, E2=3.740820665349818, Eout = 4.544789128347455\n"
     ]
    }
   ],
   "source": [
    "def pca_cv_problem910_1(X, y, top_k):\n",
    "    # Algorithm 1 in Problem 9.10\n",
    "    pca1 = data.PCA(top_k)\n",
    "    pca1.fit(X)\n",
    "    Z = pca1.transform(X)\n",
    "    N, _ = X.shape\n",
    "    full_indices = np.arange(N)\n",
    "    lr = lm.LinearRegression('pesudo_inv', reg_type=None, reg_param = 0)\n",
    "    ens = []\n",
    "    for n in np.arange(N):\n",
    "        indices = np.hstack([full_indices[:n], full_indices[n+1:]])\n",
    "        Zn = Z[indices]\n",
    "        yn = y[indices]\n",
    "        lr.fit(Zn, yn)\n",
    "        predn = np.matmul(Z[n].transpose(), lr.w)\n",
    "        en = (predn-y[n])**2\n",
    "        ens.append(en)\n",
    "    E1 = np.mean(ens)\n",
    "    return E1\n",
    "\n",
    "def pca_cv_problem910_2(X, y, top_k):    \n",
    "    # Algorithm 2 in Problem 9.10        \n",
    "    N, _ = X.shape\n",
    "    full_indices = np.arange(N)\n",
    "    lr = lm.LinearRegression('pesudo_inv', reg_type=None, reg_param = 0)\n",
    "    ens = []\n",
    "    for n in np.arange(N):\n",
    "        indices = np.hstack([full_indices[:n], full_indices[n+1:]])\n",
    "        Xn = X[indices]\n",
    "        yn = y[indices]\n",
    "        pca2 = data.PCA(top_k)\n",
    "        pca2.fit(Xn)\n",
    "        Zn = pca2.transform(Xn)\n",
    "\n",
    "        lr.fit(Zn, yn)\n",
    "        zn = np.matmul(X[n].transpose(), pca2.Vk)\n",
    "        predn = np.matmul(zn.transpose(), lr.w)\n",
    "        en = (predn-y[n])**2\n",
    "        ens.append(en)\n",
    "    E2 = np.mean(ens)\n",
    "    return E2\n",
    "\n",
    "def generate_data_910(N, d, var):\n",
    "    mu, std = 0, 1\n",
    "    w = np.random.normal(mu, std, d).reshape((d, 1))\n",
    "    X = np.random.normal(mu, std, N*d).reshape((N, d))\n",
    "    epsilons = np.random.normal(mu, np.sqrt(var), N).reshape((N, 1))\n",
    "    y = np.matmul(X, w) + epsilons\n",
    "    return X, y\n",
    "    \n",
    "def calc_Eout_910(X_train, y_train, X_test, y_test, top_k):\n",
    "    lr = lm.LinearRegression('pesudo_inv', reg_type=None, reg_param = 0)\n",
    "    pca = data.PCA(top_k)\n",
    "    pca.fit(X_train)\n",
    "    Z_train = pca.transform(X_train)\n",
    "    lr.fit(Z_train, y_train)\n",
    "    \n",
    "    Z_test = pca.transform(X_test)\n",
    "    Eout = lr.calc_error(Z_test, y_test)[0]\n",
    "    return Eout\n",
    "\n",
    "def run_one_experiment_910(N, N_test, d, var, top_k):\n",
    "    X, y = generate_data_910(N+N_test, d, var)\n",
    "    X_train, X_test, y_train, y_test = train_test_split(X, y, test_size=N_test, random_state=42)\n",
    "    \n",
    "    E1 = pca_cv_problem910_1(X_train, y_train, top_k)\n",
    "    E2 = pca_cv_problem910_2(X_train, y_train, top_k)\n",
    "    Eout = calc_Eout_910(X_train, y_train, X_test, y_test, top_k)\n",
    "    \n",
    "    return E1, E2, Eout\n",
    "\n",
    "E1, E2, Eout = run_one_experiment_910(N, N_test, d, var, top_k)\n",
    "print(f\"In one exeriment, E1={E1}, E2={E2}, Eout = {Eout}\")"
   ]
  },
  {
   "cell_type": "code",
   "execution_count": 17,
   "metadata": {},
   "outputs": [
    {
     "name": "stdout",
     "output_type": "stream",
     "text": [
      "Average Errors: E1=2.1437860825253985, E2 = 2.537054958626525, Eout = 2.6116116514240115\n"
     ]
    }
   ],
   "source": [
    "#### Problem 9.10\n",
    "\n",
    "d = 5\n",
    "N = 40\n",
    "N_test = 100\n",
    "var = 0.5\n",
    "top_k = 3\n",
    "maxits = 1e+6\n",
    "\n",
    "\n",
    "\n",
    "E1s, E2s, Eouts = [], [], []    \n",
    "for it in np.arange(maxits):\n",
    "    E1, E2, Eout = run_one_experiment_910(N, N_test, d, var, top_k)\n",
    "    E1s.append(E1)\n",
    "    E2s.append(E2)\n",
    "    Eouts.append(Eout)\n",
    "\n",
    "avg_E1 = np.mean(E1s)\n",
    "avg_E2 = np.mean(E2s)\n",
    "avg_Eout = np.mean(Eouts)\n",
    "print(f\"Average Errors: E1={avg_E1}, E2 = {avg_E2}, Eout = {avg_Eout}\")"
   ]
  },
  {
   "cell_type": "markdown",
   "metadata": {},
   "source": [
    "#### Problem 9.10 (d)\n",
    "\n",
    "The average estimates $\\bar{E}_1$ is smaller than the average estimates $\\bar{E}_2$ because the algorithm 1 uses the test point when constructing the features. This is data snooping. \n",
    "\n",
    "The average estimate $\\bar{E}_2$ is closer to the $E_{out}(g)$.\n",
    "\n",
    "#### Problem 9.10 (d)\n",
    "\n",
    "The correct estimates should be $\\bar{E}_2$ for $E_{out}(g)$ since it doesn't have data snooping by using the test data to compute SVD."
   ]
  },
  {
   "cell_type": "markdown",
   "metadata": {},
   "source": [
    "#### Problem 9.11 TODO\n",
    "\n",
    "* (a) For fixed $d_{eff}$, when the order increases, $\\lambda$ should increase to keep the effective degree of freedom down."
   ]
  },
  {
   "cell_type": "code",
   "execution_count": null,
   "metadata": {},
   "outputs": [],
   "source": [
    "def calc_deff_diff(lambda_t, X, d_eff):\n",
    "    H = lm.compute_H(X, lambda_t)\n",
    "    d_eff1 = lm.calc_effective_dof(H)\n",
    "    diff = (d_eff1 - d_eff)**2\n",
    "    return diff\n",
    "\n",
    "def calc_lambda(d_eff, X_train, x0, bounds):\n",
    "    f = partial(calc_deff_diff, X = X_train, d_eff = d_eff)\n",
    "    #res = minimize_scalar(f, method='brent')\n",
    "    res = minimize(f, x0, method='trust-constr', jac=None, hess=None,\n",
    "               constraints=[],\n",
    "               options={'verbose': 0}, bounds=bounds)\n",
    "    #print(res)\n",
    "    return res.x[0]\n",
    "\n"
   ]
  },
  {
   "cell_type": "code",
   "execution_count": null,
   "metadata": {},
   "outputs": [],
   "source": [
    "N = 100\n",
    "test_N = 100\n",
    "sigma_square = data.generate_random_numbers01(1, 1)\n",
    "Qf = np.random.choice(max_target_degree+1, 1)\n",
    "normalized_aqs = data.generate_target_coefficients(Qf)\n",
    "train_xs, train_ys = data.generate_data_set(N, normalized_aqs, sigma_square)\n",
    "test_xs, test_ys = data.generate_data_set(test_N, normalized_aqs, sigma_square)\n",
    "\n",
    "from scipy.optimize import Bounds\n",
    "bounds = Bounds(0, np.inf)\n",
    "x0 = np.array([0])\n",
    "calc_lambda(7, train_xs, x0, bounds)"
   ]
  },
  {
   "cell_type": "code",
   "execution_count": null,
   "metadata": {},
   "outputs": [],
   "source": [
    "def run_one_experiment_prob_911(N, test_N, max_target_degree, max_hypo_degree, d_eff):\n",
    "    sigma_square = data.generate_random_numbers01(1, 1)\n",
    "    Qf = 10 #np.random.choice(max_target_degree+1, 1)\n",
    "    normalized_aqs = data.generate_target_coefficients(Qf)\n",
    "    train_xs, train_ys = data.generate_data_set(N, normalized_aqs, sigma_square)\n",
    "    test_xs, test_ys = data.generate_data_set(test_N, normalized_aqs, sigma_square)\n",
    "    \n",
    "    bounds = Bounds(0, np.inf)\n",
    "    x0 = np.array([0])\n",
    "    lambda_t = calc_lambda(d_eff, train_xs, x0, bounds)\n",
    "    print(f\"lambda_t = {lambda_t}\")\n",
    "    orders = np.arange(0,max_hypo_degree+1)\n",
    "    Eins, Eouts = [], []\n",
    "    for order in orders:\n",
    "        Ein, Eout = calc_Eout_ex_918(order, train_xs, train_ys, test_xs, test_ys, lambda_t)\n",
    "        Eins.append(Ein)\n",
    "        Eouts.append(Eout)\n",
    "    return Eouts, Eins\n",
    "\n",
    "\n",
    "N = 100\n",
    "test_N = 100\n",
    "max_target_degree = 30\n",
    "max_hypo_degree = 30\n",
    "d_eff = 7\n",
    "\n",
    "max_exps = 10000\n",
    "Eins, Eouts = [], []\n",
    "for e in np.arange(max_exps):\n",
    "    if e %1000 == 1:\n",
    "        print(f\"--- Current iteration : {e}\")\n",
    "    Eouts1, Eins1 = run_one_experiment_prob_911(N, test_N, max_target_degree, max_hypo_degree, d_eff)\n",
    "          \n",
    "    Eouts.append(Eouts1)\n",
    "\n",
    "    \n",
    "Eouts = np.mean(np.array(Eouts), axis=0)\n"
   ]
  },
  {
   "cell_type": "code",
   "execution_count": null,
   "metadata": {},
   "outputs": [],
   "source": [
    "orders = np.arange(max_hypo_degree+1)\n",
    "yub = 1.5\n",
    "Eouts_f = np.clip(Eouts, 0, yub)\n",
    "xxs = [orders]\n",
    "yys = [Eouts_f]\n",
    "myplot.plt_plot(xxs, yys, 'plot', ['b'], ['o'], \n",
    "                ['Out-of-Sample Error'], \n",
    "        title = 'Problem 9.11 (c) E_out vs. Model Order', yscale = None, ylb = 0, yub = 1.2,\n",
    "        xlb = None, xub = None, xlabel = 'Model Order', ylabel = 'E_out',\n",
    "        legends = ['']*6, legendx = None, legendy = None, marker_sizes=[15]*5) "
   ]
  },
  {
   "cell_type": "markdown",
   "metadata": {},
   "source": [
    "#### Problem 9.12\n",
    "\n",
    "* (a) \n",
    "\n",
    "\\begin{align*}\n",
    "E^{\\pi}_{out}(h) &= \\frac{1}{4}E_{x,\\pi}\\left[(h(x)-f_{\\pi}(x))^2\\right] \\\\\n",
    "&= \\frac{1}{4}E_{x}E_{\\pi|x}\\left[(h(x)-f_{\\pi}(x))^2\\right] \\\\\n",
    "&= \\frac{1}{4}\\sum^N_{n=1}P(x=x_n)E_{\\pi|x=x_n}\\left[(h(x_n)-f_{\\pi}(x_n))^2\\right] \\\\\n",
    "&= \\frac{1}{4N}\\sum^N_{n=1}E_{\\pi|x=x_n}\\left[(h(x_n)-f_{\\pi}(x_n))^2\\right] \\\\\n",
    "&= \\frac{1}{4N}\\sum^N_{n=1}E_{\\pi}\\left[(h(x_n)-f_{\\pi}(x_n))^2\\right] \\\\\n",
    "\\end{align*}\n",
    "\n",
    "* (b) \n",
    "\n",
    "Let $\\bar{y} = \\frac{1}{N}\\sum_n y_n$ and $s^2_y = \\frac{1}{N}\\sum_n(y_n - \\bar{y})^2$\n",
    "\n",
    "\\begin{align*}\n",
    "E^{\\pi}_{out}(h) &=\\frac{1}{4N}\\sum^N_{n=1}E_{\\pi}\\left[(h(x_n)-f_{\\pi}(x_n))^2\\right] \\\\\n",
    "&= \\frac{1}{4N}\\sum^N_{n=1}E_{\\pi}\\left[(h(x_n)-\\bar{y} + \\bar{y} - f_{\\pi}(x_n))^2\\right] \\\\\n",
    "&= \\frac{1}{4N}\\sum^N_{n=1}E_{\\pi}\\left[(h(x_n)-\\bar{y})^2 + 2(h(x_n)-\\bar{y})(f_{\\pi}(x_n)-\\bar{y}) + (f_{\\pi}(x_n)-\\bar{y})^2\\right] \\\\\n",
    "&= \\frac{1}{4N}\\sum^N_{n=1}E_{\\pi}[(h(x_n)-\\bar{y})^2] + 2E_{\\pi}[(h(x_n)-\\bar{y})(f_{\\pi}(x_n)-\\bar{y})] + E_{\\pi}[(f_{\\pi}(x_n)-\\bar{y})^2] \\\\\n",
    "&= \\frac{1}{4N}\\sum^N_{n=1}\\left[(h(x_n)-\\bar{y})^2 + 2E_{\\pi}[(h(x_n)-\\bar{y})(f_{\\pi}(x_n)-\\bar{y})] + E_{\\pi}[(f_{\\pi}(x_n)-\\bar{y})^2]\\right] \\\\\n",
    "&= \\frac{1}{4N}\\sum^N_{n=1}\\left[(h(x_n)-\\bar{y})^2 + 2(h(x_n)-\\bar{y})E_{\\pi}[(f_{\\pi}(x_n)-\\bar{y})] + s^2_y\\right] \\\\\n",
    "&= \\frac{1}{4N}\\sum^N_{n=1}\\left[(h(x_n)-\\bar{y})^2 + s^2_y\\right] \\\\\n",
    "&= \\frac{1}{4N}\\sum^N_{n=1}(h(x_n)-\\bar{y})^2 + \\frac{1}{4}s^2_y \\\\\n",
    "\\end{align*}\n",
    "\n",
    "* (c) $E^{\\pi}_{in}(g_{\\pi}) = \\frac{1}{4N}\\sum^N_{n=1} (g_{\\pi}(x_n) - y_{\\pi_n})^2$\n",
    "\n",
    "* (d) The permutation optimism penalty is thus\n",
    "\n",
    "\\begin{align*}\n",
    "E^{\\pi}_{out}(g_{\\pi}) - E^{\\pi}_{in}(g_{\\pi}) &= \\frac{1}{4N}\\sum^N_{n=1}(g_{\\pi}(x_n)-\\bar{y})^2 + \\frac{1}{4}s^2_y - \\frac{1}{4N}\\sum^N_{n=1} (g_{\\pi}(x_n) - y_{\\pi_n})^2\\\\\n",
    " &= \\frac{1}{4N}\\sum^N_{n=1}(y_{\\pi_n}-\\bar{y})(2g_{\\pi}(x_n) - y_{\\pi_n}-\\bar{y} ) + \\frac{1}{4}s^2_y\\\\\n",
    " &= \\frac{1}{2N}\\sum^N_{n=1}(y_{\\pi_n}-\\bar{y})g_{\\pi}(x_n) + \\frac{1}{4N}\\sum^N_{n=1}(\\bar{y}^2 - y^2_{\\pi_n}) + \\frac{1}{4}\\frac{1}{N}\\sum^N_{n=1}(y_{\\pi_n} - \\bar{y})^2\\\\\n",
    " &= \\frac{1}{2N}\\sum^N_{n=1}(y_{\\pi_n}-\\bar{y})g_{\\pi}(x_n) + \\frac{1}{4N}\\sum^N_{n=1}2\\bar{y}(\\bar{y} - y_n)\\\\\n",
    " &= \\frac{1}{2N}\\sum^N_{n=1}(y_{\\pi_n}-\\bar{y})g_{\\pi}(x_n)\\\\\n",
    "\\end{align*}\n",
    "\n",
    "* (e) The correlation between $y_{\\pi_n}$ and $g_{\\pi}(x_n)$ is \n",
    "\n",
    "\\begin{align*}\n",
    "\\frac{1}{4N}\\sum^N_{n=1}(y_{\\pi_n}-\\bar{y})(g_{\\pi}(x_n) - \\bar{g_{\\pi}}) &= \\frac{1}{4N}\\sum^N_{n=1}(y_{\\pi_n}-\\bar{y})g_{\\pi}(x_n) - \\frac{1}{4N}\\sum^N_{n=1}(y_{\\pi_n}-\\bar{y})\\bar{g_{\\pi}}\\\\\n",
    "&= \\frac{1}{4N}\\sum^N_{n=1}(y_{\\pi_n}-\\bar{y})g_{\\pi}(x_n) - \\bar{g_{\\pi}}\\frac{1}{4N}\\sum^N_{n=1}(y_{\\pi_n}-\\bar{y})\\\\\n",
    "&= \\frac{1}{4N}\\sum^N_{n=1}(y_{\\pi_n}-\\bar{y})g_{\\pi}(x_n)\\\\\n",
    "\\end{align*}\n",
    "\n",
    "So it is proportional to the permutation optimism.\n",
    "\n",
    "#### Problem 9.13\n",
    "\n",
    "The target distribution for the random problem using sampling of the targets with replacement, then we have  $P[f_{\\pi}(x_n)=y_m] = \\frac{1}{N}$.\n",
    "\n",
    "Follow the steps in problem 9.12, we shall obtain equation (9.5) as well."
   ]
  },
  {
   "cell_type": "markdown",
   "metadata": {},
   "source": [
    "#### Problem 9.14"
   ]
  },
  {
   "cell_type": "code",
   "execution_count": 88,
   "metadata": {},
   "outputs": [
    {
     "data": {
      "text/plain": [
       "0.031000000000000028"
      ]
     },
     "execution_count": 88,
     "metadata": {},
     "output_type": "execute_result"
    }
   ],
   "source": [
    "def run_one_experiment_914(N, maxit=10000):\n",
    "    dim= 1\n",
    "    max_v = 10000\n",
    "    lb, ub = -10, 10\n",
    "    use_adaline = False\n",
    "    eta = 1    \n",
    "\n",
    "    xs = data.generate_random_numbers(N, dim, max_v, lb, ub)\n",
    "    rands = data.generate_random_numbers01(N, dim, max_v)\n",
    "    df = pd.DataFrame({'x0': np.ones(N), 'x':xs.flatten(), 'rands':rands.flatten()})\n",
    "    df['y'] = 1\n",
    "    df.loc[df['rands'] < 0.5, 'y'] = -1\n",
    "    df = df[['x0', 'x','y']]\n",
    "\n",
    "    w_pocket, w_ts, what_ts, test_w_ts, test_what_ts, Ein = lm.pocket_algo(df.values, dim, \n",
    "                                                                      maxit,eta, randomized = True, \n",
    "                                                                      print_out = False, \n",
    "                                                                      test_points = None)    \n",
    "    opt = 0.5 - Ein\n",
    "    return opt\n",
    "\n",
    "run_one_experiment_914(1000)"
   ]
  },
  {
   "cell_type": "code",
   "execution_count": 80,
   "metadata": {
    "collapsed": true
   },
   "outputs": [
    {
     "name": "stdout",
     "output_type": "stream",
     "text": [
      "--- Working on N = 1\n",
      "--- Working on N = 2\n",
      "--- Working on N = 3\n",
      "--- Working on N = 4\n",
      "--- Working on N = 5\n",
      "--- Working on N = 6\n",
      "--- Working on N = 7\n",
      "--- Working on N = 8\n",
      "--- Working on N = 9\n",
      "--- Working on N = 10\n",
      "--- Working on N = 20\n",
      "--- Working on N = 30\n",
      "--- Working on N = 40\n",
      "--- Working on N = 50\n",
      "--- Working on N = 100\n",
      "--- Working on N = 200\n",
      "--- Working on N = 300\n",
      "--- Working on N = 400\n",
      "--- Working on N = 500\n",
      "--- Working on N = 600\n",
      "--- Working on N = 700\n",
      "--- Working on N = 800\n",
      "--- Working on N = 900\n",
      "--- Working on N = 1000\n"
     ]
    }
   ],
   "source": [
    "Ns = [1, 2, 3, 4, 5, 6, 7, 8, 9, 10, 20, 30, 40, 50, 100, 200, 300, 400, 500, 600, 700, 800, 900, 1000]\n",
    "opts = []\n",
    "for N in Ns:\n",
    "    print(f\"--- Working on N = {N}\")\n",
    "    opt = run_one_experiment_914(N)\n",
    "    opts.append(opt)"
   ]
  },
  {
   "cell_type": "code",
   "execution_count": 86,
   "metadata": {},
   "outputs": [
    {
     "data": {
      "image/png": "[encoded data removed]",
      "text/plain": [
       "<Figure size 432x288 with 1 Axes>"
      ]
     },
     "metadata": {
      "needs_background": "light"
     },
     "output_type": "display_data"
    }
   ],
   "source": [
    "vals = 1/np.sqrt(Ns)\n",
    "myplot.plt_plot([Ns, Ns], [opts, vals], 'plot', ['b', 'r'], ['o', 'x'], ['Calculated Optimism', '1/sqrt(N)'], \n",
    "        title = 'Problem 9.14 (a) Rademacher Optimism vs. N', yscale = None, ylb = None, yub = None,\n",
    "        xlb = None, xub = None, xlabel = 'N', ylabel = 'Rademacher Optimism',\n",
    "        legends = ['', ''], legendx = None, legendy = None) "
   ]
  },
  {
   "cell_type": "code",
   "execution_count": 90,
   "metadata": {},
   "outputs": [
    {
     "name": "stdout",
     "output_type": "stream",
     "text": [
      "-- Working on 1\n",
      "---- Average optimism: 0.5\n",
      "-- Working on 2\n"
     ]
    },
    {
     "name": "stderr",
     "output_type": "stream",
     "text": [
      "D:\\git\\Learning-From-Data-A-Short-Course\\libs\\linear_models.py:119: RuntimeWarning: divide by zero encountered in true_divide\n",
      "  w = w/w[-1]\n",
      "D:\\git\\Learning-From-Data-A-Short-Course\\libs\\linear_models.py:119: RuntimeWarning: invalid value encountered in true_divide\n",
      "  w = w/w[-1]\n"
     ]
    },
    {
     "name": "stdout",
     "output_type": "stream",
     "text": [
      "---- Average optimism: 0.4796\n",
      "-- Working on 3\n",
      "---- Average optimism: 0.4063333333333334\n",
      "-- Working on 4\n",
      "---- Average optimism: 0.3649\n",
      "-- Working on 5\n",
      "---- Average optimism: 0.3335999999999999\n",
      "-- Working on 6\n",
      "---- Average optimism: 0.3057\n",
      "-- Working on 7\n",
      "---- Average optimism: 0.28702857142857147\n",
      "-- Working on 8\n",
      "---- Average optimism: 0.2697375\n",
      "-- Working on 9\n",
      "---- Average optimism: 0.2564222222222222\n",
      "-- Working on 10\n",
      "---- Average optimism: 0.24306\n",
      "-- Working on 20\n",
      "---- Average optimism: 0.17616500000000002\n",
      "-- Working on 30\n",
      "---- Average optimism: 0.14551333333333336\n",
      "-- Working on 40\n",
      "---- Average optimism: 0.12594499999999997\n",
      "-- Working on 50\n",
      "---- Average optimism: 0.112944\n",
      "-- Working on 100\n",
      "---- Average optimism: 0.09060000000000003\n",
      "-- Working on 500\n",
      "---- Average optimism: 0.0412528\n",
      "-- Working on 1000\n",
      "---- Average optimism: 0.0306446\n"
     ]
    }
   ],
   "source": [
    "Ns = [1, 2, 3, 4, 5, 6, 7, 8, 9, 10, 20, 30, 40, 50, 100, 500, 1000]\n",
    "runs = 10000\n",
    "avg_opts = []\n",
    "for N in Ns:\n",
    "    opts = []\n",
    "    print(f\"-- Working on {N}\")\n",
    "    if N < 100:\n",
    "        maxit = 100\n",
    "    elif N <= 500:\n",
    "        maxit = 1000\n",
    "    else:\n",
    "        maxit = 5000\n",
    "    for r in np.arange(runs):\n",
    "        opt = run_one_experiment_914(N, maxit)\n",
    "        opts.append(opt)\n",
    "    avg_opt = np.mean(opts)\n",
    "    print(f\"---- Average optimism: {avg_opt}\")\n",
    "    avg_opts.append(avg_opt)"
   ]
  },
  {
   "cell_type": "code",
   "execution_count": 92,
   "metadata": {
    "scrolled": true
   },
   "outputs": [
    {
     "data": {
      "image/png": "[encoded data removed]",
      "text/plain": [
       "<Figure size 432x288 with 1 Axes>"
      ]
     },
     "metadata": {
      "needs_background": "light"
     },
     "output_type": "display_data"
    }
   ],
   "source": [
    "vals = 1/np.sqrt(Ns)\n",
    "myplot.plt_plot([Ns, Ns], [avg_opts, vals], 'plot', ['b', 'r'], ['o', 'x'], ['Calculated Optimism', '1/sqrt(N)'], \n",
    "        title = 'Problem 9. 14 (b)-(c) Rademacher Optimism vs. N', yscale = None, ylb = None, yub = None,\n",
    "        xlb = None, xub = None, xlabel = 'N', ylabel = 'Average Rademacher Optimism',\n",
    "        legends = ['', ''], legendx = None, legendy = None) "
   ]
  },
  {
   "cell_type": "markdown",
   "metadata": {},
   "source": [
    "#### Problem 9.14 (c)\n",
    "\n",
    "The Rademacher penalty seems to follow the line of $\\frac{1}{\\sqrt{N}}$. The VC penalty for perceptron is $\\sqrt{\\frac{d\\ln N}{N}}$ according to equation (3.1). It's a bit larger than the Rademacher penalty. So Rademacher penalty is a tigher bound here."
   ]
  },
  {
   "cell_type": "markdown",
   "metadata": {},
   "source": [
    "#### Problem 9.15\n",
    "\n",
    "For a single hypothesis we have $P[|E_{out}(h) - E_{in}(h)| > \\epsilon] \\le 2e^{-2N\\epsilon^2}$. The Rademacher variables $r_n$ are $+1,-1$, so the growth function $m_{\\mathcal{H}}(N)$ is the exact number of hypotheses in $\\mathcal{H}$ for $N$ data points.  We are selecting $g_r$ from  $m_{\\mathcal{H}}(N)$ hypotheses, so we have \n",
    "\n",
    "$P[|E'_{out}(g_r) - E'_{in}(g_r)| > \\epsilon] \\le 2m_{\\mathcal{H}}(N)e^{-2N\\epsilon^2}$\n",
    "\n",
    "Let $\\delta = 2m_{\\mathcal{H}}(N)e^{-2N\\epsilon^2}$, i.e. $\\epsilon = \\sqrt{\\frac{1}{2N}\\ln\\frac{2m_{\\mathcal{H}}}{\\delta}}$. Thus with probability at least $1-\\delta$, we have\n",
    "\n",
    "$E'_{out}(g_r) - E'_{in}(g_r) \\le \\epsilon = \\sqrt{\\frac{1}{2N}\\ln\\frac{2m_{\\mathcal{H}(N)}}{\\delta}}$"
   ]
  },
  {
   "cell_type": "markdown",
   "metadata": {},
   "source": [
    "#### Problem 9.16 TODO\n",
    "#### Problem 9.17 TODO"
   ]
  },
  {
   "cell_type": "markdown",
   "metadata": {},
   "source": [
    "#### Problem 9.18\n",
    "\n",
    "* (a) From $\\hat{y}^{(\\pi)} = Hy^{(\\pi)}$, we have $\\hat{y}^{(\\pi)}_n = \\sum_m H_{nm}y^{(\\pi)}_m = \\sum_m H_{nm}y_{\\pi_m}$. The permutation optimism penalty is thus\n",
    "\n",
    "\\begin{align*}\n",
    "\\frac{2}{N}\\sum^N_{n=1}(y_{\\pi_n} - \\bar{y})g_{(\\pi)}(x_n) &= \\frac{2}{N}\\sum^N_{n=1}(y_{\\pi_n} - \\bar{y})\\sum_m H_{nm}y_{\\pi_m} \\\\ \n",
    "&= \\frac{2}{N}\\sum^N_{n=1}\\sum_m(y_{\\pi_n} - \\bar{y}) H_{nm}y_{\\pi_m} \\\\\n",
    "&=\\frac{2}{N}\\sum^N_{n=1}\\sum_m H_{nm}(y_{\\pi_n}y_{\\pi_m}  - \\bar{y}y_{\\pi_m} )\\\\\n",
    "&=\\frac{2}{N}\\sum_{m,n=1}H_{mn}(y_{\\pi_m}y_{\\pi_n}  - \\bar{y}y_{\\pi_n} )\\\\\n",
    "\\end{align*}\n",
    "\n",
    "* (b) \n",
    "\n",
    "\\begin{align*}\n",
    "E_{\\pi}[y_{\\pi_n}] &= \\sum^N_{k=1}y_k P[y_{\\pi_n} = y_k] \\\\\n",
    "&= \\sum^N_{k=1}y_k \\frac{1}{N} \\\\\n",
    "&= \\bar{y}\\\\\n",
    "\\end{align*}\n",
    "\n",
    "When $m=n$, we have\n",
    "\n",
    "\\begin{align*}\n",
    "E_{\\pi}[y_{\\pi_m}y_{\\pi_n}] &= \\sum^N_{n=1}y^2_n P[y_{\\pi_m} = y_n]  \\\\\n",
    "&= \\sum^N_{n=1}\\frac{1}{N}y^2_n   \\\\\n",
    "&= \\bar{y}^2 + s^2_y \\\\\n",
    "\\end{align*}\n",
    "\n",
    "When $m\\ne n$, we have\n",
    "\n",
    "\\begin{align*}\n",
    "E_{\\pi}[y_{\\pi_m}y_{\\pi_n}] &= \\sum^N_{m=1}\\sum^N_{n\\ne m}y_my_n P[y_{\\pi_m} = y_m, y_{\\pi_n}=y_n]  \\\\\n",
    "&= \\sum^N_{m=1}\\sum^N_{n\\ne m}y_my_n P[y_{\\pi_m} = y_m]P[y_{\\pi_n}=y_n]  \\\\\n",
    "&= \\sum^N_{m=1}\\sum^N_{n\\ne m}y_my_n \\frac{1}{N}\\frac{1}{N-1}\\\\\n",
    "&= \\frac{1}{N(N-1)}\\sum^N_{m=1}y_m \\sum^N_{n\\ne m}y_n \\\\\n",
    "&= \\frac{1}{N(N-1)}\\sum^N_{m=1}y_m (N\\bar{y} - y_m) \\\\\n",
    "&= \\frac{1}{(N-1)}\\bar{y}\\sum^N_{m=1}y_m  - \\frac{1}{N(N-1)}\\sum^N_{m=1}y^2_m \\\\\n",
    "&= \\frac{N}{(N-1)}\\bar{y}^2  - \\frac{1}{N(N-1)}(N(\\bar{y}^2 + s^2_y)) \\\\\n",
    "&= \\bar{y}^2  - \\frac{s^2_y}{N-1} \\\\\n",
    "\\end{align*}\n",
    "\n",
    "* (c) Take the expectation of the penalty in (a), we have\n",
    "\n",
    "\\begin{align*}\n",
    "E\\left[\\frac{2}{N}\\sum_{m,n=1}H_{mn}(y_{\\pi_m}y_{\\pi_n}  - \\bar{y}y_{\\pi_n} )\\right] &= \\frac{2}{N}\\sum_{m,n=1}H_{mn}E[y_{\\pi_m}y_{\\pi_n}  - \\bar{y}y_{\\pi_n}]\\\\\n",
    " &= \\frac{2}{N}\\sum_{m,n=1}H_{mn}\\left(E[y_{\\pi_m}y_{\\pi_n}]  - \\bar{y}E[y_{\\pi_n}]\\right)\\\\\n",
    " &= \\frac{2}{N}\\sum_{m,n=1}H_{mn}\\left(E[y_{\\pi_m}y_{\\pi_n}]  - \\bar{y}^2\\right)\\\\\n",
    " &= \\left(\\frac{2}{N}\\sum_{m=n}H_{mn}(E[y_{\\pi_m}y_{\\pi_n}]  - \\bar{y}^2)\\right)  + \\left(\\frac{2}{N}\\sum_{m\\ne n}H_{mn}(E[y_{\\pi_m}y_{\\pi_n}]  - \\bar{y}^2)\\right)\\\\\n",
    " &= \\left(\\frac{2}{N}\\sum^N_{n=1}H_{nn}s^2_y\\right) - \\left(\\frac{2}{N}\\sum_{m\\ne n}H_{mn} \\frac{1}{N-1}s^2_y\\right)\\\\\n",
    " &= \\frac{2}{N}\\left(s^2_y\\text{trace}(H) - \\sum_{m\\ne n}H_{mn} \\frac{1}{N-1}s^2_y\\right)\\\\\n",
    " &= \\frac{2s^2_y}{N}\\left(\\text{trace}(H) -\\frac{1}{N-1} \\sum_{m\\ne n}H_{mn}\\right)\\\\\n",
    " &= \\frac{2s^2_y}{N}\\left(\\text{trace}(H) -\\frac{1}{N-1} (1^TH1 - \\text{trace}(H))\\right)\\\\\n",
    " &= \\frac{2s^2_y}{N-1}\\left(\\frac{N-1}{N}\\text{trace}(H) -\\frac{1}{N} (1^TH1 - \\text{trace}(H))\\right)\\\\\n",
    " &= \\frac{2s^2_y}{N-1}\\left(\\text{trace}(H) -\\frac{1^TH1 }{N}\\right)\\\\\n",
    " &= \\frac{2\\hat{\\sigma}^2_y}{N}\\left(\\text{trace}(H) -\\frac{1^TH1 }{N}\\right)\\\\\n",
    "\\end{align*}\n",
    "\n",
    "\n"
   ]
  },
  {
   "cell_type": "markdown",
   "metadata": {},
   "source": [
    "#### Problem 9.19\n",
    "Follow the same derivation as in problem 9.18, we have \n",
    "\n",
    "When $m=n$, we have\n",
    "\n",
    "\\begin{align*}\n",
    "E_{\\pi}[y_{\\pi_m}y_{\\pi_n}] &= \\bar{y}^2 + s^2_y \\\\\n",
    "\\end{align*}\n",
    "\n",
    "When $m\\ne n$, note we can still have $y_{\\pi_m} = y_{\\pi_n}$ even when $m\\ne n$, so we have\n",
    "\n",
    "\\begin{align*}\n",
    "E_{\\pi}[y_{\\pi_m}y_{\\pi_n}] &= \\sum^N_{i=1}\\sum^N_{j=1}y_iy_j P[y_{\\pi_m} = y_i, y_{\\pi_n}=y_j]  \\\\\n",
    "&= \\sum^N_{i=1}\\sum^N_{j=1}y_iy_j P[y_{\\pi_m} = y_i]P[y_{\\pi_n}=y_j]  \\\\\n",
    "&= \\sum^N_{i=1}\\sum^N_{j=1}y_iy_j \\frac{1}{N}\\frac{1}{N}\\\\\n",
    "&= \\frac{1}{N^2}\\sum^N_{i=1}y_i \\sum^N_{j=1}y_j \\\\\n",
    "&= \\bar{y}^2\\\\\n",
    "\\end{align*}\n",
    "\n",
    "Take the expectation of the penalty in (a), we have\n",
    "\n",
    "\\begin{align*}\n",
    "E\\left[\\frac{2}{N}\\sum_{m,n=1}H_{mn}(y_{\\pi_m}y_{\\pi_n}  - \\bar{y}y_{\\pi_n} )\\right] &= \\frac{2}{N}\\sum_{m,n=1}H_{mn}E[y_{\\pi_m}y_{\\pi_n}  - \\bar{y}y_{\\pi_n}]\\\\\n",
    " &= \\frac{2}{N}\\sum_{m,n=1}H_{mn}\\left(E[y_{\\pi_m}y_{\\pi_n}]  - \\bar{y}E[y_{\\pi_n}]\\right)\\\\\n",
    " &= \\frac{2}{N}\\sum_{m,n=1}H_{mn}\\left(E[y_{\\pi_m}y_{\\pi_n}]  - \\bar{y}^2\\right)\\\\\n",
    " &= \\left(\\frac{2}{N}\\sum_{m=n}H_{mn}(E[y_{\\pi_m}y_{\\pi_n}]  - \\bar{y}^2)\\right)  + \\left(\\frac{2}{N}\\sum_{m\\ne n}H_{mn}(E[y_{\\pi_m}y_{\\pi_n}]  - \\bar{y}^2)\\right)\\\\\n",
    " &= \\frac{2}{N}\\sum^N_{n=1}H_{nn}s^2_y\\\\\n",
    " &= \\frac{2s^2_y}{N}\\text{trace}(H)\\\\\n",
    " \\end{align*}\n",
    " \n",
    " #### Problem 9.20\n",
    " \n",
    " See the answer in [Problem 5.2](https://github.com/niuers/Learn-From-Data-A-Short-Course/blob/master/Solutions%20to%20Chapter%205%20Exercises%20and%20Problems.ipynb)"
   ]
  },
  {
   "cell_type": "markdown",
   "metadata": {},
   "source": [
    "#### Problem 9.21\n",
    "\n",
    "* (a) From [Problem 4.26](https://github.com/niuers/Learn-From-Data-A-Short-Course/blob/master/Solutions%20to%20Chapter%204%20Exercises%20and%20Problems.ipynb), we have the error on $x_n$ from data set $\\mathcal{D}_m$ as $e_n = \\left(\\frac{\\hat{y}^{(m)}_n - y_n}{1-H^{(m)}_{nn}}\\right)^2$, so the cross validation error for this data set is \n",
    "\n",
    "$E_{CV}(\\mathcal{D}_m) = \\frac{1}{N-1}\\sum_{n\\ne m} \\left(\\frac{\\hat{y}^{(m)}_n - y_n}{1-H^{(m)}_{nn}}\\right)^2$ \n",
    "\n",
    "as there are only $N-1$ data points.\n",
    "\n",
    "* (b) Let $H, A$ correspond to the full data set $\\mathcal{D}$\n",
    "\n",
    "From problem 4.26, we have $H^{(m)}_{nk} = z^T_n(A^{(m)})^{-1}z_k$ and $A^{(m)} = A - z_mz^T_m$, so \n",
    "\n",
    "\\begin{align*}\n",
    "H^{(m)}_{nk} &= z^T_n(A^{(m)})^{-1}z_k \\\\\n",
    "&= z^T_n\\left(A - z_mz^T_m\\right)^{-1}z_k\\\\\n",
    "&\\text{apply problem 4.26(b)}\\\\\n",
    "&= z^T_n\\left(A^{-1} + \\frac{A^{-1}z_mz^T_mA^{-1}}{1-z^T_mA^{-1}z_m}\\right)z_k\\\\\n",
    "&= z^T_nA^{-1}z_k + \\frac{z^T_nA^{-1}z_mz^T_mA^{-1}z_k}{1-z^T_mA^{-1}z_m}\\\\\n",
    "&= H_{nk} + \\frac{H_{mn}H_{mk}}{1-H_{mm}}\\\\\n",
    "\\end{align*}\n",
    "\n",
    "* (c) We have $\\hat{y} = Hy$, so \n",
    "\n",
    "\\begin{align*}\n",
    "\\hat{y}^{(m)}_n &= \\sum^{N}_{k=1, k\\ne m} H^{(m)}_{nk}y_k \\\\\n",
    "&= \\sum^N_{k=1,k\\ne m} \\left(H_{nk} + \\frac{H_{mn}H_{mk}}{1-H_{mm}}\\right)y_k\\\\\n",
    "&= \\sum^N_{k=1,k\\ne m} \\left(H_{nk}y_k + \\frac{H_{mn}H_{mk}}{1-H_{mm}}y_k\\right)\\\\\n",
    "&= \\sum^N_{k=1} \\left(H_{nk}y_k + \\frac{H_{mn}H_{mk}}{1-H_{mm}}y_k\\right) - (H_{nm} + \\frac{H_{mn}H_{mm}}{1-H_{mm}})y_m\\\\\n",
    "&= \\hat{y}_n + \\sum_k \\frac{H_{mn}H_{mk}}{1-H_{mm}}y_k - \\frac{H_{mn}}{1-H_{mm}}y_m\\\\\n",
    "&= \\hat{y}_n + \\frac{H_{mn}}{1-H_{mm}} \\sum_k H_{mk}y_k- \\frac{H_{mn}}{1-H_{mm}}y_m \\\\\n",
    "&= \\hat{y}_n + \\frac{H_{mn}}{1-H_{mm}} \\hat{y}_m - \\frac{H_{mn}}{1-H_{mm}}y_m\\\\\n",
    "&= \\hat{y}_n + \\frac{\\hat{y}_m - y_m}{1-H_{mm}}H_{mn} \\\\\n",
    "\\end{align*}\n",
    "\n",
    "* (d) Take the results of problem (b), (c) into the formula for $E_{CV}(\\mathcal{D}_m)$ we have\n",
    "\n",
    "\\begin{align*}\n",
    "E_{CV}(\\mathcal{D}_m) &= \\frac{1}{N-1}\\sum_{n\\ne m} \\left(\\frac{\\hat{y}^{(m)}_n - y_n}{1-H^{(m)}_{nn}}\\right)^2 \\\\\n",
    "&= \\frac{1}{N-1}\\sum_{n\\ne m} \\left(\\frac{\\hat{y}_n + \\frac{\\hat{y}_m - y_m}{1-H_{mm}}H_{mn}  - y_n}{1-(H_{nn} + \\frac{H_{mn}H_{mn}}{1-H_{mm}})}\\right)^2\\\\\n",
    "&= \\frac{1}{N-1}\\sum_{n\\ne m} \\left(\\frac{\\hat{y}_n - y_n + \\frac{\\hat{y}_m - y_m}{1-H_{mm}}H_{mn}  }{1-H_{nn} - \\frac{H^2_{mn}}{1-H_{mm}}}\\right)^2 \\\\\n",
    "&= \\frac{1}{N-1}\\sum_{n=1} \\left(\\frac{\\hat{y}_n - y_n + \\frac{\\hat{y}_m - y_m}{1-H_{mm}}H_{mn}  }{1-H_{nn} - \\frac{H^2_{mn}}{1-H_{mm}}}\\right)^2  - \\frac{1}{N-1}\\left(\\frac{\\hat{y}_m - y_m}{1-2H_{mm}}\\right)^2\\\\\n",
    "\\end{align*}\n",
    "\n",
    "* (e) We also have $E_{CV}(\\mathcal{D}) = \\frac{1}{N}\\sum_{n=1} \\left(\\frac{\\hat{y}_n - y_n}{1-H_{nn}}\\right)^2$\n",
    "\n",
    "so the leverage $l_m = E_{CV}(\\mathcal{D}) - E_{CV}(\\mathcal{D}_m)$\n",
    "\n",
    "To compute the leverage, we only need calculate the hat matrix $H$ for the full data set $\\mathcal{D}$ once, and make predictions $\\hat{y}$ once. \n",
    "So this is $N$ times more cost than a normal linear regression."
   ]
  },
  {
   "cell_type": "markdown",
   "metadata": {},
   "source": [
    "#### Problem 9.22"
   ]
  },
  {
   "cell_type": "code",
   "execution_count": 46,
   "metadata": {},
   "outputs": [],
   "source": [
    "#### Problem 9.22\n",
    "\n",
    "def compute_full_Ecv(H, y_hat, y):\n",
    "    N = y_hat.shape[0]\n",
    "    Ecv = 0\n",
    "\n",
    "    for n in np.arange(N):\n",
    "        yhat_n = y_hat[n]\n",
    "        yn = y[n]\n",
    "        Hnn = H[n,n]\n",
    "        r = (yhat_n - yn)/(1-Hnn)\n",
    "        Ecv += r**2\n",
    "    Ecv = Ecv / N\n",
    "    return Ecv\n",
    "\n",
    "def compute_loo_Ecv(H, y_hat, y, m):\n",
    "    #m is the point that was left out\n",
    "    N = y.shape[0]\n",
    "    Ecv = 0\n",
    "    yhat_m = y_hat[m]\n",
    "    ym = y[m]\n",
    "    Hmm = H[m, m]    \n",
    "    r0 = (yhat_m - ym) /(1-Hmm)\n",
    "    #print(ym, yhat_m, Hmm)\n",
    "    for n in np.arange(N):\n",
    "        yhat_n = y_hat[n]\n",
    "        yn = y[n]\n",
    "        Hnn = H[n,n]  \n",
    "        Hmn = H[m,n]\n",
    "        \n",
    "        r1 = yhat_n - yn + r0 * Hmn\n",
    "        r2 = 1 - Hnn - Hmn*Hmn/(1-Hmm)\n",
    "        r = r1/r2\n",
    "        Ecv += r**2\n",
    "        \n",
    "    Ecv = Ecv / (N-1)\n",
    "    r3 = (yhat_m - ym)/(1-2.0*Hmm)\n",
    "    Ecv =  Ecv - r3**2/(N-1)\n",
    "    return Ecv\n",
    "    \n",
    "        \n",
    "def leverage(X, y, lambda_t):\n",
    "    #Compute the leverage of each point m\n",
    "    H = lm.compute_H(X, lambda_t) #full H\n",
    "    \n",
    "    y_hat = lm.compute_y_hat(H, y)\n",
    "    Ecv_full = compute_full_Ecv(H, y_hat, y)\n",
    "    N, _ = X.shape\n",
    "    full_indices = np.arange(N)\n",
    "    lms = []\n",
    "    for m in np.arange(N):\n",
    "        indices = np.hstack([full_indices[:m], full_indices[m+1:]])\n",
    "        Xm = X[indices]\n",
    "        ym = y[indices]\n",
    "        #print(f\"--Current point {m}: {ym}\")\n",
    "        Ecv_m = compute_loo_Ecv(H, y_hat, y, m)\n",
    "        lm = Ecv_full - Ecv_m\n",
    "        lms.append(lm)\n",
    "    return lms\n",
    "\n",
    "X = np.array([[1, 0.51291], [1, 0.46048], [1, 0.3504], [1, 0.095046], [1, 0.43367], [1, 0.70924], [1, 0.11597]])\n",
    "y = np.array([0.36542, 0.22156, 0.15263, 0.10355, 0.10015, 0.26713, 2.3095])\n",
    "lambdas = np.hstack([np.arange(0., 0.1, 0.01), np.arange(0.1, 1, 0.05), np.arange(1, 10, 1)])\n",
    "last_lvs = []\n",
    "for lambda_t in lambdas:\n",
    "    lvs = leverage(X, y, lambda_t)\n",
    "    #print(lvs)\n",
    "    last_lvs.append(lvs[-1])\n",
    "    "
   ]
  },
  {
   "cell_type": "code",
   "execution_count": 47,
   "metadata": {},
   "outputs": [
    {
     "name": "stderr",
     "output_type": "stream",
     "text": [
      "No handles with labels found to put in legend.\n"
     ]
    },
    {
     "data": {
      "image/png": "[encoded data removed]",
      "text/plain": [
       "<Figure size 432x288 with 1 Axes>"
      ]
     },
     "metadata": {
      "needs_background": "light"
     },
     "output_type": "display_data"
    }
   ],
   "source": [
    "myplot.plt_plot([lambdas], [last_lvs], 'plot', ['b', 'r'], ['o', 'x'], ['', ''], \n",
    "        title = 'Problem 9.22 Last Point Leverage vs. Lambda', yscale = None, ylb = None, yub = None,\n",
    "        xlb = None, xub = None, xlabel = 'Lambda', ylabel = 'Leverage',\n",
    "        legends = ['+', '-'], legendx = None, legendy = None) "
   ]
  },
  {
   "cell_type": "markdown",
   "metadata": {},
   "source": [
    "#### Problem 9.22\n",
    "\n",
    "As $\\lambda$ increases, we see the leverage of the last point decreases, which means that with larger regularization, the algorithm tries less harder to fit the outlier. \n",
    "\n",
    "#### Problem 9.23"
   ]
  },
  {
   "cell_type": "code",
   "execution_count": 59,
   "metadata": {},
   "outputs": [
    {
     "name": "stdout",
     "output_type": "stream",
     "text": [
      "X_train:  (500, 256) y_train:  (500,) X_test:  (6791, 256) y_test:  (6791,)\n",
      "Frequencies of the digits: \n",
      " {0: 0.164, 1: 0.138, 2: 0.1, 3: 0.09, 4: 0.09, 5: 0.076, 6: 0.092, 7: 0.088, 8: 0.074, 9: 0.088}\n"
     ]
    }
   ],
   "source": [
    "#### Problem 9.23\n",
    "zip_data_path = './data/usps.h5'\n",
    "data_splits = data.split_zip_data(zip_data_path, splits = 1)\n",
    "\n",
    "X_train, y_train, X_test, y_test = data_splits[0]\n",
    "\n",
    "print('X_train: ', X_train.shape, 'y_train: ',y_train.shape, 'X_test: ',X_test.shape, 'y_test: ', y_test.shape)\n",
    "unique, counts = np.unique(y_train, return_counts=True)\n",
    "freqs = counts/len(y_train)\n",
    "print('Frequencies of the digits: \\n', dict(zip(unique, freqs)))\n",
    "\n",
    "y_train, y_test = data.set_two_classes(y_train, y_test, 1)"
   ]
  },
  {
   "cell_type": "code",
   "execution_count": 69,
   "metadata": {},
   "outputs": [],
   "source": [
    "lambda_t = 0\n",
    "X_tr, X_te = data.compute_features(X_train, X_test)\n",
    "lvs = leverage(X_tr, y_train, lambda_t)\n",
    "lvs = np.array(lvs)\n",
    "ids = np.argsort(-lvs)"
   ]
  },
  {
   "cell_type": "code",
   "execution_count": 74,
   "metadata": {},
   "outputs": [
    {
     "data": {
      "image/png": "[encoded data removed]",
      "text/plain": [
       "<Figure size 432x288 with 1 Axes>"
      ]
     },
     "metadata": {
      "needs_background": "light"
     },
     "output_type": "display_data"
    }
   ],
   "source": [
    "large_leverage_ids = ids[:10]\n",
    "\n",
    "x1s = [X_tr[y_train==1, 0], X_tr[y_train==-1, 0], X_tr[large_leverage_ids, 0]]\n",
    "x2s = [X_tr[y_train==1, 1], X_tr[y_train==-1, 1], X_tr[large_leverage_ids, 1]]\n",
    "myplot.plt_plot(x1s, x2s, 'scatter', ['b', 'r', 'g'], ['o', 'x', '+'], ['Digit 1', 'Non Digit 1', 'Outliers'], \n",
    "        title = 'Problem 9.23 Digits 1 vs non-1 (with outliers)', yscale = None, ylb = None, yub = None,\n",
    "        xlb = None, xub = None, xlabel = 'Average Intensity', ylabel = 'Symmetry',\n",
    "        legends = ['+', '-'], legendx = None, legendy = None, marker_sizes=[15, 15, 100]) "
   ]
  },
  {
   "cell_type": "markdown",
   "metadata": {},
   "source": [
    "#### Problem 9.23 \n",
    "\n",
    "Most of the points with large leverage are on the boundaries between digit '1' and non digit '1'. Remove them will help achieve better cross validation errors."
   ]
  },
  {
   "cell_type": "markdown",
   "metadata": {},
   "source": [
    "#### Problem 9.24\n",
    "\n",
    "* (a) For $\\hat{t}_n$, we use $N-1$ data points to estimate $t$, since $\\hat{t}(\\mathcal{Z}_n)$ is asymptotically unbiased, we have\n",
    "\n",
    "$E_{\\mathcal{Z}}[\\hat{t}(\\mathcal{Z})] = t + \\frac{a_1}{N-1} + \\frac{a_2}{(N-1)^2} + \\dots $\n",
    "\n",
    "* (b) \n",
    "\n",
    "\\begin{align*}\n",
    "E_{\\mathcal{Z}}[\\hat{\\tau}_n] &= E_{\\mathcal{Z}}[N\\hat{t}(\\mathcal{Z}) - (N-1)\\hat{t}_n]\\\\\n",
    "&= NE_{\\mathcal{Z}}[\\hat{t}(\\mathcal{Z})] - (N-1)E_{\\mathcal{Z}}[\\hat{t}_n]\\\\\n",
    "&= N(t+\\frac{a_1}{N} + \\frac{a_2}{N^2} + \\dots) - (N-1)(t + \\frac{a_1}{N-1} + \\frac{a_2}{(N-1)^2} + \\dots)\\\\\n",
    "&= t - \\frac{a_2}{N(N-1)} + O(\\frac{1}{N^2})\\\\\n",
    "\\end{align*}\n",
    "\n",
    "* (c) It's clear that with $N-1$ data points, we have \n",
    "\n",
    "\\begin{align*}\n",
    "s^2_n &= \\frac{1}{N-1}\\left(\\sum^N_{m=1}x^2_m - x^2_n\\right) - \\frac{1}{(N-1)^2}\\left(\\sum^N_{m=1}x_m - x_n\\right)^2\\\\\n",
    "&= \\frac{1}{N-1}\\sum^N_{m=1}x^2_m - \\frac{1}{N-1}x^2_n- \\frac{1}{(N-1)^2}\\left(\\left(\\sum^N_{m=1}x_m\\right)^2 -2 x_n\\sum^N_{m=1}x_m + x^2_n\\right)\\\\\n",
    "&= \\frac{1}{N-1}\\sum^N_{m=1}x^2_m - \\frac{1}{(N-1)^2}\\left(\\sum^N_{m=1}x_m\\right)^2 - \\frac{N}{(N-1)^2}x^2_n + \\frac{2x_n}{(N-1)^2} \\sum^N_{m=1}x_m\\\\\n",
    "\\end{align*}\n",
    "\n",
    "\n",
    "\\begin{align*}\n",
    "s^2_J &= Ns^2 - \\frac{N-1}{N}\\sum_n s^2_n \\\\\n",
    "&= \\sum^N_{n=1}x^2_n - \\frac{1}{N}\\left(\\sum^N_{n=1}x_n\\right)^2 - \\sum_n \\left[\\frac{1}{N}\\sum^N_{m=1}x^2_m - \\frac{1}{N(N-1)}\\left(\\sum^N_{n=1}x_n\\right)^2 - \\frac{1}{N-1}x^2_n + \\frac{2x_n}{N(N-1)} \\sum^N_{n=1}x_n  \\right] \\\\\n",
    "&= \\frac{1}{N(N-1)}\\left(\\sum^N_{n=1}x_n\\right)^2 - \\frac{2}{N(N-1)}\\sum^N_{n=1}x_n \\sum^N_{m=1}x_m + \\frac{1}{N-1}\\sum^N_{n=1}x^2_n  \\\\\n",
    "&= \\frac{1}{N-1}\\sum^N_{n=1}x^2_n - \\frac{1}{N(N-1)}\\left(\\sum^N_{n=1}x_n\\right)^2 \\\\\n",
    "&= \\frac{N}{N-1}\\left(\\frac{1}{N}\\sum^N_{n=1}x^2_n - \\frac{1}{N^2}\\left(\\sum^N_{n=1}x_n\\right)^2\\right) \\\\\n",
    "&= \\frac{N}{N-1}s^2\\\\\n",
    "\\end{align*}\n",
    "\n",
    "* (d) If $t(\\mathcal{Z})$ has an asymptotic bias, the $E_{\\mathcal{Z}}[\\hat{\\tau}_n]$ will have the same bias. The jackknife estimate will have the same bias as well.\n",
    "\n",
    "* (e) If the leading order term in the bias was $\\frac{1}{N^2}$, since $\\frac{1}{N}$ term doesn't appear in $E_{\\mathcal{Z}}[\\hat{\\tau}_n]$, so it's not affected by the $\\frac{1}{N}$ term, the Jackknife estimate will have the same bias.\n",
    "\n",
    "#### Problem 9.25\n",
    "\n",
    "* (a) The $E_{in}$ is downward biased, i.e. tend to lower the estimate of $\\mathcal{E}_{out}(N)$. When the number of points $N$ is large, it is asymptotically unbiased.\n",
    "\n",
    "* (b) The $E_{in}(g^{(\\mathcal{D})})$ is the estimate with full data set, and $E_{in}(g^{(\\mathcal{D}_n)})$ is the estimate with leave one out sample set.\n",
    "  * (i) The pseudo-values are $\\hat{\\tau}_n = NE_{in}(g^{(\\mathcal{D})}) - (N-1)E_{in}(g^{(\\mathcal{D}_n)})$ by definition.\n",
    "  * (ii) The jackknife estimate is thus $E_J = NE_{in}(g^{(\\mathcal{D})}) - \\frac{N-1}{N}\\sum^N_{n=1}E_{in}(g^{(\\mathcal{D}_n)})$\n",
    "  \n",
    "* (c) Take expectation on   $E_{in}(g^{(\\mathcal{D}_n)})$, since it has $N-1$ data points, we have\n",
    "\n",
    "$E_{\\mathcal{D}}[E_{in}(g^{(\\mathcal{D}_n)})] = \\mathcal{E}_{out}(N-1) + \\frac{a_1}{N-1} + \\frac{a_2}{(N-1)^2} + \\dots$\n",
    "\n",
    "Take expectation on $E_J$ we have\n",
    "\n",
    "\\begin{align*}\n",
    "E_{\\mathcal{D}}[E_J] &= N E_{\\mathcal{D}}\\left[ E_{in}(g^{(\\mathcal{D})})\\right] - \\frac{N-1}{N}\\sum^N_{n=1} E_{\\mathcal{D}}\\left[E_{in} (g^{(\\mathcal{D}_n)}) \\right]\\\\\n",
    "&= N\\left[\\mathcal{E}(N)+\\frac{a_1}{N}+\\frac{a_2}{N^2}\\right] - \\frac{N-1}{N}\\sum^N_{n=1}\\left[\\mathcal{E}(N-1)+\\frac{a_1}{N-1}+\\frac{a_2}{(N-1)^2}\\right]\\\\\n",
    "&= \\mathcal{E}(N) + (N-1)(\\mathcal{E}(N) - \\mathcal{E}(N-1)) + O(\\frac{1}{N^2})\\\\\n",
    "\\end{align*}\n",
    "\n",
    "* (d) If the learning curve converges, then we have\n",
    "\n",
    "\\begin{align*}\n",
    "E_{\\mathcal{D}}[E_J] &= \\mathcal{E}(N) + (N-1)(\\mathcal{E}(N) - \\mathcal{E}(N-1)) + O(\\frac{1}{N^2}) \\\\\n",
    "&= \\mathcal{E}(N)  + (N-1)\\left(E + \\frac{b_1}{N}+\\frac{b_2}{N^2} - (E + \\frac{b_1}{N-1}+\\frac{b_2}{(N-1)^2})\\right) + O(\\frac{1}{N^2})\\\\\n",
    "&= \\mathcal{E}(N)  - \\frac{b_1}{N} +  O(\\frac{1}{N^2})\\\\\n",
    "\\end{align*}\n",
    "\n",
    "When the learning curve bias term is smaller than the in-sample bias term, for example, when the sample is not representative of the data distribution. Jackknife estimate will be helpful.\n",
    "\n",
    "#### Problem 9.26 TODO\n",
    "#### Problem 9.27 TODO\n",
    "#### Problem 9.28 TODO"
   ]
  },
  {
   "cell_type": "code",
   "execution_count": null,
   "metadata": {},
   "outputs": [],
   "source": []
  }
 ],
 "metadata": {
  "kernelspec": {
   "display_name": "Python 3",
   "language": "python",
   "name": "python3"
  },
  "language_info": {
   "codemirror_mode": {
    "name": "ipython",
    "version": 3
   },
   "file_extension": ".py",
   "mimetype": "text/x-python",
   "name": "python",
   "nbconvert_exporter": "python",
   "pygments_lexer": "ipython3",
   "version": "3.7.3"
  }
 },
 "nbformat": 4,
 "nbformat_minor": 2
}
