{
 "cells": [
  {
   "cell_type": "markdown",
   "metadata": {},
   "source": [
    "# Function Definitions"
   ]
  },
  {
   "cell_type": "code",
   "execution_count": 40,
   "metadata": {},
   "outputs": [],
   "source": [
    "import pandas as pd\n",
    "import numpy as np\n",
    "import sklearn\n",
    "import matplotlib.pyplot as plt\n",
    "from scipy.optimize import minimize\n",
    "import math\n",
    "from sklearn.preprocessing import normalize\n",
    "from functools import partial\n",
    "\n",
    "%matplotlib inline\n",
    "\n",
    "#target = -1 + 2*x1 + 2*x2 #np.array([2,2,-1])\n",
    "df = pd.DataFrame({'x1':[0,1,0,-0.5,-1,2,1,3,0.5,-1,0,-2,-3,1,2,-4,-3,3,-0.5,-2],\n",
    "                   'x2':[0,1,1,0,-1,4,-1,-5,-2,1,3,0,-1,6,8,2,3,10,2,1], \n",
    "                   'y':[1,1,1,1,1,1,1,1,1,-1,-1,-1,-1,-1,-1,-1,-1,-1,-1,-1]})\n",
    "df['x0'] = 1\n",
    "df = df[['x0','x1', 'x2', 'y']]\n",
    "\n",
    "def perceptron(points, dim, max_it=100, use_adaline=False, \n",
    "               eta = 1, randomize=False, print_out = True):\n",
    "    w = np.zeros(dim+1)\n",
    "    xs, ys = points[:,:dim+1], points[:,dim+1]\n",
    "    num_points = points.shape[0]\n",
    "    for it in range(max_it):\n",
    "        correctly_predicted_ids=  set()\n",
    "        idxs = np.arange(num_points)\n",
    "        if randomize:\n",
    "            idxs = np.random.choice(np.arange(num_points), num_points, replace=False)\n",
    "        for idx in idxs:\n",
    "            x, y = xs[idx], ys[idx]\n",
    "            st = np.dot(w.T, x)\n",
    "            prod = st*y #np.dot(w.T, x)*y\n",
    "            if prod < -100: #avoid out of bound error\n",
    "                st = -100\n",
    "            threshold = 1 if use_adaline else 0\n",
    "            st = st if use_adaline else 0\n",
    "            if prod <= threshold:\n",
    "                w = w + eta *(y-st)*x\n",
    "                break #PLA picks one example at each iteration\n",
    "            else:\n",
    "                correctly_predicted_ids.add(idx)\n",
    "        if len(correctly_predicted_ids) == num_points:\n",
    "            break\n",
    "    \n",
    "    c = 0\n",
    "    for x, y in zip(xs, ys):\n",
    "        prod = np.dot(w.T, x)*y\n",
    "        if prod > 0:\n",
    "            c +=1\n",
    "    w = w/w[-1]\n",
    "    if print_out:\n",
    "        print('final correctness: ', c, '. Total iteration: ', it)\n",
    "        print('final normalized w:', w)\n",
    "    return w, it\n",
    "    \n",
    "def flip_coins(total_coins):\n",
    "    \"\"\"Flip all coins once, return their head/tail status\n",
    "    \"\"\"\n",
    "    \n",
    "    hts = np.zeros(total_coins) #head: 1, tail: 0\n",
    "    probs = np.random.uniform(size=total_coins)\n",
    "    hts[probs > 0.5] = 1\n",
    "    return hts\n",
    "\n",
    "def run_once(total_coins, total_flips, print_freq = False):\n",
    "    v1, vrand, vmin = None, None, None\n",
    "    crand = np.random.choice(total_coins)\n",
    "    hts_sum = np.zeros(total_coins) # store the sum of heads in total_flips\n",
    "    \n",
    "    for flip in range(total_flips):\n",
    "        hts_sum = hts_sum + flip_coins(total_coins)\n",
    "    \n",
    "    hts_freq = hts_sum/total_flips\n",
    "    \n",
    "    v1 = hts_freq[0]\n",
    "    vrand = hts_freq[crand]\n",
    "    cmin = np.argmin(hts_sum)\n",
    "    vmin = hts_freq[cmin]\n",
    "    \n",
    "    if print_freq:\n",
    "        print('Frequency of first coin: {}'.format(v1))\n",
    "        print('Frequency of a random coin: id({})-freq({})'.format(crand, vrand))\n",
    "        print('Frequency of the coin with minimum frequency: id({})-freq({})'.format(cmin, vmin))\n",
    "    return v1,vrand,vmin\n",
    "\n",
    "def hoeffding_bound(epsilon, n):\n",
    "    return 2.0*np.exp(-2.0*n*epsilon**2)\n",
    "\n",
    "\n",
    "def generate_random_numbers01(N, dim, num_grid_points):\n",
    "    random_ints = np.random.randint(num_grid_points, size=(N, dim))\n",
    "    init_lb = 0\n",
    "    return (random_ints - init_lb)/(num_grid_points - 1 - init_lb)\n",
    "\n",
    "def generate_random_numbers(N, dim, num_grid_points, lb, ub):\n",
    "    zero_to_one_points = generate_random_numbers01(N, dim, num_grid_points)\n",
    "    res = lb + (ub - lb)*zero_to_one_points\n",
    "    return res\n",
    "\n",
    "def generate_random_coeffs(dim):\n",
    "    rn = generate_random_numbers(1, dim, 1000, -10, 10)\n",
    "    return rn\n",
    "\n",
    "def true_f(x, coeffs):\n",
    "    return coeffs.flatten()[0] + np.dot(coeffs.flatten()[1:], x.flatten())\n",
    "\n",
    "def generate_two_classes(N, dim, true_func, rn_func):\n",
    "    cls1, cls2 = [], []\n",
    "    while True:\n",
    "        rn = rn_func(1, dim).flatten()\n",
    "        if true_func(rn) > 0 and len(cls1) < N:\n",
    "            cls1.append(rn)\n",
    "        elif true_func(rn) < 0 and len(cls2) < N:\n",
    "            cls2.append(rn)\n",
    "        if len(cls1) == N and len(cls2) == N:\n",
    "            break\n",
    "    return np.asarray(cls1), np.asarray(cls2)    \n",
    "\n",
    "def generate_df(N, dim,true_func, rn_func):\n",
    "    cls1, cls2 = generate_two_classes(N/2, dim, true_func, rn_func)\n",
    "    cols = ['x' + str(i) for i in range(1, dim+1)]\n",
    "    df1 = pd.DataFrame(cls1, columns=cols)\n",
    "    df1['y'] = 1\n",
    "    df2 = pd.DataFrame(cls2, columns=cols)\n",
    "    df2['y'] = -1\n",
    "    df = pd.concat([df1, df2])\n",
    "    df['x0'] = 1\n",
    "    df = df[['x0'] + cols + ['y']]\n",
    "    return df\n",
    "\n",
    "def plot_data(x1, df, norm_coeffs, norm_g, lb, ub):\n",
    "        figsize = plt.figaspect(1)\n",
    "        f, ax = plt.subplots(1, 1, figsize=figsize)\n",
    "        cls1_df = df.loc[df['y']==1]\n",
    "        cls2_df = df.loc[df['y']==-1]\n",
    "        line = ax.plot(x1, -(norm_coeffs[0]+norm_coeffs[1]*x1), label='True Function')\n",
    "        pluses = ax.scatter(cls1_df[['x1']].values, cls1_df[['x2']].values, marker='+', c= 'r', label='+1 labels')\n",
    "        minuses = ax.scatter(cls2_df[['x1']].values, cls2_df[['x2']].values, marker=r'$-$', c= 'b', label='-1 labels')\n",
    "        if norm_g is not None:\n",
    "            hypothesis = ax.plot(x1, -(norm_g[0]+norm_g[1]*x1), c = 'r', label='Final Hypothesis')\n",
    "\n",
    "        ax.set_ylabel(r\"$x_2$\", fontsize=11)\n",
    "        ax.set_xlabel(r\"$x_1$\", fontsize=11)\n",
    "        ax.set_title('Data set size = %s'%N, fontsize=9)\n",
    "        ax.axis('tight')\n",
    "        legend_x = 2.0\n",
    "        legend_y = 0.5\n",
    "        ax.legend(['True Function', 'Final Hypothesis', \n",
    "                   '+1 labels', '-1 labels', ], \n",
    "                  loc='center right', bbox_to_anchor=(legend_x, legend_y))\n",
    "        #ax.legend(handles=[pluses, minuses], fontsize=9)\n",
    "        ax.set_ylim(bottom=lb, top=ub)\n",
    "        plt.show()\n",
    "        \n",
    "def run_perceptron_experiment(N, dim, lb, ub, num_grid_points, coeff_lb, coeff_ub, \n",
    "                              eta, maxit, use_adaline=False, randomize=False,\n",
    "                              show_plot=True, test_N = 10000):\n",
    "    \n",
    "    rns = generate_random_numbers(N, dim, num_grid_points, lb, ub)\n",
    "    rn_func = partial(generate_random_numbers, num_grid_points = num_grid_points, lb = lb, ub = ub)\n",
    "    coeffs = generate_random_numbers(1, dim+1, num_grid_points, coeff_lb, coeff_ub)\n",
    "    norm_coeffs = coeffs.flatten()/coeffs.flatten()[-1]\n",
    "    true_func = partial(true_f, coeffs = norm_coeffs)\n",
    "    \n",
    "    df = generate_df(N, dim, true_func, rn_func)\n",
    "    test_df = generate_df(test_N, dim, true_func, rn_func)\n",
    "    \n",
    "    x1 = np.arange(lb, ub, 0.01)\n",
    "    norm_g, num_its = perceptron(df.values, dim, maxit, use_adaline, \n",
    "                                 eta, randomize, show_plot)\n",
    "    \n",
    "    if show_plot:\n",
    "        print('True coeffs: ', norm_coeffs)\n",
    "        plot_data(x1, df, norm_coeffs, norm_g, lb, ub)\n",
    "    return num_its, norm_g, test_df"
   ]
  },
  {
   "cell_type": "markdown",
   "metadata": {},
   "source": [
    "# Chapter 1 The Learning Problem\n",
    "\n",
    "## Exercises\n",
    "\n",
    "#### Exercise 1.1\n",
    "\n",
    "1. (a) \n",
    "  * Input space $\\mathcal{X}$: patient's medical history, symptoms, personal health information etc.\n",
    "  * Output space $\\mathcal{Y}$: all possible diseases\n",
    "  * target function $f: \\mathcal{X} \\to \\mathcal{Y}$: ideal formula to identify a patient's problem\n",
    "  * Data set: All available patients' information and their corresponding correct problem diagnostic.\n",
    "2. (b)\n",
    "  * Input space $\\mathcal{X}$: handwritten digits (digitalized)\n",
    "  * Output space $\\mathcal{Y}$: 0-9 digits\n",
    "  * target function $f: \\mathcal{X} \\to \\mathcal{Y}$: ideal formula match a handwritten digit to a correct digit\n",
    "  * Data set: handwritten digits and their corresponding correct matches\n",
    "3. (c)\n",
    "  * Input space $\\mathcal{X}$: every information of an email, e.g. words\n",
    "  * Output space $\\mathcal{Y}$: yes/no \n",
    "  * target function $f: \\mathcal{X} \\to \\mathcal{Y}$: ideal formula to identify whether an email is spam or not\n",
    "  * Data set: Spam and non-spam emails that have been identified by human\n",
    "4. (d)\n",
    "  * Input space $\\mathcal{X}$: price of electric, temperature, day of the week\n",
    "  * Output space $\\mathcal{Y}$: electric load\n",
    "  * target function $f: \\mathcal{X} \\to \\mathcal{Y}$: ideal function that gives exact electric load for a given price, temperature and day of the week.\n",
    "  * Data set: historical electric load along with corresponding price, temperature and day of the week information.\n",
    "5. (e) \n",
    "  * Input space $\\mathcal{X}$: cat images \n",
    "  * Output space $\\mathcal{Y}$: types of cats\n",
    "  * target function $f: \\mathcal{X} \\to \\mathcal{Y}$: ideal function that gives cat type according to the picture\n",
    "  * Data set: picutres with cats that have been categorized to various types\n",
    "\n",
    "#### Exercise 1.2\n",
    "1. (a) Keywords with a large positive weight: free, cheap, earn, !\n",
    "1. (b) Keywords with a negative weight: person name, hi, the\n",
    "1. (c) The parameter $b$ in perceptron directly affects how many borderline messages end up being classified as spam. This is because $b$ is the threshold used to classify the emails into spam and non-spam categories.\n",
    "\n",
    "#### Exercise 1.3\n",
    "1. (a) If $x(t)$ is misclassified by $w(t)$, then $w^T(t)x(t)$ has different signs of $y(t)$, thus $y(t)w^T(t)x(t) \\gt 0$.\n",
    "2. (b)\n",
    "\n",
    "\\begin{align*}\n",
    "y(t)w^T(t+1)x(t) &= y(t) \\left(w(t)+y(t)x(t)\\right)^Tx(t) \\\\\n",
    "&= y(t)\\left(w^T(t) + y(t)x^T(t)\\right)x(t) \\\\\n",
    "&= y(t)w^T(t)x(t) + y(t)y(t)x^T(t)x(t)\\\\\n",
    "&\\gt y(t)w^T(t)x(t) \\;\\;\\;\\text{because the last term is } \\ge \\text{ than } 0\\\\\n",
    "\\end{align*}\n",
    "\n",
    "3. (c) \n",
    "\n",
    "From previous problem, we see that $y(t)w^T(t)x(t)$ is increasing with each update. \n",
    "\n",
    "If $y(t)$ is positive, but $w^T(t)x(t)$ is negative, we move $w^T(t)x(t)$ toward positive by increasing it. \n",
    "\n",
    "If however $y(t)$ is negative, but $w^T(t)x(t)$ is positive, $y(t)w^T(t)x(t)$ increases means $w^T(t)x(t)$ is decreasing, i.e. moving toward negative region. \n",
    "\n",
    "So the move from $w(t)$ to $w(t+1)$ is a move \"in the right direction\" as far as classifying $x(t)$ is concerned."
   ]
  },
  {
   "cell_type": "markdown",
   "metadata": {},
   "source": [
    "#### Exercise 1.4\n",
    "Implement the perceptron learning algorithm and check\n",
    "* Convergence speed: The convergence is fast, it depends on the data, but usually it only takes about 10 iterations to find a solution.\n",
    "* How well the final hypothesis $g$ matches your target $f$: The final hypothesis $g$ doesn't match my target $f$ very closely in terms of their coefficients. But from picture, they are largely in line with each other in the range of data."
   ]
  },
  {
   "cell_type": "code",
   "execution_count": 7,
   "metadata": {},
   "outputs": [
    {
     "name": "stdout",
     "output_type": "stream",
     "text": [
      "final correctness:  20 . Total iteration:  2\n",
      "final normalized w: [0.02354535 0.26266196 1.        ]\n",
      "True coeffs:  [2.16057234 0.3672496  1.        ]\n"
     ]
    },
    {
     "data": {
      "image/png": "[encoded data removed]",
      "text/plain": [
       "<Figure size 288x288 with 1 Axes>"
      ]
     },
     "metadata": {
      "needs_background": "light"
     },
     "output_type": "display_data"
    }
   ],
   "source": [
    "#perceptron(df.values, 2)\n",
    "\n",
    "lb, ub = -100, 100\n",
    "N, dim = 20, 2 \n",
    "num_grid_points = 2000\n",
    "coeff_lb, coeff_ub = -10, 10\n",
    "eta = 1\n",
    "maxit = 100\n",
    "use_adaline, randomize = False, False\n",
    "_, _, _ = run_perceptron_experiment(N, dim, lb, ub, num_grid_points,\n",
    "                             coeff_lb, coeff_ub, eta, maxit, use_adaline, randomize)"
   ]
  },
  {
   "cell_type": "markdown",
   "metadata": {},
   "source": [
    "#### Exercise 1.5\n",
    "1. (a) Learning\n",
    "1. (b) Design\n",
    "1. (c) Learning\n",
    "1. (d) Design\n",
    "1. (e) Learning\n",
    "\n",
    "#### Exercise 1.6\n",
    "1. (a) Supervised Learning\n",
    "1. (b) Reinforcement Learning\n",
    "1. (c) Unsupervised Learning\n",
    "1. (d) Learning to play music\n",
    "  * If learn by yourself, it's unsupervised learning\n",
    "  * If learn from a teacher, it's supervised learning\n",
    "  * If learn by yourself but with someone to tell you if your music is good or not, it's reinforcement learning. \n",
    "1. (e) Supervised Learning\n",
    "\n",
    "#### Exercise 1.7\n",
    "1. (a) The learning algorithm will pick the final hypothesis that always returns 1. \n",
    "  * 1 out of 8 $f$ agrees with $g$ on all three points; 3 $f$ agree with $g$ on two of the points; 3 $f$ agree with $g$ on one of the points, 1 $f$ agrees with none of the points. \n",
    "1. (b) The learning algorithm will pick the final hypothesis that always returns 0. \n",
    "  * 1 out of 8 $f$ agrees with $g$ on all three points; 3 $f$ agree with $g$ on two of the points; 3 $f$ agree with $g$ on one of the points, 1 $f$ agrees with none of the points.\n",
    "1. (c) The learning algorithm will pick the final hypothesis $XOR$. \n",
    "  * 1 out of 8 $f$ agrees with $g$ on all three points; 3 $f$ agree with $g$ on two of the points; 3 $f$ agree with $g$ on one of the points, 1 $f$ agrees with none of the points.\n",
    "1. (d) The learning algorithm will pick the final hypothesis $f_7$. \n",
    "  * 1 out of 8 $f$ agrees with $g$ on all three points; 3 $f$ agree with $g$ on two of the points; 3 $f$ agree with $g$ on one of the points, 1 $f$ agrees with none of the points.\n",
    "  \n",
    "#### Exercise 1.8\n",
    "\n",
    "In a sample of 10 marbles, for the fraction $\\nu$ of red marbles to be $\\nu \\le 0.1$, we must have at most one red marbles. \n",
    "\n",
    "\\begin{align*}\n",
    "P(number\\;of\\;red \\le 1) &= P(red = 0) + P(red = 1) \\\\\n",
    "&= (1-\\mu)^{10} + \\mu (1-\\mu)^9\\\\\n",
    "&= (1-\\mu)^9\\\\\n",
    "&= 1.0e-9\n",
    "\\end{align*}\n",
    "\n",
    "#### Exercise 1.9\n",
    "We have $\\mu=0.9$, $N=10$, and want $\\nu \\le 0.1$, i.e. $|\\mu - \\nu| = \\mu - \\nu \\ge 0.9 - 0.1 = 0.8$. Let's pick $\\epsilon = 0.7$, then according to Hoeffding Inequity, we have\n",
    "\n",
    "\\begin{align*}\n",
    "P(\\nu \\le 0.1) &= P(\\mu - \\nu \\ge 0.8)\\\\\n",
    "&= P(|\\mu - \\nu| \\ge 0.8) \\\\\n",
    "&\\le P(|\\mu - \\nu| \\gt 0.7) \\\\\n",
    "&= P(|\\mu - \\nu| \\gt \\epsilon) \\\\\n",
    "&\\le 2e^{-2\\epsilon^2N}\\\\\n",
    "&\\approx 0.0001109032\n",
    "\\end{align*}\n",
    "\n",
    "This is an upper bound of the probability from pervious problem and is much larger than the calculated probability.\n"
   ]
  },
  {
   "cell_type": "markdown",
   "metadata": {},
   "source": [
    "#### Exercise 1.10\n",
    "1. (a) The $\\mu$ for the three coins are all $0.5$ since the coins are fair."
   ]
  },
  {
   "cell_type": "code",
   "execution_count": 70,
   "metadata": {},
   "outputs": [
    {
     "name": "stdout",
     "output_type": "stream",
     "text": [
      "Frequency of first coin: 0.5\n",
      "Frequency of a random coin: id(83)-freq(0.3)\n",
      "Frequency of the coin with minimum frequency: id(7)-freq(0.0)\n"
     ]
    },
    {
     "data": {
      "text/plain": [
       "(0.5, 0.3, 0.0)"
      ]
     },
     "execution_count": 70,
     "metadata": {},
     "output_type": "execute_result"
    }
   ],
   "source": [
    "# Exercise 1.10 (a) \n",
    "total_coins = 1000\n",
    "total_flips = 10\n",
    "run_once(total_coins, total_flips, True)"
   ]
  },
  {
   "cell_type": "code",
   "execution_count": 56,
   "metadata": {},
   "outputs": [
    {
     "data": {
      "text/plain": [
       "(array([6.23941e+05, 0.00000e+00, 0.00000e+00, 0.00000e+00, 0.00000e+00,\n",
       "        3.76049e+05, 0.00000e+00, 0.00000e+00, 0.00000e+00, 1.00000e+01]),\n",
       " array([0.  , 0.02, 0.04, 0.06, 0.08, 0.1 , 0.12, 0.14, 0.16, 0.18, 0.2 ]),\n",
       " <a list of 10 Patch objects>)"
      ]
     },
     "execution_count": 56,
     "metadata": {},
     "output_type": "execute_result"
    },
    {
     "name": "stderr",
     "output_type": "stream",
     "text": [
      "C:\\ProgramData\\Anaconda3\\lib\\site-packages\\matplotlib\\figure.py:2369: UserWarning: This figure includes Axes that are not compatible with tight_layout, so results might be incorrect.\n",
      "  warnings.warn(\"This figure includes Axes that are not compatible \"\n"
     ]
    },
    {
     "data": {
      "image/png": "[encoded data removed]",
      "text/plain": [
       "<Figure size 432x288 with 3 Axes>"
      ]
     },
     "metadata": {
      "needs_background": "light"
     },
     "output_type": "display_data"
    }
   ],
   "source": [
    "# Exercise 1.10 (b) \n",
    "total_coins = 1000\n",
    "total_flips = 10\n",
    "total_runs = 1000000\n",
    "v1s, vrands, vmins = [],[],[]\n",
    "for run in range(total_runs):\n",
    "    v1,vrand,vmin = run_once(total_coins, total_flips)\n",
    "    v1s.append(v1)\n",
    "    vrands.append(vrand)\n",
    "    vmins.append(vmin)\n",
    "\n",
    "fig, axs = plt.subplots(1,3,sharey=True, tight_layout=True)\n",
    "n_bins = 10\n",
    "axs[0].hist(v1s,bins=n_bins)\n",
    "axs[1].hist(vrands,bins=n_bins)\n",
    "axs[2].hist(vmins,bins=n_bins)"
   ]
  },
  {
   "cell_type": "code",
   "execution_count": 65,
   "metadata": {},
   "outputs": [
    {
     "data": {
      "text/plain": [
       "<matplotlib.legend.Legend at 0x230e84aef98>"
      ]
     },
     "execution_count": 65,
     "metadata": {},
     "output_type": "execute_result"
    },
    {
     "data": {
      "image/png": "[encoded data removed]",
      "text/plain": [
       "<Figure size 432x288 with 1 Axes>"
      ]
     },
     "metadata": {
      "needs_background": "light"
     },
     "output_type": "display_data"
    }
   ],
   "source": [
    "# Exercise 1.10 (c)\n",
    "eps = np.arange(0.0,0.5,0.05)\n",
    "bounds = hoeffding_bound(eps, total_flips)\n",
    "v1s, vrands, vmins = np.array(v1s), np.array(vrands), np.array(vmins)\n",
    "v1d = np.abs(v1s-0.5)\n",
    "vrandd = np.abs(vrands-0.5)\n",
    "vmind = np.abs(vmins-0.5)\n",
    "\n",
    "p1, prand, pmin = np.zeros(len(eps)),np.zeros(len(eps)),np.zeros(len(eps))\n",
    "\n",
    "for idx in range(eps.shape[0]):\n",
    "    ep = eps[idx]\n",
    "    p1[idx] = np.sum(v1d > ep)/total_runs\n",
    "    prand[idx] = np.sum(vrandd > ep)/total_runs\n",
    "    pmin[idx] = np.sum(vmind > ep)/total_runs\n",
    "\n",
    "#plt.ylim((0,0.01))    \n",
    "plt.plot(eps, bounds, marker='o', markerfacecolor='blue', markersize=8, color='skyblue', label='Hoeffding Bound')\n",
    "plt.plot(eps, p1, marker='', color='r', linewidth=1, label='First Coin')\n",
    "plt.plot(eps, prand, marker='', color='g', linewidth=1, linestyle='dashed', label='Random Coin')\n",
    "plt.plot(eps, pmin, marker='', color='y', linewidth=1, linestyle='dashed', label='Coin with Minimum Freq')\n",
    "plt.legend()"
   ]
  },
  {
   "cell_type": "markdown",
   "metadata": {},
   "source": [
    "#### Exercise 1.10\n",
    "1. (d) The first and random coins follow the Hoeffding bound. The coin with minimum frequency doesn't obey Hoeffding bound. This is because that for the first two coins, the coins were chosen before the experiment. While for the last one, we have to flip all the coins first, and use the data to compute out which is the coin with minimum frequency of heads. This violates the Hoeffding inequality condition which says the hypothesis $h$ has been fixed before samples were drawn.\n",
    "\n",
    "1. (e) When we choose the coin having the minimum frequency of heads. We are like choosing the bin from 1000 bins (our hypothesis space). But we choose bin after we finish sampling the data.  This is akin to learning algorithm for the final hypothesis. The other two coins were chosen before the sampling, which is choosing bin beforehand."
   ]
  },
  {
   "cell_type": "markdown",
   "metadata": {},
   "source": [
    "#### Exercise 1.11\n",
    "\n",
    "1. (a) $S$ can not produce a hypothesis that is guaranteed to perform better than random on any point outside $\\mathcal{D}$. \n",
    "If $f$ has 25 $+1$ on $\\mathcal{D}$ but $-1$ on all other points in $\\mathcal{X}$, $S$ will choose the hypothesis $h_1$, which will not match $f$ outside of $\\mathcal{D}$ at all. On the other hand, a random function will have $+1$ and $-1$ 50/50, and it matches $f$ half of time, which is better than the function produced by $S$.\n",
    "\n",
    "1. (b) It is possible that $C$ produces a better hypothesis than $S$ produces. See the example above.\n",
    "1. (c) If every point in $\\mathcal{D}$ has 1, then $S$ will choose $h_1$ and $C$ will choose $h_2$. So outside of $\\mathcal{D}$, $h_1$ will have 90% chance to match with $f$, while $h_2$ will have only 10% chance. $S$ will always produce a better hypothesis than $C$. \n",
    "\n",
    "1. (d) From previous problem, we can see that when $p \\lt 0.5$, $C$ will produce a better hypothesis than $S$. Since $C$ always produce $h_2$, which will match $f$ better than $h_1$ if $p \\lt 0.5$.\n",
    "\n",
    "#### Exercise 1.12\n",
    "\n",
    "I think the best I can promise is (c). \n",
    "* The unknown target $f$ can be very complex that we can't learn at all.\n",
    "* If we can learn and produce a hypothesis $g$, since there are many data points (4000), the probability that $g$ matches $f$ is high according to Hoeffding inequality, and the error on $g$ might be small since we have a large data set.\n",
    "\n",
    "#### Exercise 1.13\n",
    "\n",
    "1. (a) The probability of error that $h$ makes in approximating $y$ is\n",
    "\n",
    "\\begin{align*}\n",
    "P(h \\ne y) &= P(h \\ne y| y = f(x))P(y=f(x)) + P(h\\ne y| y \\ne f(x))P(y\\ne f(x))\\\\\n",
    "&= \\mu \\lambda + (1-\\mu)(1-\\lambda)\\\\\n",
    "&= \\mu (2 \\lambda - 1) + (1-\\lambda)\\\\\n",
    "\\end{align*}\n",
    "\n",
    "1. (b) It can be seen from previous problem, that when $\\lambda = 0.5$, $P(h\\ne y) = 1-\\lambda = 0.5$, is independent of $\\mu$."
   ]
  }
 ],
 "metadata": {
  "kernelspec": {
   "display_name": "Python 3",
   "language": "python",
   "name": "python3"
  },
  "language_info": {
   "codemirror_mode": {
    "name": "ipython",
    "version": 3
   },
   "file_extension": ".py",
   "mimetype": "text/x-python",
   "name": "python",
   "nbconvert_exporter": "python",
   "pygments_lexer": "ipython3",
   "version": "3.7.3"
  }
 },
 "nbformat": 4,
 "nbformat_minor": 2
}
