{
 "cells": [
  {
   "cell_type": "markdown",
   "metadata": {},
   "source": [
    "# Differential Calculus"
   ]
  },
  {
   "cell_type": "markdown",
   "metadata": {},
   "source": [
    "## Limits\n",
    "\n",
    "### Convergence\n",
    "* $\\epsilon$ (**epsilon**): An arbitrarily samll positive number\n",
    "\n",
    "* Consider a sequence of numbers $a_1, a_2, a_3, \\dots $, we say the **limit of the sequence** is $L$ if the numbers $a_n - L $ **converge** to zero, and we write: \n",
    "\n",
    "\\begin{equation}\n",
    "a_n \\to L\\quad \\text{  or  }  \\quad\\lim a_n = L\\quad  \\text{  or  }\\quad  \\lim\\limits_{n \\to \\infty} a_n = L\n",
    "\\end{equation}\n",
    "\n",
    "* (Definition of **Convergence**) We say the numbers $a_n$ converge to $L$ if the following condition is statisfied\n",
    "\n",
    "\\begin{equation*}\n",
    "             \\text{  for any  }\\;\\epsilon \\gt 0 \\;\\text{  there is an  }\\; N \\;\\text{  such that  }\\; |a_n - L| \\lt\\epsilon \\quad\\text{ if }\\; n \\gt N.\n",
    "\\end{equation*}\n",
    "\n",
    "### The Limit of $f(x)$ as $x \\to a$\n",
    "#### epsilon-delta definition of limits\n",
    "* We say the limit of a function $f(x)$ is $L$ when $x \\to a$, i.e., $\\lim \\limits_{x\\to a} f(x) = L$, if the following condition is satisfied\n",
    "\n",
    "\\begin{equation*}\n",
    "\\forall \\epsilon \\gt 0, \\exists \\delta \\gt 0 \\;\\text{ such that }\\; \\forall x \\in D \\;\\text{ if }\\;0<|x-a|<\\delta \\;\\text{ then }\\;|f(x) - L| < \\epsilon\n",
    "\\end{equation*}\n",
    "\n",
    "Where $D$ is the domain of function $f(x)$.\n",
    "* Or informally, A viable intuitive or provisional definition is that a \"function $f$ approaches the limit $L$ near $a$, if we can make $f(x)$ as close as we like to $L$ by requiring that $x$ be sufficiently close to, but unequal to, $a$\".\n",
    "\n",
    "### The Squeeze Theorem:\n",
    "Suppose $f(x) \\le g(x) \\le h(x)$ for $x$ near $a$. If $f(x) \\to L$ and $h(x) \\to L$ as $x \\to a$, then the limit of $g(x)$ is also $L$."
   ]
  },
  {
   "cell_type": "markdown",
   "metadata": {},
   "source": [
    "## Continuous Functions\n",
    "### When $f(x)$ is **continuous** at $x=a$ if:\n",
    "1. The number $f(a)$ exists ($f$ is defined at $a$)\n",
    "1. The limit of $f(x)$ exists (it was called $L$)\n",
    "1. The limit $L$ equals $f(a)$ ($f(a)$ is the right value)\n",
    "\n",
    "The last two conditions can be combined as one: $f(x)\\to f(a)\\;as\\;x \\to a$\n",
    "\n",
    "### If $f$ is continuous at every point where it is defined, it is a continuous function.\n",
    "\n",
    "* N.B. However this definition makes $f(x) = \\frac{1}{x}$ a continuous function although we know there's no finite limit at $x=0$. But since $f(x)$ is not defined at $x=0$, so its continuity can't fail. "
   ]
  },
  {
   "cell_type": "markdown",
   "metadata": {},
   "source": [
    "## Derivative\n",
    "### A central question of differential calculus is to know how fast the limit is approached. The speed of approach is exactly the information in the derivative.\n",
    "\n",
    "### Theorem: At a point where $f(x)$ has a derivative, the function must be continuous. But $f(x)$ can be continuous with no derivative.\n",
    "\n",
    "## The three basic definitions of Calculus\n",
    "* **Limit**: $n \\to \\infty \\;or\\; x \\to a)$\n",
    "* **Continuity**: $at\\; x=a$\n",
    "* **Derivative**:  $at\\; x=a$\n",
    "\n",
    "## Directional Derivative\n",
    "### Definition\n",
    "The derivative of $f(x,y)$ in the direction $\\vec{u}$ (a unit vector) at the point $P$ is $D_uf(P)$:\n",
    "\\begin{equation}\n",
    "D_uf(P) = \\lim \\limits_{\\Delta s \\to 0} \\frac{\\Delta f}{\\Delta s}=\\lim \\limits_{\\Delta s \\to 0}\\frac{f(P+\\vec{u}\\Delta s)-f(P)}{\\Delta s}\n",
    "\\end{equation}\n",
    "\n",
    "The step from $P=(x_0, y_0)$ has length $\\Delta s$. It takes use to $(x_0 + u_1\\Delta s, y_0 + u_2 \\Delta s)$\n",
    "\n",
    "### Calculation\n",
    "The directional derivative $D_uf$ in the direction $\\vec{u}=(u_1, u_2)$ equals\n",
    "\\begin{equation}\n",
    "D_uf=\\frac{\\partial f}{\\partial x}u_1 + \\frac{\\partial f}{\\partial y}u_2\n",
    "\\end{equation}\n",
    "\n",
    "### The Gradient Vector\n",
    "* The gradient of $f(x,y)$ is the vector whose components are $\\frac{\\partial f}{\\partial x}$ and $\\frac{\\partial f}{\\partial y}$:\n",
    "\\begin{equation}\n",
    "grad f = \\nabla f = \\frac{\\partial f}{\\partial x}\\vec{i} + \\frac{\\partial f}{\\partial y}\\vec{j}\n",
    "\\end{equation}\n",
    "* The directional derivative is $D_u f=(grad f)\\bullet \\vec{u}$. The level direction is perpendicular to $grad f$, since $D_uf=0$. "
   ]
  },
  {
   "cell_type": "markdown",
   "metadata": {},
   "source": []
  },
  {
   "cell_type": "markdown",
   "metadata": {},
   "source": [
    "# References\n",
    "1. [MIT Directional Directives](files/references/MIT18_02SC_notes_20_Directional Derivatives.pdf)\n",
    "1. [Calculus, Gilbert Strang, MIT](files/references/Calculus_Gilbert Strang.pdf)"
   ]
  }
 ],
 "metadata": {
  "kernelspec": {
   "display_name": "Python 3",
   "language": "python",
   "name": "python3"
  },
  "language_info": {
   "codemirror_mode": {
    "name": "ipython",
    "version": 3
   },
   "file_extension": ".py",
   "mimetype": "text/x-python",
   "name": "python",
   "nbconvert_exporter": "python",
   "pygments_lexer": "ipython3",
   "version": "3.7.3"
  }
 },
 "nbformat": 4,
 "nbformat_minor": 2
}
