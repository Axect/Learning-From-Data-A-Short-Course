{
 "cells": [
  {
   "cell_type": "markdown",
   "metadata": {},
   "source": [
    "# Directional Directives"
   ]
  },
  {
   "cell_type": "markdown",
   "metadata": {},
   "source": [
    "## Limits\n",
    "\n",
    "### Convergence\n",
    "* $\\epsilon$ (**epsilon**): An arbitrarily samll positive number\n",
    "\n",
    "* Consider a sequence of numbers $a_1, a_2, a_3, \\dots $, we say the **limit of the sequence** is $L$ if the numbers $a_n - L $ **converge** to zero, and we write: \n",
    "\n",
    "\\begin{equation}\n",
    "a_n \\to L\\quad \\text{  or  }  \\quad\\lim a_n = L\\quad  \\text{  or  }\\quad  \\lim\\limits_{n \\to \\infty} a_n = L\n",
    "\\end{equation}\n",
    "\n",
    "* (Definition of **Convergence**) We say the numbers $a_n$ converge to $L$ if the following condition is statisfied\n",
    "\n",
    "\\begin{equation*}\n",
    "             \\text{  for any  }\\;\\epsilon \\gt 0 \\;\\text{  there is an  }\\; N \\;\\text{  such that  }\\; |a_n - L| \\lt\\epsilon \\quad\\text{ if }\\; n \\gt N.\n",
    "\\end{equation*}\n",
    "\n",
    "### The Limit of $f(x)$ as $x \\to a$\n",
    "#### epsilon-delta definition of limits\n",
    "* We say the limit of a function $f(x)$ is $L$ when $x \\to a$, i.e., $\\lim \\limits_{x\\to a} f(x) = L$, if the following condition is satisfied\n",
    "\n",
    "\\begin{equation*}\n",
    "\\forall \\epsilon \\gt 0, \\exists \\delta \\gt 0 \\;\\text{ such that }\\; \\forall x \\in D \\;\\text{ if }\\;0<|x-a|<\\delta \\;\\text{ then }\\;|f(x) - L| < \\epsilon\n",
    "\\end{equation*}\n",
    "\n",
    "Where $D$ is the domain of function $f(x)$.\n",
    "* Or informally, A viable intuitive or provisional definition is that a \"function $f$ approaches the limit $L$ near $a$, if we can make $f(x)$ as close as we like to $L$ by requiring that $x$ be sufficiently close to, but unequal to, $a$\".\n",
    "\n",
    "### The Squeeze Theorem:\n",
    "Suppose $f(x) \\le g(x) \\le h(x)$ for $x$ near $a$. If $f(x) \\to L$ and $h(x) \\to L$ as $x \\to a$, then the limit of $g(x)$ is also $L$."
   ]
  },
  {
   "cell_type": "markdown",
   "metadata": {},
   "source": [
    "## Continuous Functions\n",
    "### When $f(x)$ is **continuous** at $x=a$ if:\n",
    "1. The number $f(a)$ exists ($f$ is defined at $a$)\n",
    "1. The limit of $f(x)$ exists (it was called $L$)\n",
    "1. The limit $L$ equals $f(a)$ ($f(a)$ is the right value)\n",
    "\n",
    "The last two conditions can be combined as one: $f(x)\\to f(a)\\;as\\;x \\to a$\n",
    "\n",
    "### If $f$ is continuous at every point where it is defined, it is a continuous function."
   ]
  },
  {
   "cell_type": "markdown",
   "metadata": {},
   "source": []
  },
  {
   "cell_type": "markdown",
   "metadata": {},
   "source": []
  },
  {
   "cell_type": "markdown",
   "metadata": {},
   "source": [
    "# References\n",
    "1. [MIT Directional Directives](files/references/MIT18_02SC_notes_20_Directional Derivatives.pdf)\n",
    "1. [Calculus, Gilbert Strang, MIT](files/references/Calculus_Gilbert Strang.pdf)"
   ]
  }
 ],
 "metadata": {
  "kernelspec": {
   "display_name": "Python 3",
   "language": "python",
   "name": "python3"
  },
  "language_info": {
   "codemirror_mode": {
    "name": "ipython",
    "version": 3
   },
   "file_extension": ".py",
   "mimetype": "text/x-python",
   "name": "python",
   "nbconvert_exporter": "python",
   "pygments_lexer": "ipython3",
   "version": "3.7.3"
  }
 },
 "nbformat": 4,
 "nbformat_minor": 2
}
